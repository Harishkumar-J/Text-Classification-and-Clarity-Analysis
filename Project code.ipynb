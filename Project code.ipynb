{
  "nbformat": 4,
  "nbformat_minor": 0,
  "metadata": {
    "colab": {
      "provenance": []
    },
    "kernelspec": {
      "name": "python3",
      "display_name": "Python 3"
    },
    "language_info": {
      "name": "python"
    },
    "widgets": {
      "application/vnd.jupyter.widget-state+json": {
        "e6ba2f4e51c548e3b5577e9b06e62990": {
          "model_module": "@jupyter-widgets/controls",
          "model_name": "HBoxModel",
          "model_module_version": "1.5.0",
          "state": {
            "_dom_classes": [],
            "_model_module": "@jupyter-widgets/controls",
            "_model_module_version": "1.5.0",
            "_model_name": "HBoxModel",
            "_view_count": null,
            "_view_module": "@jupyter-widgets/controls",
            "_view_module_version": "1.5.0",
            "_view_name": "HBoxView",
            "box_style": "",
            "children": [
              "IPY_MODEL_eab821d1cf414b169ec635445bf3aae6",
              "IPY_MODEL_dc07fad7dbfc47ecbd20283506487390",
              "IPY_MODEL_aeb256c157b4451eba2c7b44b1853982"
            ],
            "layout": "IPY_MODEL_c520d103ee86482287bc290b923b330a"
          }
        },
        "eab821d1cf414b169ec635445bf3aae6": {
          "model_module": "@jupyter-widgets/controls",
          "model_name": "HTMLModel",
          "model_module_version": "1.5.0",
          "state": {
            "_dom_classes": [],
            "_model_module": "@jupyter-widgets/controls",
            "_model_module_version": "1.5.0",
            "_model_name": "HTMLModel",
            "_view_count": null,
            "_view_module": "@jupyter-widgets/controls",
            "_view_module_version": "1.5.0",
            "_view_name": "HTMLView",
            "description": "",
            "description_tooltip": null,
            "layout": "IPY_MODEL_425a0e86eb004798ab9bb441e9fca0ec",
            "placeholder": "​",
            "style": "IPY_MODEL_3cc8963d1db84e45b35f9d780879b724",
            "value": "tokenizer_config.json: 100%"
          }
        },
        "dc07fad7dbfc47ecbd20283506487390": {
          "model_module": "@jupyter-widgets/controls",
          "model_name": "FloatProgressModel",
          "model_module_version": "1.5.0",
          "state": {
            "_dom_classes": [],
            "_model_module": "@jupyter-widgets/controls",
            "_model_module_version": "1.5.0",
            "_model_name": "FloatProgressModel",
            "_view_count": null,
            "_view_module": "@jupyter-widgets/controls",
            "_view_module_version": "1.5.0",
            "_view_name": "ProgressView",
            "bar_style": "success",
            "description": "",
            "description_tooltip": null,
            "layout": "IPY_MODEL_f0c73f963f774a0c9c1d44dd1c02743f",
            "max": 48,
            "min": 0,
            "orientation": "horizontal",
            "style": "IPY_MODEL_cce93f0010284ffdb6c3bcb16cc05e59",
            "value": 48
          }
        },
        "aeb256c157b4451eba2c7b44b1853982": {
          "model_module": "@jupyter-widgets/controls",
          "model_name": "HTMLModel",
          "model_module_version": "1.5.0",
          "state": {
            "_dom_classes": [],
            "_model_module": "@jupyter-widgets/controls",
            "_model_module_version": "1.5.0",
            "_model_name": "HTMLModel",
            "_view_count": null,
            "_view_module": "@jupyter-widgets/controls",
            "_view_module_version": "1.5.0",
            "_view_name": "HTMLView",
            "description": "",
            "description_tooltip": null,
            "layout": "IPY_MODEL_f41d28b472644978b9948873b699366e",
            "placeholder": "​",
            "style": "IPY_MODEL_ce65450d51c2456cbe25fcc68bf65baf",
            "value": " 48.0/48.0 [00:00&lt;00:00, 1.99kB/s]"
          }
        },
        "c520d103ee86482287bc290b923b330a": {
          "model_module": "@jupyter-widgets/base",
          "model_name": "LayoutModel",
          "model_module_version": "1.2.0",
          "state": {
            "_model_module": "@jupyter-widgets/base",
            "_model_module_version": "1.2.0",
            "_model_name": "LayoutModel",
            "_view_count": null,
            "_view_module": "@jupyter-widgets/base",
            "_view_module_version": "1.2.0",
            "_view_name": "LayoutView",
            "align_content": null,
            "align_items": null,
            "align_self": null,
            "border": null,
            "bottom": null,
            "display": null,
            "flex": null,
            "flex_flow": null,
            "grid_area": null,
            "grid_auto_columns": null,
            "grid_auto_flow": null,
            "grid_auto_rows": null,
            "grid_column": null,
            "grid_gap": null,
            "grid_row": null,
            "grid_template_areas": null,
            "grid_template_columns": null,
            "grid_template_rows": null,
            "height": null,
            "justify_content": null,
            "justify_items": null,
            "left": null,
            "margin": null,
            "max_height": null,
            "max_width": null,
            "min_height": null,
            "min_width": null,
            "object_fit": null,
            "object_position": null,
            "order": null,
            "overflow": null,
            "overflow_x": null,
            "overflow_y": null,
            "padding": null,
            "right": null,
            "top": null,
            "visibility": null,
            "width": null
          }
        },
        "425a0e86eb004798ab9bb441e9fca0ec": {
          "model_module": "@jupyter-widgets/base",
          "model_name": "LayoutModel",
          "model_module_version": "1.2.0",
          "state": {
            "_model_module": "@jupyter-widgets/base",
            "_model_module_version": "1.2.0",
            "_model_name": "LayoutModel",
            "_view_count": null,
            "_view_module": "@jupyter-widgets/base",
            "_view_module_version": "1.2.0",
            "_view_name": "LayoutView",
            "align_content": null,
            "align_items": null,
            "align_self": null,
            "border": null,
            "bottom": null,
            "display": null,
            "flex": null,
            "flex_flow": null,
            "grid_area": null,
            "grid_auto_columns": null,
            "grid_auto_flow": null,
            "grid_auto_rows": null,
            "grid_column": null,
            "grid_gap": null,
            "grid_row": null,
            "grid_template_areas": null,
            "grid_template_columns": null,
            "grid_template_rows": null,
            "height": null,
            "justify_content": null,
            "justify_items": null,
            "left": null,
            "margin": null,
            "max_height": null,
            "max_width": null,
            "min_height": null,
            "min_width": null,
            "object_fit": null,
            "object_position": null,
            "order": null,
            "overflow": null,
            "overflow_x": null,
            "overflow_y": null,
            "padding": null,
            "right": null,
            "top": null,
            "visibility": null,
            "width": null
          }
        },
        "3cc8963d1db84e45b35f9d780879b724": {
          "model_module": "@jupyter-widgets/controls",
          "model_name": "DescriptionStyleModel",
          "model_module_version": "1.5.0",
          "state": {
            "_model_module": "@jupyter-widgets/controls",
            "_model_module_version": "1.5.0",
            "_model_name": "DescriptionStyleModel",
            "_view_count": null,
            "_view_module": "@jupyter-widgets/base",
            "_view_module_version": "1.2.0",
            "_view_name": "StyleView",
            "description_width": ""
          }
        },
        "f0c73f963f774a0c9c1d44dd1c02743f": {
          "model_module": "@jupyter-widgets/base",
          "model_name": "LayoutModel",
          "model_module_version": "1.2.0",
          "state": {
            "_model_module": "@jupyter-widgets/base",
            "_model_module_version": "1.2.0",
            "_model_name": "LayoutModel",
            "_view_count": null,
            "_view_module": "@jupyter-widgets/base",
            "_view_module_version": "1.2.0",
            "_view_name": "LayoutView",
            "align_content": null,
            "align_items": null,
            "align_self": null,
            "border": null,
            "bottom": null,
            "display": null,
            "flex": null,
            "flex_flow": null,
            "grid_area": null,
            "grid_auto_columns": null,
            "grid_auto_flow": null,
            "grid_auto_rows": null,
            "grid_column": null,
            "grid_gap": null,
            "grid_row": null,
            "grid_template_areas": null,
            "grid_template_columns": null,
            "grid_template_rows": null,
            "height": null,
            "justify_content": null,
            "justify_items": null,
            "left": null,
            "margin": null,
            "max_height": null,
            "max_width": null,
            "min_height": null,
            "min_width": null,
            "object_fit": null,
            "object_position": null,
            "order": null,
            "overflow": null,
            "overflow_x": null,
            "overflow_y": null,
            "padding": null,
            "right": null,
            "top": null,
            "visibility": null,
            "width": null
          }
        },
        "cce93f0010284ffdb6c3bcb16cc05e59": {
          "model_module": "@jupyter-widgets/controls",
          "model_name": "ProgressStyleModel",
          "model_module_version": "1.5.0",
          "state": {
            "_model_module": "@jupyter-widgets/controls",
            "_model_module_version": "1.5.0",
            "_model_name": "ProgressStyleModel",
            "_view_count": null,
            "_view_module": "@jupyter-widgets/base",
            "_view_module_version": "1.2.0",
            "_view_name": "StyleView",
            "bar_color": null,
            "description_width": ""
          }
        },
        "f41d28b472644978b9948873b699366e": {
          "model_module": "@jupyter-widgets/base",
          "model_name": "LayoutModel",
          "model_module_version": "1.2.0",
          "state": {
            "_model_module": "@jupyter-widgets/base",
            "_model_module_version": "1.2.0",
            "_model_name": "LayoutModel",
            "_view_count": null,
            "_view_module": "@jupyter-widgets/base",
            "_view_module_version": "1.2.0",
            "_view_name": "LayoutView",
            "align_content": null,
            "align_items": null,
            "align_self": null,
            "border": null,
            "bottom": null,
            "display": null,
            "flex": null,
            "flex_flow": null,
            "grid_area": null,
            "grid_auto_columns": null,
            "grid_auto_flow": null,
            "grid_auto_rows": null,
            "grid_column": null,
            "grid_gap": null,
            "grid_row": null,
            "grid_template_areas": null,
            "grid_template_columns": null,
            "grid_template_rows": null,
            "height": null,
            "justify_content": null,
            "justify_items": null,
            "left": null,
            "margin": null,
            "max_height": null,
            "max_width": null,
            "min_height": null,
            "min_width": null,
            "object_fit": null,
            "object_position": null,
            "order": null,
            "overflow": null,
            "overflow_x": null,
            "overflow_y": null,
            "padding": null,
            "right": null,
            "top": null,
            "visibility": null,
            "width": null
          }
        },
        "ce65450d51c2456cbe25fcc68bf65baf": {
          "model_module": "@jupyter-widgets/controls",
          "model_name": "DescriptionStyleModel",
          "model_module_version": "1.5.0",
          "state": {
            "_model_module": "@jupyter-widgets/controls",
            "_model_module_version": "1.5.0",
            "_model_name": "DescriptionStyleModel",
            "_view_count": null,
            "_view_module": "@jupyter-widgets/base",
            "_view_module_version": "1.2.0",
            "_view_name": "StyleView",
            "description_width": ""
          }
        },
        "7d0cc36f47b641a8bffc8f6d027bb6c7": {
          "model_module": "@jupyter-widgets/controls",
          "model_name": "HBoxModel",
          "model_module_version": "1.5.0",
          "state": {
            "_dom_classes": [],
            "_model_module": "@jupyter-widgets/controls",
            "_model_module_version": "1.5.0",
            "_model_name": "HBoxModel",
            "_view_count": null,
            "_view_module": "@jupyter-widgets/controls",
            "_view_module_version": "1.5.0",
            "_view_name": "HBoxView",
            "box_style": "",
            "children": [
              "IPY_MODEL_77e7013e665a4b509135d2ad97b15b93",
              "IPY_MODEL_354e135c9fc7464ebcb729c78f36cd00",
              "IPY_MODEL_0feafd700bee44f894ba3487f7e0ce04"
            ],
            "layout": "IPY_MODEL_21998f8c3faf44599c215fec23b4e230"
          }
        },
        "77e7013e665a4b509135d2ad97b15b93": {
          "model_module": "@jupyter-widgets/controls",
          "model_name": "HTMLModel",
          "model_module_version": "1.5.0",
          "state": {
            "_dom_classes": [],
            "_model_module": "@jupyter-widgets/controls",
            "_model_module_version": "1.5.0",
            "_model_name": "HTMLModel",
            "_view_count": null,
            "_view_module": "@jupyter-widgets/controls",
            "_view_module_version": "1.5.0",
            "_view_name": "HTMLView",
            "description": "",
            "description_tooltip": null,
            "layout": "IPY_MODEL_a317d15755094fb9b065e1f0e5a5e624",
            "placeholder": "​",
            "style": "IPY_MODEL_5ab69c7331e64ccf82f40354f1e37744",
            "value": "vocab.txt: 100%"
          }
        },
        "354e135c9fc7464ebcb729c78f36cd00": {
          "model_module": "@jupyter-widgets/controls",
          "model_name": "FloatProgressModel",
          "model_module_version": "1.5.0",
          "state": {
            "_dom_classes": [],
            "_model_module": "@jupyter-widgets/controls",
            "_model_module_version": "1.5.0",
            "_model_name": "FloatProgressModel",
            "_view_count": null,
            "_view_module": "@jupyter-widgets/controls",
            "_view_module_version": "1.5.0",
            "_view_name": "ProgressView",
            "bar_style": "success",
            "description": "",
            "description_tooltip": null,
            "layout": "IPY_MODEL_2f3bf53551aa4ca28b7c4b290b06c361",
            "max": 231508,
            "min": 0,
            "orientation": "horizontal",
            "style": "IPY_MODEL_dc232079d9b84241a1e01080f37555a1",
            "value": 231508
          }
        },
        "0feafd700bee44f894ba3487f7e0ce04": {
          "model_module": "@jupyter-widgets/controls",
          "model_name": "HTMLModel",
          "model_module_version": "1.5.0",
          "state": {
            "_dom_classes": [],
            "_model_module": "@jupyter-widgets/controls",
            "_model_module_version": "1.5.0",
            "_model_name": "HTMLModel",
            "_view_count": null,
            "_view_module": "@jupyter-widgets/controls",
            "_view_module_version": "1.5.0",
            "_view_name": "HTMLView",
            "description": "",
            "description_tooltip": null,
            "layout": "IPY_MODEL_35fb22f48f094551b0e284163068f395",
            "placeholder": "​",
            "style": "IPY_MODEL_11c5b3f0181c4099837a5a14b23d22b0",
            "value": " 232k/232k [00:00&lt;00:00, 579kB/s]"
          }
        },
        "21998f8c3faf44599c215fec23b4e230": {
          "model_module": "@jupyter-widgets/base",
          "model_name": "LayoutModel",
          "model_module_version": "1.2.0",
          "state": {
            "_model_module": "@jupyter-widgets/base",
            "_model_module_version": "1.2.0",
            "_model_name": "LayoutModel",
            "_view_count": null,
            "_view_module": "@jupyter-widgets/base",
            "_view_module_version": "1.2.0",
            "_view_name": "LayoutView",
            "align_content": null,
            "align_items": null,
            "align_self": null,
            "border": null,
            "bottom": null,
            "display": null,
            "flex": null,
            "flex_flow": null,
            "grid_area": null,
            "grid_auto_columns": null,
            "grid_auto_flow": null,
            "grid_auto_rows": null,
            "grid_column": null,
            "grid_gap": null,
            "grid_row": null,
            "grid_template_areas": null,
            "grid_template_columns": null,
            "grid_template_rows": null,
            "height": null,
            "justify_content": null,
            "justify_items": null,
            "left": null,
            "margin": null,
            "max_height": null,
            "max_width": null,
            "min_height": null,
            "min_width": null,
            "object_fit": null,
            "object_position": null,
            "order": null,
            "overflow": null,
            "overflow_x": null,
            "overflow_y": null,
            "padding": null,
            "right": null,
            "top": null,
            "visibility": null,
            "width": null
          }
        },
        "a317d15755094fb9b065e1f0e5a5e624": {
          "model_module": "@jupyter-widgets/base",
          "model_name": "LayoutModel",
          "model_module_version": "1.2.0",
          "state": {
            "_model_module": "@jupyter-widgets/base",
            "_model_module_version": "1.2.0",
            "_model_name": "LayoutModel",
            "_view_count": null,
            "_view_module": "@jupyter-widgets/base",
            "_view_module_version": "1.2.0",
            "_view_name": "LayoutView",
            "align_content": null,
            "align_items": null,
            "align_self": null,
            "border": null,
            "bottom": null,
            "display": null,
            "flex": null,
            "flex_flow": null,
            "grid_area": null,
            "grid_auto_columns": null,
            "grid_auto_flow": null,
            "grid_auto_rows": null,
            "grid_column": null,
            "grid_gap": null,
            "grid_row": null,
            "grid_template_areas": null,
            "grid_template_columns": null,
            "grid_template_rows": null,
            "height": null,
            "justify_content": null,
            "justify_items": null,
            "left": null,
            "margin": null,
            "max_height": null,
            "max_width": null,
            "min_height": null,
            "min_width": null,
            "object_fit": null,
            "object_position": null,
            "order": null,
            "overflow": null,
            "overflow_x": null,
            "overflow_y": null,
            "padding": null,
            "right": null,
            "top": null,
            "visibility": null,
            "width": null
          }
        },
        "5ab69c7331e64ccf82f40354f1e37744": {
          "model_module": "@jupyter-widgets/controls",
          "model_name": "DescriptionStyleModel",
          "model_module_version": "1.5.0",
          "state": {
            "_model_module": "@jupyter-widgets/controls",
            "_model_module_version": "1.5.0",
            "_model_name": "DescriptionStyleModel",
            "_view_count": null,
            "_view_module": "@jupyter-widgets/base",
            "_view_module_version": "1.2.0",
            "_view_name": "StyleView",
            "description_width": ""
          }
        },
        "2f3bf53551aa4ca28b7c4b290b06c361": {
          "model_module": "@jupyter-widgets/base",
          "model_name": "LayoutModel",
          "model_module_version": "1.2.0",
          "state": {
            "_model_module": "@jupyter-widgets/base",
            "_model_module_version": "1.2.0",
            "_model_name": "LayoutModel",
            "_view_count": null,
            "_view_module": "@jupyter-widgets/base",
            "_view_module_version": "1.2.0",
            "_view_name": "LayoutView",
            "align_content": null,
            "align_items": null,
            "align_self": null,
            "border": null,
            "bottom": null,
            "display": null,
            "flex": null,
            "flex_flow": null,
            "grid_area": null,
            "grid_auto_columns": null,
            "grid_auto_flow": null,
            "grid_auto_rows": null,
            "grid_column": null,
            "grid_gap": null,
            "grid_row": null,
            "grid_template_areas": null,
            "grid_template_columns": null,
            "grid_template_rows": null,
            "height": null,
            "justify_content": null,
            "justify_items": null,
            "left": null,
            "margin": null,
            "max_height": null,
            "max_width": null,
            "min_height": null,
            "min_width": null,
            "object_fit": null,
            "object_position": null,
            "order": null,
            "overflow": null,
            "overflow_x": null,
            "overflow_y": null,
            "padding": null,
            "right": null,
            "top": null,
            "visibility": null,
            "width": null
          }
        },
        "dc232079d9b84241a1e01080f37555a1": {
          "model_module": "@jupyter-widgets/controls",
          "model_name": "ProgressStyleModel",
          "model_module_version": "1.5.0",
          "state": {
            "_model_module": "@jupyter-widgets/controls",
            "_model_module_version": "1.5.0",
            "_model_name": "ProgressStyleModel",
            "_view_count": null,
            "_view_module": "@jupyter-widgets/base",
            "_view_module_version": "1.2.0",
            "_view_name": "StyleView",
            "bar_color": null,
            "description_width": ""
          }
        },
        "35fb22f48f094551b0e284163068f395": {
          "model_module": "@jupyter-widgets/base",
          "model_name": "LayoutModel",
          "model_module_version": "1.2.0",
          "state": {
            "_model_module": "@jupyter-widgets/base",
            "_model_module_version": "1.2.0",
            "_model_name": "LayoutModel",
            "_view_count": null,
            "_view_module": "@jupyter-widgets/base",
            "_view_module_version": "1.2.0",
            "_view_name": "LayoutView",
            "align_content": null,
            "align_items": null,
            "align_self": null,
            "border": null,
            "bottom": null,
            "display": null,
            "flex": null,
            "flex_flow": null,
            "grid_area": null,
            "grid_auto_columns": null,
            "grid_auto_flow": null,
            "grid_auto_rows": null,
            "grid_column": null,
            "grid_gap": null,
            "grid_row": null,
            "grid_template_areas": null,
            "grid_template_columns": null,
            "grid_template_rows": null,
            "height": null,
            "justify_content": null,
            "justify_items": null,
            "left": null,
            "margin": null,
            "max_height": null,
            "max_width": null,
            "min_height": null,
            "min_width": null,
            "object_fit": null,
            "object_position": null,
            "order": null,
            "overflow": null,
            "overflow_x": null,
            "overflow_y": null,
            "padding": null,
            "right": null,
            "top": null,
            "visibility": null,
            "width": null
          }
        },
        "11c5b3f0181c4099837a5a14b23d22b0": {
          "model_module": "@jupyter-widgets/controls",
          "model_name": "DescriptionStyleModel",
          "model_module_version": "1.5.0",
          "state": {
            "_model_module": "@jupyter-widgets/controls",
            "_model_module_version": "1.5.0",
            "_model_name": "DescriptionStyleModel",
            "_view_count": null,
            "_view_module": "@jupyter-widgets/base",
            "_view_module_version": "1.2.0",
            "_view_name": "StyleView",
            "description_width": ""
          }
        },
        "62e91d1764a5402b9de1511c16861283": {
          "model_module": "@jupyter-widgets/controls",
          "model_name": "HBoxModel",
          "model_module_version": "1.5.0",
          "state": {
            "_dom_classes": [],
            "_model_module": "@jupyter-widgets/controls",
            "_model_module_version": "1.5.0",
            "_model_name": "HBoxModel",
            "_view_count": null,
            "_view_module": "@jupyter-widgets/controls",
            "_view_module_version": "1.5.0",
            "_view_name": "HBoxView",
            "box_style": "",
            "children": [
              "IPY_MODEL_abb79ac63b6f452f931df11366a36d6c",
              "IPY_MODEL_17917ccb9b9d4bae8d91c64673a386a7",
              "IPY_MODEL_2546393d9088413fa28303bc65cf0b5e"
            ],
            "layout": "IPY_MODEL_2ba90dff6aa048c9be4ac9bb1b333ff5"
          }
        },
        "abb79ac63b6f452f931df11366a36d6c": {
          "model_module": "@jupyter-widgets/controls",
          "model_name": "HTMLModel",
          "model_module_version": "1.5.0",
          "state": {
            "_dom_classes": [],
            "_model_module": "@jupyter-widgets/controls",
            "_model_module_version": "1.5.0",
            "_model_name": "HTMLModel",
            "_view_count": null,
            "_view_module": "@jupyter-widgets/controls",
            "_view_module_version": "1.5.0",
            "_view_name": "HTMLView",
            "description": "",
            "description_tooltip": null,
            "layout": "IPY_MODEL_479605990b724b01b4f2ac4544fdb5e2",
            "placeholder": "​",
            "style": "IPY_MODEL_a8e7f031067a415ba2b6cb87c555fe4e",
            "value": "tokenizer.json: 100%"
          }
        },
        "17917ccb9b9d4bae8d91c64673a386a7": {
          "model_module": "@jupyter-widgets/controls",
          "model_name": "FloatProgressModel",
          "model_module_version": "1.5.0",
          "state": {
            "_dom_classes": [],
            "_model_module": "@jupyter-widgets/controls",
            "_model_module_version": "1.5.0",
            "_model_name": "FloatProgressModel",
            "_view_count": null,
            "_view_module": "@jupyter-widgets/controls",
            "_view_module_version": "1.5.0",
            "_view_name": "ProgressView",
            "bar_style": "success",
            "description": "",
            "description_tooltip": null,
            "layout": "IPY_MODEL_b4544ceef2494232b9d4680a53708b5c",
            "max": 466062,
            "min": 0,
            "orientation": "horizontal",
            "style": "IPY_MODEL_b726a224a9654ee0a400a141ea988ba3",
            "value": 466062
          }
        },
        "2546393d9088413fa28303bc65cf0b5e": {
          "model_module": "@jupyter-widgets/controls",
          "model_name": "HTMLModel",
          "model_module_version": "1.5.0",
          "state": {
            "_dom_classes": [],
            "_model_module": "@jupyter-widgets/controls",
            "_model_module_version": "1.5.0",
            "_model_name": "HTMLModel",
            "_view_count": null,
            "_view_module": "@jupyter-widgets/controls",
            "_view_module_version": "1.5.0",
            "_view_name": "HTMLView",
            "description": "",
            "description_tooltip": null,
            "layout": "IPY_MODEL_0ab518fc129440a0b9a13781be2dcfab",
            "placeholder": "​",
            "style": "IPY_MODEL_4122350b904c476bb61bbcd63a73549b",
            "value": " 466k/466k [00:00&lt;00:00, 2.32MB/s]"
          }
        },
        "2ba90dff6aa048c9be4ac9bb1b333ff5": {
          "model_module": "@jupyter-widgets/base",
          "model_name": "LayoutModel",
          "model_module_version": "1.2.0",
          "state": {
            "_model_module": "@jupyter-widgets/base",
            "_model_module_version": "1.2.0",
            "_model_name": "LayoutModel",
            "_view_count": null,
            "_view_module": "@jupyter-widgets/base",
            "_view_module_version": "1.2.0",
            "_view_name": "LayoutView",
            "align_content": null,
            "align_items": null,
            "align_self": null,
            "border": null,
            "bottom": null,
            "display": null,
            "flex": null,
            "flex_flow": null,
            "grid_area": null,
            "grid_auto_columns": null,
            "grid_auto_flow": null,
            "grid_auto_rows": null,
            "grid_column": null,
            "grid_gap": null,
            "grid_row": null,
            "grid_template_areas": null,
            "grid_template_columns": null,
            "grid_template_rows": null,
            "height": null,
            "justify_content": null,
            "justify_items": null,
            "left": null,
            "margin": null,
            "max_height": null,
            "max_width": null,
            "min_height": null,
            "min_width": null,
            "object_fit": null,
            "object_position": null,
            "order": null,
            "overflow": null,
            "overflow_x": null,
            "overflow_y": null,
            "padding": null,
            "right": null,
            "top": null,
            "visibility": null,
            "width": null
          }
        },
        "479605990b724b01b4f2ac4544fdb5e2": {
          "model_module": "@jupyter-widgets/base",
          "model_name": "LayoutModel",
          "model_module_version": "1.2.0",
          "state": {
            "_model_module": "@jupyter-widgets/base",
            "_model_module_version": "1.2.0",
            "_model_name": "LayoutModel",
            "_view_count": null,
            "_view_module": "@jupyter-widgets/base",
            "_view_module_version": "1.2.0",
            "_view_name": "LayoutView",
            "align_content": null,
            "align_items": null,
            "align_self": null,
            "border": null,
            "bottom": null,
            "display": null,
            "flex": null,
            "flex_flow": null,
            "grid_area": null,
            "grid_auto_columns": null,
            "grid_auto_flow": null,
            "grid_auto_rows": null,
            "grid_column": null,
            "grid_gap": null,
            "grid_row": null,
            "grid_template_areas": null,
            "grid_template_columns": null,
            "grid_template_rows": null,
            "height": null,
            "justify_content": null,
            "justify_items": null,
            "left": null,
            "margin": null,
            "max_height": null,
            "max_width": null,
            "min_height": null,
            "min_width": null,
            "object_fit": null,
            "object_position": null,
            "order": null,
            "overflow": null,
            "overflow_x": null,
            "overflow_y": null,
            "padding": null,
            "right": null,
            "top": null,
            "visibility": null,
            "width": null
          }
        },
        "a8e7f031067a415ba2b6cb87c555fe4e": {
          "model_module": "@jupyter-widgets/controls",
          "model_name": "DescriptionStyleModel",
          "model_module_version": "1.5.0",
          "state": {
            "_model_module": "@jupyter-widgets/controls",
            "_model_module_version": "1.5.0",
            "_model_name": "DescriptionStyleModel",
            "_view_count": null,
            "_view_module": "@jupyter-widgets/base",
            "_view_module_version": "1.2.0",
            "_view_name": "StyleView",
            "description_width": ""
          }
        },
        "b4544ceef2494232b9d4680a53708b5c": {
          "model_module": "@jupyter-widgets/base",
          "model_name": "LayoutModel",
          "model_module_version": "1.2.0",
          "state": {
            "_model_module": "@jupyter-widgets/base",
            "_model_module_version": "1.2.0",
            "_model_name": "LayoutModel",
            "_view_count": null,
            "_view_module": "@jupyter-widgets/base",
            "_view_module_version": "1.2.0",
            "_view_name": "LayoutView",
            "align_content": null,
            "align_items": null,
            "align_self": null,
            "border": null,
            "bottom": null,
            "display": null,
            "flex": null,
            "flex_flow": null,
            "grid_area": null,
            "grid_auto_columns": null,
            "grid_auto_flow": null,
            "grid_auto_rows": null,
            "grid_column": null,
            "grid_gap": null,
            "grid_row": null,
            "grid_template_areas": null,
            "grid_template_columns": null,
            "grid_template_rows": null,
            "height": null,
            "justify_content": null,
            "justify_items": null,
            "left": null,
            "margin": null,
            "max_height": null,
            "max_width": null,
            "min_height": null,
            "min_width": null,
            "object_fit": null,
            "object_position": null,
            "order": null,
            "overflow": null,
            "overflow_x": null,
            "overflow_y": null,
            "padding": null,
            "right": null,
            "top": null,
            "visibility": null,
            "width": null
          }
        },
        "b726a224a9654ee0a400a141ea988ba3": {
          "model_module": "@jupyter-widgets/controls",
          "model_name": "ProgressStyleModel",
          "model_module_version": "1.5.0",
          "state": {
            "_model_module": "@jupyter-widgets/controls",
            "_model_module_version": "1.5.0",
            "_model_name": "ProgressStyleModel",
            "_view_count": null,
            "_view_module": "@jupyter-widgets/base",
            "_view_module_version": "1.2.0",
            "_view_name": "StyleView",
            "bar_color": null,
            "description_width": ""
          }
        },
        "0ab518fc129440a0b9a13781be2dcfab": {
          "model_module": "@jupyter-widgets/base",
          "model_name": "LayoutModel",
          "model_module_version": "1.2.0",
          "state": {
            "_model_module": "@jupyter-widgets/base",
            "_model_module_version": "1.2.0",
            "_model_name": "LayoutModel",
            "_view_count": null,
            "_view_module": "@jupyter-widgets/base",
            "_view_module_version": "1.2.0",
            "_view_name": "LayoutView",
            "align_content": null,
            "align_items": null,
            "align_self": null,
            "border": null,
            "bottom": null,
            "display": null,
            "flex": null,
            "flex_flow": null,
            "grid_area": null,
            "grid_auto_columns": null,
            "grid_auto_flow": null,
            "grid_auto_rows": null,
            "grid_column": null,
            "grid_gap": null,
            "grid_row": null,
            "grid_template_areas": null,
            "grid_template_columns": null,
            "grid_template_rows": null,
            "height": null,
            "justify_content": null,
            "justify_items": null,
            "left": null,
            "margin": null,
            "max_height": null,
            "max_width": null,
            "min_height": null,
            "min_width": null,
            "object_fit": null,
            "object_position": null,
            "order": null,
            "overflow": null,
            "overflow_x": null,
            "overflow_y": null,
            "padding": null,
            "right": null,
            "top": null,
            "visibility": null,
            "width": null
          }
        },
        "4122350b904c476bb61bbcd63a73549b": {
          "model_module": "@jupyter-widgets/controls",
          "model_name": "DescriptionStyleModel",
          "model_module_version": "1.5.0",
          "state": {
            "_model_module": "@jupyter-widgets/controls",
            "_model_module_version": "1.5.0",
            "_model_name": "DescriptionStyleModel",
            "_view_count": null,
            "_view_module": "@jupyter-widgets/base",
            "_view_module_version": "1.2.0",
            "_view_name": "StyleView",
            "description_width": ""
          }
        },
        "c132a845fc9641869df49734e930e22a": {
          "model_module": "@jupyter-widgets/controls",
          "model_name": "HBoxModel",
          "model_module_version": "1.5.0",
          "state": {
            "_dom_classes": [],
            "_model_module": "@jupyter-widgets/controls",
            "_model_module_version": "1.5.0",
            "_model_name": "HBoxModel",
            "_view_count": null,
            "_view_module": "@jupyter-widgets/controls",
            "_view_module_version": "1.5.0",
            "_view_name": "HBoxView",
            "box_style": "",
            "children": [
              "IPY_MODEL_9f384415df314bd39860a2bf54dc9eb1",
              "IPY_MODEL_3588a79ad4a646b79704a337e49e747a",
              "IPY_MODEL_cf92796fd7ba4c31b10c314d58d14dcf"
            ],
            "layout": "IPY_MODEL_9f610f2286e84f1abec5fa408575c30d"
          }
        },
        "9f384415df314bd39860a2bf54dc9eb1": {
          "model_module": "@jupyter-widgets/controls",
          "model_name": "HTMLModel",
          "model_module_version": "1.5.0",
          "state": {
            "_dom_classes": [],
            "_model_module": "@jupyter-widgets/controls",
            "_model_module_version": "1.5.0",
            "_model_name": "HTMLModel",
            "_view_count": null,
            "_view_module": "@jupyter-widgets/controls",
            "_view_module_version": "1.5.0",
            "_view_name": "HTMLView",
            "description": "",
            "description_tooltip": null,
            "layout": "IPY_MODEL_455e591dc43d430b893d0b0ee44a02ee",
            "placeholder": "​",
            "style": "IPY_MODEL_1d18406f5e7e43d1acfeae16679fa847",
            "value": "config.json: 100%"
          }
        },
        "3588a79ad4a646b79704a337e49e747a": {
          "model_module": "@jupyter-widgets/controls",
          "model_name": "FloatProgressModel",
          "model_module_version": "1.5.0",
          "state": {
            "_dom_classes": [],
            "_model_module": "@jupyter-widgets/controls",
            "_model_module_version": "1.5.0",
            "_model_name": "FloatProgressModel",
            "_view_count": null,
            "_view_module": "@jupyter-widgets/controls",
            "_view_module_version": "1.5.0",
            "_view_name": "ProgressView",
            "bar_style": "success",
            "description": "",
            "description_tooltip": null,
            "layout": "IPY_MODEL_17a134e47f314ccda314b78affb64ae1",
            "max": 570,
            "min": 0,
            "orientation": "horizontal",
            "style": "IPY_MODEL_8760370d61734c3dad21df31b60998ea",
            "value": 570
          }
        },
        "cf92796fd7ba4c31b10c314d58d14dcf": {
          "model_module": "@jupyter-widgets/controls",
          "model_name": "HTMLModel",
          "model_module_version": "1.5.0",
          "state": {
            "_dom_classes": [],
            "_model_module": "@jupyter-widgets/controls",
            "_model_module_version": "1.5.0",
            "_model_name": "HTMLModel",
            "_view_count": null,
            "_view_module": "@jupyter-widgets/controls",
            "_view_module_version": "1.5.0",
            "_view_name": "HTMLView",
            "description": "",
            "description_tooltip": null,
            "layout": "IPY_MODEL_bbfabd9e4c3c4849bbe2205cc6c2893a",
            "placeholder": "​",
            "style": "IPY_MODEL_23b1e139017b4d2bbb6a7dfd83a0e081",
            "value": " 570/570 [00:00&lt;00:00, 37.9kB/s]"
          }
        },
        "9f610f2286e84f1abec5fa408575c30d": {
          "model_module": "@jupyter-widgets/base",
          "model_name": "LayoutModel",
          "model_module_version": "1.2.0",
          "state": {
            "_model_module": "@jupyter-widgets/base",
            "_model_module_version": "1.2.0",
            "_model_name": "LayoutModel",
            "_view_count": null,
            "_view_module": "@jupyter-widgets/base",
            "_view_module_version": "1.2.0",
            "_view_name": "LayoutView",
            "align_content": null,
            "align_items": null,
            "align_self": null,
            "border": null,
            "bottom": null,
            "display": null,
            "flex": null,
            "flex_flow": null,
            "grid_area": null,
            "grid_auto_columns": null,
            "grid_auto_flow": null,
            "grid_auto_rows": null,
            "grid_column": null,
            "grid_gap": null,
            "grid_row": null,
            "grid_template_areas": null,
            "grid_template_columns": null,
            "grid_template_rows": null,
            "height": null,
            "justify_content": null,
            "justify_items": null,
            "left": null,
            "margin": null,
            "max_height": null,
            "max_width": null,
            "min_height": null,
            "min_width": null,
            "object_fit": null,
            "object_position": null,
            "order": null,
            "overflow": null,
            "overflow_x": null,
            "overflow_y": null,
            "padding": null,
            "right": null,
            "top": null,
            "visibility": null,
            "width": null
          }
        },
        "455e591dc43d430b893d0b0ee44a02ee": {
          "model_module": "@jupyter-widgets/base",
          "model_name": "LayoutModel",
          "model_module_version": "1.2.0",
          "state": {
            "_model_module": "@jupyter-widgets/base",
            "_model_module_version": "1.2.0",
            "_model_name": "LayoutModel",
            "_view_count": null,
            "_view_module": "@jupyter-widgets/base",
            "_view_module_version": "1.2.0",
            "_view_name": "LayoutView",
            "align_content": null,
            "align_items": null,
            "align_self": null,
            "border": null,
            "bottom": null,
            "display": null,
            "flex": null,
            "flex_flow": null,
            "grid_area": null,
            "grid_auto_columns": null,
            "grid_auto_flow": null,
            "grid_auto_rows": null,
            "grid_column": null,
            "grid_gap": null,
            "grid_row": null,
            "grid_template_areas": null,
            "grid_template_columns": null,
            "grid_template_rows": null,
            "height": null,
            "justify_content": null,
            "justify_items": null,
            "left": null,
            "margin": null,
            "max_height": null,
            "max_width": null,
            "min_height": null,
            "min_width": null,
            "object_fit": null,
            "object_position": null,
            "order": null,
            "overflow": null,
            "overflow_x": null,
            "overflow_y": null,
            "padding": null,
            "right": null,
            "top": null,
            "visibility": null,
            "width": null
          }
        },
        "1d18406f5e7e43d1acfeae16679fa847": {
          "model_module": "@jupyter-widgets/controls",
          "model_name": "DescriptionStyleModel",
          "model_module_version": "1.5.0",
          "state": {
            "_model_module": "@jupyter-widgets/controls",
            "_model_module_version": "1.5.0",
            "_model_name": "DescriptionStyleModel",
            "_view_count": null,
            "_view_module": "@jupyter-widgets/base",
            "_view_module_version": "1.2.0",
            "_view_name": "StyleView",
            "description_width": ""
          }
        },
        "17a134e47f314ccda314b78affb64ae1": {
          "model_module": "@jupyter-widgets/base",
          "model_name": "LayoutModel",
          "model_module_version": "1.2.0",
          "state": {
            "_model_module": "@jupyter-widgets/base",
            "_model_module_version": "1.2.0",
            "_model_name": "LayoutModel",
            "_view_count": null,
            "_view_module": "@jupyter-widgets/base",
            "_view_module_version": "1.2.0",
            "_view_name": "LayoutView",
            "align_content": null,
            "align_items": null,
            "align_self": null,
            "border": null,
            "bottom": null,
            "display": null,
            "flex": null,
            "flex_flow": null,
            "grid_area": null,
            "grid_auto_columns": null,
            "grid_auto_flow": null,
            "grid_auto_rows": null,
            "grid_column": null,
            "grid_gap": null,
            "grid_row": null,
            "grid_template_areas": null,
            "grid_template_columns": null,
            "grid_template_rows": null,
            "height": null,
            "justify_content": null,
            "justify_items": null,
            "left": null,
            "margin": null,
            "max_height": null,
            "max_width": null,
            "min_height": null,
            "min_width": null,
            "object_fit": null,
            "object_position": null,
            "order": null,
            "overflow": null,
            "overflow_x": null,
            "overflow_y": null,
            "padding": null,
            "right": null,
            "top": null,
            "visibility": null,
            "width": null
          }
        },
        "8760370d61734c3dad21df31b60998ea": {
          "model_module": "@jupyter-widgets/controls",
          "model_name": "ProgressStyleModel",
          "model_module_version": "1.5.0",
          "state": {
            "_model_module": "@jupyter-widgets/controls",
            "_model_module_version": "1.5.0",
            "_model_name": "ProgressStyleModel",
            "_view_count": null,
            "_view_module": "@jupyter-widgets/base",
            "_view_module_version": "1.2.0",
            "_view_name": "StyleView",
            "bar_color": null,
            "description_width": ""
          }
        },
        "bbfabd9e4c3c4849bbe2205cc6c2893a": {
          "model_module": "@jupyter-widgets/base",
          "model_name": "LayoutModel",
          "model_module_version": "1.2.0",
          "state": {
            "_model_module": "@jupyter-widgets/base",
            "_model_module_version": "1.2.0",
            "_model_name": "LayoutModel",
            "_view_count": null,
            "_view_module": "@jupyter-widgets/base",
            "_view_module_version": "1.2.0",
            "_view_name": "LayoutView",
            "align_content": null,
            "align_items": null,
            "align_self": null,
            "border": null,
            "bottom": null,
            "display": null,
            "flex": null,
            "flex_flow": null,
            "grid_area": null,
            "grid_auto_columns": null,
            "grid_auto_flow": null,
            "grid_auto_rows": null,
            "grid_column": null,
            "grid_gap": null,
            "grid_row": null,
            "grid_template_areas": null,
            "grid_template_columns": null,
            "grid_template_rows": null,
            "height": null,
            "justify_content": null,
            "justify_items": null,
            "left": null,
            "margin": null,
            "max_height": null,
            "max_width": null,
            "min_height": null,
            "min_width": null,
            "object_fit": null,
            "object_position": null,
            "order": null,
            "overflow": null,
            "overflow_x": null,
            "overflow_y": null,
            "padding": null,
            "right": null,
            "top": null,
            "visibility": null,
            "width": null
          }
        },
        "23b1e139017b4d2bbb6a7dfd83a0e081": {
          "model_module": "@jupyter-widgets/controls",
          "model_name": "DescriptionStyleModel",
          "model_module_version": "1.5.0",
          "state": {
            "_model_module": "@jupyter-widgets/controls",
            "_model_module_version": "1.5.0",
            "_model_name": "DescriptionStyleModel",
            "_view_count": null,
            "_view_module": "@jupyter-widgets/base",
            "_view_module_version": "1.2.0",
            "_view_name": "StyleView",
            "description_width": ""
          }
        },
        "850f6e75d2884187ad2fecc2627b5ff4": {
          "model_module": "@jupyter-widgets/controls",
          "model_name": "HBoxModel",
          "model_module_version": "1.5.0",
          "state": {
            "_dom_classes": [],
            "_model_module": "@jupyter-widgets/controls",
            "_model_module_version": "1.5.0",
            "_model_name": "HBoxModel",
            "_view_count": null,
            "_view_module": "@jupyter-widgets/controls",
            "_view_module_version": "1.5.0",
            "_view_name": "HBoxView",
            "box_style": "",
            "children": [
              "IPY_MODEL_9ab9c0093a8c43a0b6e18a534665f0db",
              "IPY_MODEL_ba34b75806e34682a380fa672121987e",
              "IPY_MODEL_c8adedddef164f4f88fcbcd25a3719d8"
            ],
            "layout": "IPY_MODEL_7fc6d8a9891948cb99c3c45d4a226cc6"
          }
        },
        "9ab9c0093a8c43a0b6e18a534665f0db": {
          "model_module": "@jupyter-widgets/controls",
          "model_name": "HTMLModel",
          "model_module_version": "1.5.0",
          "state": {
            "_dom_classes": [],
            "_model_module": "@jupyter-widgets/controls",
            "_model_module_version": "1.5.0",
            "_model_name": "HTMLModel",
            "_view_count": null,
            "_view_module": "@jupyter-widgets/controls",
            "_view_module_version": "1.5.0",
            "_view_name": "HTMLView",
            "description": "",
            "description_tooltip": null,
            "layout": "IPY_MODEL_7107f432c8e145369171adacb673a5d4",
            "placeholder": "​",
            "style": "IPY_MODEL_6e9820fb84f44d6bb6bc8e9877124772",
            "value": "model.safetensors: 100%"
          }
        },
        "ba34b75806e34682a380fa672121987e": {
          "model_module": "@jupyter-widgets/controls",
          "model_name": "FloatProgressModel",
          "model_module_version": "1.5.0",
          "state": {
            "_dom_classes": [],
            "_model_module": "@jupyter-widgets/controls",
            "_model_module_version": "1.5.0",
            "_model_name": "FloatProgressModel",
            "_view_count": null,
            "_view_module": "@jupyter-widgets/controls",
            "_view_module_version": "1.5.0",
            "_view_name": "ProgressView",
            "bar_style": "success",
            "description": "",
            "description_tooltip": null,
            "layout": "IPY_MODEL_bf43c8da31534a33babca8682711d41a",
            "max": 440449768,
            "min": 0,
            "orientation": "horizontal",
            "style": "IPY_MODEL_aeeb1936cc964ab785bb6b33697bb34b",
            "value": 440449768
          }
        },
        "c8adedddef164f4f88fcbcd25a3719d8": {
          "model_module": "@jupyter-widgets/controls",
          "model_name": "HTMLModel",
          "model_module_version": "1.5.0",
          "state": {
            "_dom_classes": [],
            "_model_module": "@jupyter-widgets/controls",
            "_model_module_version": "1.5.0",
            "_model_name": "HTMLModel",
            "_view_count": null,
            "_view_module": "@jupyter-widgets/controls",
            "_view_module_version": "1.5.0",
            "_view_name": "HTMLView",
            "description": "",
            "description_tooltip": null,
            "layout": "IPY_MODEL_45934beb0a5e4a40b2306217d9d3953b",
            "placeholder": "​",
            "style": "IPY_MODEL_4d3f916bdd69494b8d3d9b93c24aa217",
            "value": " 440M/440M [00:04&lt;00:00, 98.2MB/s]"
          }
        },
        "7fc6d8a9891948cb99c3c45d4a226cc6": {
          "model_module": "@jupyter-widgets/base",
          "model_name": "LayoutModel",
          "model_module_version": "1.2.0",
          "state": {
            "_model_module": "@jupyter-widgets/base",
            "_model_module_version": "1.2.0",
            "_model_name": "LayoutModel",
            "_view_count": null,
            "_view_module": "@jupyter-widgets/base",
            "_view_module_version": "1.2.0",
            "_view_name": "LayoutView",
            "align_content": null,
            "align_items": null,
            "align_self": null,
            "border": null,
            "bottom": null,
            "display": null,
            "flex": null,
            "flex_flow": null,
            "grid_area": null,
            "grid_auto_columns": null,
            "grid_auto_flow": null,
            "grid_auto_rows": null,
            "grid_column": null,
            "grid_gap": null,
            "grid_row": null,
            "grid_template_areas": null,
            "grid_template_columns": null,
            "grid_template_rows": null,
            "height": null,
            "justify_content": null,
            "justify_items": null,
            "left": null,
            "margin": null,
            "max_height": null,
            "max_width": null,
            "min_height": null,
            "min_width": null,
            "object_fit": null,
            "object_position": null,
            "order": null,
            "overflow": null,
            "overflow_x": null,
            "overflow_y": null,
            "padding": null,
            "right": null,
            "top": null,
            "visibility": null,
            "width": null
          }
        },
        "7107f432c8e145369171adacb673a5d4": {
          "model_module": "@jupyter-widgets/base",
          "model_name": "LayoutModel",
          "model_module_version": "1.2.0",
          "state": {
            "_model_module": "@jupyter-widgets/base",
            "_model_module_version": "1.2.0",
            "_model_name": "LayoutModel",
            "_view_count": null,
            "_view_module": "@jupyter-widgets/base",
            "_view_module_version": "1.2.0",
            "_view_name": "LayoutView",
            "align_content": null,
            "align_items": null,
            "align_self": null,
            "border": null,
            "bottom": null,
            "display": null,
            "flex": null,
            "flex_flow": null,
            "grid_area": null,
            "grid_auto_columns": null,
            "grid_auto_flow": null,
            "grid_auto_rows": null,
            "grid_column": null,
            "grid_gap": null,
            "grid_row": null,
            "grid_template_areas": null,
            "grid_template_columns": null,
            "grid_template_rows": null,
            "height": null,
            "justify_content": null,
            "justify_items": null,
            "left": null,
            "margin": null,
            "max_height": null,
            "max_width": null,
            "min_height": null,
            "min_width": null,
            "object_fit": null,
            "object_position": null,
            "order": null,
            "overflow": null,
            "overflow_x": null,
            "overflow_y": null,
            "padding": null,
            "right": null,
            "top": null,
            "visibility": null,
            "width": null
          }
        },
        "6e9820fb84f44d6bb6bc8e9877124772": {
          "model_module": "@jupyter-widgets/controls",
          "model_name": "DescriptionStyleModel",
          "model_module_version": "1.5.0",
          "state": {
            "_model_module": "@jupyter-widgets/controls",
            "_model_module_version": "1.5.0",
            "_model_name": "DescriptionStyleModel",
            "_view_count": null,
            "_view_module": "@jupyter-widgets/base",
            "_view_module_version": "1.2.0",
            "_view_name": "StyleView",
            "description_width": ""
          }
        },
        "bf43c8da31534a33babca8682711d41a": {
          "model_module": "@jupyter-widgets/base",
          "model_name": "LayoutModel",
          "model_module_version": "1.2.0",
          "state": {
            "_model_module": "@jupyter-widgets/base",
            "_model_module_version": "1.2.0",
            "_model_name": "LayoutModel",
            "_view_count": null,
            "_view_module": "@jupyter-widgets/base",
            "_view_module_version": "1.2.0",
            "_view_name": "LayoutView",
            "align_content": null,
            "align_items": null,
            "align_self": null,
            "border": null,
            "bottom": null,
            "display": null,
            "flex": null,
            "flex_flow": null,
            "grid_area": null,
            "grid_auto_columns": null,
            "grid_auto_flow": null,
            "grid_auto_rows": null,
            "grid_column": null,
            "grid_gap": null,
            "grid_row": null,
            "grid_template_areas": null,
            "grid_template_columns": null,
            "grid_template_rows": null,
            "height": null,
            "justify_content": null,
            "justify_items": null,
            "left": null,
            "margin": null,
            "max_height": null,
            "max_width": null,
            "min_height": null,
            "min_width": null,
            "object_fit": null,
            "object_position": null,
            "order": null,
            "overflow": null,
            "overflow_x": null,
            "overflow_y": null,
            "padding": null,
            "right": null,
            "top": null,
            "visibility": null,
            "width": null
          }
        },
        "aeeb1936cc964ab785bb6b33697bb34b": {
          "model_module": "@jupyter-widgets/controls",
          "model_name": "ProgressStyleModel",
          "model_module_version": "1.5.0",
          "state": {
            "_model_module": "@jupyter-widgets/controls",
            "_model_module_version": "1.5.0",
            "_model_name": "ProgressStyleModel",
            "_view_count": null,
            "_view_module": "@jupyter-widgets/base",
            "_view_module_version": "1.2.0",
            "_view_name": "StyleView",
            "bar_color": null,
            "description_width": ""
          }
        },
        "45934beb0a5e4a40b2306217d9d3953b": {
          "model_module": "@jupyter-widgets/base",
          "model_name": "LayoutModel",
          "model_module_version": "1.2.0",
          "state": {
            "_model_module": "@jupyter-widgets/base",
            "_model_module_version": "1.2.0",
            "_model_name": "LayoutModel",
            "_view_count": null,
            "_view_module": "@jupyter-widgets/base",
            "_view_module_version": "1.2.0",
            "_view_name": "LayoutView",
            "align_content": null,
            "align_items": null,
            "align_self": null,
            "border": null,
            "bottom": null,
            "display": null,
            "flex": null,
            "flex_flow": null,
            "grid_area": null,
            "grid_auto_columns": null,
            "grid_auto_flow": null,
            "grid_auto_rows": null,
            "grid_column": null,
            "grid_gap": null,
            "grid_row": null,
            "grid_template_areas": null,
            "grid_template_columns": null,
            "grid_template_rows": null,
            "height": null,
            "justify_content": null,
            "justify_items": null,
            "left": null,
            "margin": null,
            "max_height": null,
            "max_width": null,
            "min_height": null,
            "min_width": null,
            "object_fit": null,
            "object_position": null,
            "order": null,
            "overflow": null,
            "overflow_x": null,
            "overflow_y": null,
            "padding": null,
            "right": null,
            "top": null,
            "visibility": null,
            "width": null
          }
        },
        "4d3f916bdd69494b8d3d9b93c24aa217": {
          "model_module": "@jupyter-widgets/controls",
          "model_name": "DescriptionStyleModel",
          "model_module_version": "1.5.0",
          "state": {
            "_model_module": "@jupyter-widgets/controls",
            "_model_module_version": "1.5.0",
            "_model_name": "DescriptionStyleModel",
            "_view_count": null,
            "_view_module": "@jupyter-widgets/base",
            "_view_module_version": "1.2.0",
            "_view_name": "StyleView",
            "description_width": ""
          }
        }
      }
    }
  },
  "cells": [
    {
      "cell_type": "markdown",
      "source": [
        "#**1. Data Exploration and Assessment :**\n",
        "\n",
        "The dataset is loaded into a pandas DataFrame. This step allows us to get an overview of the structure of the data, including column names and the first few rows.\n",
        "\n"
      ],
      "metadata": {
        "id": "CgcJ5slncgQE"
      }
    },
    {
      "cell_type": "markdown",
      "source": [
        "Utilizing the necessary python libraries which enable us to perform the Machine learning tasks at ease."
      ],
      "metadata": {
        "id": "ncAWD8NgUUQa"
      }
    },
    {
      "cell_type": "code",
      "source": [
        "# Load python modules\n",
        "\n",
        "import numpy as np # Thislibrary that allows us to work with vectors and matrices\n",
        "import matplotlib.pyplot as plt # visualisation library\n",
        "import pandas as pd # It allows us to work with DataFrames\n"
      ],
      "metadata": {
        "id": "hffPeYwsfI8N"
      },
      "execution_count": null,
      "outputs": []
    },
    {
      "cell_type": "code",
      "execution_count": 516,
      "metadata": {
        "id": "KkGdVu6Fcc8m"
      },
      "outputs": [],
      "source": [
        "# USING_COLAB = True\n",
        "# if USING_COLAB:\n",
        "#   from google.colab import drive\n",
        "#   drive.mount('/content/drive')"
      ]
    },
    {
      "cell_type": "markdown",
      "source": [
        "**LOADING THE DATA:**"
      ],
      "metadata": {
        "id": "QpmMlTqD2hyi"
      }
    },
    {
      "cell_type": "code",
      "source": [
        "# Loading the data\n",
        "data = pd.read_csv('/content/drive/MyDrive/Greenwich/Applied ML/CW/comp1804_coursework_dataset_23-24.csv')\n",
        "print(data.head())"
      ],
      "metadata": {
        "colab": {
          "base_uri": "https://localhost:8080/"
        },
        "id": "sht4hpAzej7e",
        "outputId": "37f19152-e77d-43ef-e90d-e0a1678f340a"
      },
      "execution_count": 517,
      "outputs": [
        {
          "output_type": "stream",
          "name": "stdout",
          "text": [
            "         par_id                                          paragraph  \\\n",
            "0  428209002237  Ramsay was born in Glasgow on 2 October 1852. ...   \n",
            "1  564218010072  It has been widely estimated for at least the ...   \n",
            "2  291401001672  He went on to win the Royal Medal of the Royal...   \n",
            "3   31548004883  The changes have altered many underlying assum...   \n",
            "4   50634005146  After these novels were published, Disraeli de...   \n",
            "\n",
            "                        has_entity  lexicon_count  difficult_words  \\\n",
            "0   ORG_YES_PRODUCT_NO_PERSON_YES_             49             12.0   \n",
            "1    ORG_YES_PRODUCT_NO_PERSON_NO_            166             47.0   \n",
            "2    ORG_YES_PRODUCT_NO_PERSON_NO_             69             18.0   \n",
            "3    ORG_NO_PRODUCT_YES_PERSON_NO_             76             27.0   \n",
            "4  ORG_YES_PRODUCT_YES_PERSON_YES_            200             47.0   \n",
            "\n",
            "  last_editor_gender                 category      text_clarity  \n",
            "0                man              biographies      clear_enough  \n",
            "1                man  artificial intelligence  not_clear_enough  \n",
            "2         non-binary              biographies      clear_enough  \n",
            "3         non-binary              programming      clear_enough  \n",
            "4                man              biographies  not_clear_enough  \n"
          ]
        }
      ]
    },
    {
      "cell_type": "markdown",
      "source": [
        "**DATA TYPES ANDSHAPE:**"
      ],
      "metadata": {
        "id": "8rG2fzrM2qzA"
      }
    },
    {
      "cell_type": "code",
      "source": [
        "# Checking the shape of the dataset\n",
        "print(\"Structure of the data : \",data.shape)\n",
        "print(data.columns)"
      ],
      "metadata": {
        "colab": {
          "base_uri": "https://localhost:8080/"
        },
        "id": "78MHO2W2fdCd",
        "outputId": "fca6c887-7f48-4dd8-ad71-3478ca614296"
      },
      "execution_count": 518,
      "outputs": [
        {
          "output_type": "stream",
          "name": "stdout",
          "text": [
            "Structure of the data :  (9347, 8)\n",
            "Index(['par_id', 'paragraph', 'has_entity', 'lexicon_count', 'difficult_words',\n",
            "       'last_editor_gender', 'category', 'text_clarity'],\n",
            "      dtype='object')\n"
          ]
        }
      ]
    },
    {
      "cell_type": "markdown",
      "source": [
        "We can observer that the data has 8 columns and 9347 rows/data values."
      ],
      "metadata": {
        "id": "4UcYx0YumNm_"
      }
    },
    {
      "cell_type": "code",
      "source": [
        "# Checking the data types of all columns\n",
        "print(\"Data types:\")\n",
        "data.dtypes"
      ],
      "metadata": {
        "colab": {
          "base_uri": "https://localhost:8080/"
        },
        "id": "0f2npMYlpopx",
        "outputId": "ad513e05-015a-47c6-c0fb-421f9e8fbfca"
      },
      "execution_count": 519,
      "outputs": [
        {
          "output_type": "stream",
          "name": "stdout",
          "text": [
            "Data types:\n"
          ]
        },
        {
          "output_type": "execute_result",
          "data": {
            "text/plain": [
              "par_id                  int64\n",
              "paragraph              object\n",
              "has_entity             object\n",
              "lexicon_count           int64\n",
              "difficult_words       float64\n",
              "last_editor_gender     object\n",
              "category               object\n",
              "text_clarity           object\n",
              "dtype: object"
            ]
          },
          "metadata": {},
          "execution_count": 519
        }
      ]
    },
    {
      "cell_type": "code",
      "source": [
        "# Summary statistics for numerical columns\n",
        "print(\"Summary statistics for numerical columns:\")\n",
        "print(data.describe())"
      ],
      "metadata": {
        "colab": {
          "base_uri": "https://localhost:8080/"
        },
        "id": "kj7iyKlH7UOX",
        "outputId": "1265c790-193a-4e76-f6f0-8fe5a9d56436"
      },
      "execution_count": 520,
      "outputs": [
        {
          "output_type": "stream",
          "name": "stdout",
          "text": [
            "Summary statistics for numerical columns:\n",
            "             par_id  lexicon_count  difficult_words\n",
            "count  9.347000e+03    9347.000000      9329.000000\n",
            "mean   3.568369e+11      81.981277        21.514203\n",
            "std    3.221399e+11      63.533532        16.307358\n",
            "min    8.500328e+07       0.000000         0.000000\n",
            "25%    7.019601e+10      33.000000         9.000000\n",
            "50%    2.684380e+11      64.000000        17.000000\n",
            "75%    6.124310e+11     117.000000        30.000000\n",
            "max    1.058779e+12     653.000000       143.000000\n"
          ]
        }
      ]
    },
    {
      "cell_type": "markdown",
      "source": [
        "**MISSING AND DUPLICATE VALUES:**"
      ],
      "metadata": {
        "id": "R8bGiP5P22RZ"
      }
    },
    {
      "cell_type": "code",
      "source": [
        "# Check for any missing values\n",
        "print(\"Missing values:\")\n",
        "print(data.isnull().sum())\n",
        "\n",
        "# Check for duplicated rows\n",
        "duplicate_rows = data[data.duplicated()]\n",
        "\n",
        "# Display duplicate rows, if any\n",
        "if not duplicate_rows.empty:\n",
        "    print(\"Duplicate Rows:\")\n",
        "    print(duplicate_rows)\n",
        "else:\n",
        "    print(\"No duplicate rows found.\")\n"
      ],
      "metadata": {
        "colab": {
          "base_uri": "https://localhost:8080/"
        },
        "id": "lIZtPUs_868k",
        "outputId": "0dc1606b-f32d-425d-e292-a4814caaee07"
      },
      "execution_count": 521,
      "outputs": [
        {
          "output_type": "stream",
          "name": "stdout",
          "text": [
            "Missing values:\n",
            "par_id                   0\n",
            "paragraph                0\n",
            "has_entity               0\n",
            "lexicon_count            0\n",
            "difficult_words         18\n",
            "last_editor_gender       0\n",
            "category                61\n",
            "text_clarity          9338\n",
            "dtype: int64\n",
            "Duplicate Rows:\n",
            "            par_id                                          paragraph  \\\n",
            "222   126263001057  Prevalence is a measure from the statistics of...   \n",
            "936   570839002579  Wilhelm Eduard Weber  was a German physicist. ...   \n",
            "1395  933533012254  Kurzweil feels the best model for an artificia...   \n",
            "1498    7438004007  The Pahlavi Texts of Zoroastrianism  were an e...   \n",
            "1563  312084008609  \"... the expediency of attempting an intercour...   \n",
            "...            ...                                                ...   \n",
            "9262   70196005780  Once we begin to question whether there is a c...   \n",
            "9292  268438008202  In 1698, at the behest of King William III, Ha...   \n",
            "9307   19980004619  It is an open question to give support for a \"...   \n",
            "9310    6362003889  Using natural language as an example, it may n...   \n",
            "9324  220520007829  If then what comes from art is for the sake of...   \n",
            "\n",
            "                          has_entity  lexicon_count  difficult_words  \\\n",
            "222     ORG_NO_PRODUCT_NO_PERSON_NO_             58              8.0   \n",
            "936    ORG_NO_PRODUCT_NO_PERSON_YES_             17              8.0   \n",
            "1395   ORG_YES_PRODUCT_NO_PERSON_NO_            110             32.0   \n",
            "1498   ORG_YES_PRODUCT_NO_PERSON_NO_             45             10.0   \n",
            "1563  ORG_YES_PRODUCT_NO_PERSON_YES_            121             26.0   \n",
            "...                              ...            ...              ...   \n",
            "9262   ORG_NO_PRODUCT_NO_PERSON_YES_             77             17.0   \n",
            "9292  ORG_YES_PRODUCT_NO_PERSON_YES_            166             38.0   \n",
            "9307   ORG_NO_PRODUCT_NO_PERSON_YES_             66             16.0   \n",
            "9310    ORG_NO_PRODUCT_NO_PERSON_NO_             26              6.0   \n",
            "9324    ORG_NO_PRODUCT_NO_PERSON_NO_            110             11.0   \n",
            "\n",
            "     last_editor_gender                 category text_clarity  \n",
            "222                 man  artificial intelligence          NaN  \n",
            "936               woman              biographies          NaN  \n",
            "1395                man  artificial intelligence          NaN  \n",
            "1498                man               philosophy          NaN  \n",
            "1563              woman              biographies          NaN  \n",
            "...                 ...                      ...          ...  \n",
            "9262                man               philosophy          NaN  \n",
            "9292  prefer_not_to_say              biographies          NaN  \n",
            "9307                man  artificial intelligence          NaN  \n",
            "9310                man              programming          NaN  \n",
            "9324              woman               philosophy          NaN  \n",
            "\n",
            "[215 rows x 8 columns]\n"
          ]
        }
      ]
    },
    {
      "cell_type": "markdown",
      "source": [
        "**DATA DISTRIBUTION**"
      ],
      "metadata": {
        "id": "b30ovWoT2_ps"
      }
    },
    {
      "cell_type": "code",
      "source": [
        "# distribution of categories in the 'category' column\n",
        "print(\"Distribution of categories:\")\n",
        "print(data['category'].value_counts())\n",
        "\n",
        "# distribution of values in the 'has_entity' column\n",
        "print(\"\\nDistribution of 'has_entity' column:\")\n",
        "print(data['has_entity'].value_counts())\n",
        "\n",
        "# distribution of values in the 'text_clarity' column\n",
        "print(\"\\nDistribution of 'text_clarity' column:\")\n",
        "print(data['text_clarity'].value_counts())"
      ],
      "metadata": {
        "colab": {
          "base_uri": "https://localhost:8080/"
        },
        "id": "oLDt80lRD5ws",
        "outputId": "0c9b7570-6997-46b7-8454-cb5cd51d1b55"
      },
      "execution_count": 522,
      "outputs": [
        {
          "output_type": "stream",
          "name": "stdout",
          "text": [
            "Distribution of categories:\n",
            "biographies                             2942\n",
            "philosophy                              2585\n",
            "programming                             1980\n",
            "artificial intelligence                 1565\n",
            "movies about artificial intelligence     166\n",
            "Philosophy                                13\n",
            "Biographies                               13\n",
            "Artificial intelligence                   11\n",
            "Programming                               10\n",
            "Movies about artificial intelligence       1\n",
            "Name: category, dtype: int64\n",
            "\n",
            "Distribution of 'has_entity' column:\n",
            "ORG_YES_PRODUCT_NO_PERSON_YES_     3060\n",
            "ORG_NO_PRODUCT_NO_PERSON_NO_       2874\n",
            "ORG_YES_PRODUCT_NO_PERSON_NO_      1474\n",
            "ORG_NO_PRODUCT_NO_PERSON_YES_      1382\n",
            "ORG_YES_PRODUCT_YES_PERSON_YES_     299\n",
            "ORG_YES_PRODUCT_YES_PERSON_NO_      127\n",
            "ORG_NO_PRODUCT_YES_PERSON_YES_       65\n",
            "ORG_NO_PRODUCT_YES_PERSON_NO_        42\n",
            "data missing                         24\n",
            "Name: has_entity, dtype: int64\n",
            "\n",
            "Distribution of 'text_clarity' column:\n",
            "clear_enough        5\n",
            "not_clear_enough    4\n",
            "Name: text_clarity, dtype: int64\n"
          ]
        }
      ]
    },
    {
      "cell_type": "markdown",
      "source": [
        "#**2. Data splitting and cleaning.**\n",
        "\n",
        "To perform data splitting and cleaning, we'll follow these steps:\n",
        "\n",
        "**Data Splitting:** Split the dataset into training and testing sets to train and evaluate machine learning models.\n",
        "\n",
        "**Data Cleaning:** Perform cleaning operations such as handling missing values, encoding categorical variables, and any other necessary preprocessing steps.\n"
      ],
      "metadata": {
        "id": "AfKXa6YoTibF"
      }
    },
    {
      "cell_type": "markdown",
      "source": [
        "* Since there are many duplicated rows in the dataset, it is beneficial to remove them and perform initial steps of cleaning before splitting."
      ],
      "metadata": {
        "id": "eM-ebLnAd-6n"
      }
    },
    {
      "cell_type": "code",
      "source": [
        "#removing duplicate rows from dataset\n",
        "df = data.drop_duplicates()\n",
        "\n",
        "# shape of the cleaned DataFrame\n",
        "print(\"Shape of cleaned DataFrame:\", df.shape)\n",
        "\n",
        "# (Note: rows before cleaning = 9347)"
      ],
      "metadata": {
        "colab": {
          "base_uri": "https://localhost:8080/"
        },
        "id": "QcpTmyQ-bWIJ",
        "outputId": "2ee4a2ad-8c7e-4064-d270-d6699c7de3cf"
      },
      "execution_count": 523,
      "outputs": [
        {
          "output_type": "stream",
          "name": "stdout",
          "text": [
            "Shape of cleaned DataFrame: (9132, 8)\n"
          ]
        }
      ]
    },
    {
      "cell_type": "markdown",
      "source": [
        "* Removing the rows with '-1' values in the \"paragraph\" column, since this column provides the primary input data. These rows can also be found using the \"lexicon_count\" column, which has the minimum value of '0'"
      ],
      "metadata": {
        "id": "QrjxYsZA2FIa"
      }
    },
    {
      "cell_type": "code",
      "source": [
        "# Find rows with 'lexicon_count' equal to 0\n",
        "rows_with_zero_lexicon_count = df[df['lexicon_count'] == 0]\n",
        "print(\"Rows count with values of '0' is\",len(rows_with_zero_lexicon_count))\n",
        "\n",
        "# Remove rows with 'lexicon_count' equal to 0 from the DataFrame\n",
        "df = df[df['lexicon_count'] != 0]\n",
        "# shape of the cleaned DataFrame\n",
        "print(\"Shape of cleaned DataFrame:\", df.shape)"
      ],
      "metadata": {
        "colab": {
          "base_uri": "https://localhost:8080/"
        },
        "id": "Vy020Lji3xuq",
        "outputId": "2826e7f0-cc1a-4ce4-b14b-7e67f421f1ea"
      },
      "execution_count": 524,
      "outputs": [
        {
          "output_type": "stream",
          "name": "stdout",
          "text": [
            "Rows count with values of '0' is 42\n",
            "Shape of cleaned DataFrame: (9090, 8)\n"
          ]
        }
      ]
    },
    {
      "cell_type": "markdown",
      "source": [
        "Checking the missing values in the target column \"category\", since the target variable is not advised to be imputed because they control how the algorithm learns. Hence rows with missing values can be removed."
      ],
      "metadata": {
        "id": "2lUJE50sAKGD"
      }
    },
    {
      "cell_type": "code",
      "source": [
        "# Rows with NaN values in the 'category' column\n",
        "nan_values_in_category = df['category'].isna().sum()\n",
        "print(\"Number of rows with NaN values in the 'category' column:\", nan_values_in_category)\n",
        "\n",
        "# Deleting rows with NaN values in the 'category' column\n",
        "df = df.dropna(subset=['category'])\n",
        "# shape of the cleaned DataFrame\n",
        "print(\"Shape of cleaned DataFrame:\", df.shape)"
      ],
      "metadata": {
        "colab": {
          "base_uri": "https://localhost:8080/"
        },
        "id": "LHfIsMMBAJEE",
        "outputId": "22058861-ecc6-4934-f5a8-e4b973614d06"
      },
      "execution_count": 525,
      "outputs": [
        {
          "output_type": "stream",
          "name": "stdout",
          "text": [
            "Number of rows with NaN values in the 'category' column: 61\n",
            "Shape of cleaned DataFrame: (9029, 8)\n"
          ]
        }
      ]
    },
    {
      "cell_type": "code",
      "source": [
        "df.describe()"
      ],
      "metadata": {
        "colab": {
          "base_uri": "https://localhost:8080/",
          "height": 300
        },
        "id": "VUOKIiAdyIKW",
        "outputId": "9f0cbf00-5388-4e97-c094-612569039e56"
      },
      "execution_count": 526,
      "outputs": [
        {
          "output_type": "execute_result",
          "data": {
            "text/plain": [
              "             par_id  lexicon_count  difficult_words\n",
              "count  9.029000e+03    9029.000000      9011.000000\n",
              "mean   3.568362e+11      82.406247        21.632227\n",
              "std    3.220053e+11      63.364209        16.289328\n",
              "min    8.500328e+07       3.000000         0.000000\n",
              "25%    7.019601e+10      33.000000         9.000000\n",
              "50%    2.684380e+11      65.000000        17.000000\n",
              "75%    6.124310e+11     117.000000        30.000000\n",
              "max    1.058779e+12     653.000000       143.000000"
            ],
            "text/html": [
              "\n",
              "  <div id=\"df-8bce698b-1bcb-430a-bed9-adedf0f40dd5\" class=\"colab-df-container\">\n",
              "    <div>\n",
              "<style scoped>\n",
              "    .dataframe tbody tr th:only-of-type {\n",
              "        vertical-align: middle;\n",
              "    }\n",
              "\n",
              "    .dataframe tbody tr th {\n",
              "        vertical-align: top;\n",
              "    }\n",
              "\n",
              "    .dataframe thead th {\n",
              "        text-align: right;\n",
              "    }\n",
              "</style>\n",
              "<table border=\"1\" class=\"dataframe\">\n",
              "  <thead>\n",
              "    <tr style=\"text-align: right;\">\n",
              "      <th></th>\n",
              "      <th>par_id</th>\n",
              "      <th>lexicon_count</th>\n",
              "      <th>difficult_words</th>\n",
              "    </tr>\n",
              "  </thead>\n",
              "  <tbody>\n",
              "    <tr>\n",
              "      <th>count</th>\n",
              "      <td>9.029000e+03</td>\n",
              "      <td>9029.000000</td>\n",
              "      <td>9011.000000</td>\n",
              "    </tr>\n",
              "    <tr>\n",
              "      <th>mean</th>\n",
              "      <td>3.568362e+11</td>\n",
              "      <td>82.406247</td>\n",
              "      <td>21.632227</td>\n",
              "    </tr>\n",
              "    <tr>\n",
              "      <th>std</th>\n",
              "      <td>3.220053e+11</td>\n",
              "      <td>63.364209</td>\n",
              "      <td>16.289328</td>\n",
              "    </tr>\n",
              "    <tr>\n",
              "      <th>min</th>\n",
              "      <td>8.500328e+07</td>\n",
              "      <td>3.000000</td>\n",
              "      <td>0.000000</td>\n",
              "    </tr>\n",
              "    <tr>\n",
              "      <th>25%</th>\n",
              "      <td>7.019601e+10</td>\n",
              "      <td>33.000000</td>\n",
              "      <td>9.000000</td>\n",
              "    </tr>\n",
              "    <tr>\n",
              "      <th>50%</th>\n",
              "      <td>2.684380e+11</td>\n",
              "      <td>65.000000</td>\n",
              "      <td>17.000000</td>\n",
              "    </tr>\n",
              "    <tr>\n",
              "      <th>75%</th>\n",
              "      <td>6.124310e+11</td>\n",
              "      <td>117.000000</td>\n",
              "      <td>30.000000</td>\n",
              "    </tr>\n",
              "    <tr>\n",
              "      <th>max</th>\n",
              "      <td>1.058779e+12</td>\n",
              "      <td>653.000000</td>\n",
              "      <td>143.000000</td>\n",
              "    </tr>\n",
              "  </tbody>\n",
              "</table>\n",
              "</div>\n",
              "    <div class=\"colab-df-buttons\">\n",
              "\n",
              "  <div class=\"colab-df-container\">\n",
              "    <button class=\"colab-df-convert\" onclick=\"convertToInteractive('df-8bce698b-1bcb-430a-bed9-adedf0f40dd5')\"\n",
              "            title=\"Convert this dataframe to an interactive table.\"\n",
              "            style=\"display:none;\">\n",
              "\n",
              "  <svg xmlns=\"http://www.w3.org/2000/svg\" height=\"24px\" viewBox=\"0 -960 960 960\">\n",
              "    <path d=\"M120-120v-720h720v720H120Zm60-500h600v-160H180v160Zm220 220h160v-160H400v160Zm0 220h160v-160H400v160ZM180-400h160v-160H180v160Zm440 0h160v-160H620v160ZM180-180h160v-160H180v160Zm440 0h160v-160H620v160Z\"/>\n",
              "  </svg>\n",
              "    </button>\n",
              "\n",
              "  <style>\n",
              "    .colab-df-container {\n",
              "      display:flex;\n",
              "      gap: 12px;\n",
              "    }\n",
              "\n",
              "    .colab-df-convert {\n",
              "      background-color: #E8F0FE;\n",
              "      border: none;\n",
              "      border-radius: 50%;\n",
              "      cursor: pointer;\n",
              "      display: none;\n",
              "      fill: #1967D2;\n",
              "      height: 32px;\n",
              "      padding: 0 0 0 0;\n",
              "      width: 32px;\n",
              "    }\n",
              "\n",
              "    .colab-df-convert:hover {\n",
              "      background-color: #E2EBFA;\n",
              "      box-shadow: 0px 1px 2px rgba(60, 64, 67, 0.3), 0px 1px 3px 1px rgba(60, 64, 67, 0.15);\n",
              "      fill: #174EA6;\n",
              "    }\n",
              "\n",
              "    .colab-df-buttons div {\n",
              "      margin-bottom: 4px;\n",
              "    }\n",
              "\n",
              "    [theme=dark] .colab-df-convert {\n",
              "      background-color: #3B4455;\n",
              "      fill: #D2E3FC;\n",
              "    }\n",
              "\n",
              "    [theme=dark] .colab-df-convert:hover {\n",
              "      background-color: #434B5C;\n",
              "      box-shadow: 0px 1px 3px 1px rgba(0, 0, 0, 0.15);\n",
              "      filter: drop-shadow(0px 1px 2px rgba(0, 0, 0, 0.3));\n",
              "      fill: #FFFFFF;\n",
              "    }\n",
              "  </style>\n",
              "\n",
              "    <script>\n",
              "      const buttonEl =\n",
              "        document.querySelector('#df-8bce698b-1bcb-430a-bed9-adedf0f40dd5 button.colab-df-convert');\n",
              "      buttonEl.style.display =\n",
              "        google.colab.kernel.accessAllowed ? 'block' : 'none';\n",
              "\n",
              "      async function convertToInteractive(key) {\n",
              "        const element = document.querySelector('#df-8bce698b-1bcb-430a-bed9-adedf0f40dd5');\n",
              "        const dataTable =\n",
              "          await google.colab.kernel.invokeFunction('convertToInteractive',\n",
              "                                                    [key], {});\n",
              "        if (!dataTable) return;\n",
              "\n",
              "        const docLinkHtml = 'Like what you see? Visit the ' +\n",
              "          '<a target=\"_blank\" href=https://colab.research.google.com/notebooks/data_table.ipynb>data table notebook</a>'\n",
              "          + ' to learn more about interactive tables.';\n",
              "        element.innerHTML = '';\n",
              "        dataTable['output_type'] = 'display_data';\n",
              "        await google.colab.output.renderOutput(dataTable, element);\n",
              "        const docLink = document.createElement('div');\n",
              "        docLink.innerHTML = docLinkHtml;\n",
              "        element.appendChild(docLink);\n",
              "      }\n",
              "    </script>\n",
              "  </div>\n",
              "\n",
              "\n",
              "<div id=\"df-94726683-0ac2-4fa1-9242-dad20b31bcfa\">\n",
              "  <button class=\"colab-df-quickchart\" onclick=\"quickchart('df-94726683-0ac2-4fa1-9242-dad20b31bcfa')\"\n",
              "            title=\"Suggest charts\"\n",
              "            style=\"display:none;\">\n",
              "\n",
              "<svg xmlns=\"http://www.w3.org/2000/svg\" height=\"24px\"viewBox=\"0 0 24 24\"\n",
              "     width=\"24px\">\n",
              "    <g>\n",
              "        <path d=\"M19 3H5c-1.1 0-2 .9-2 2v14c0 1.1.9 2 2 2h14c1.1 0 2-.9 2-2V5c0-1.1-.9-2-2-2zM9 17H7v-7h2v7zm4 0h-2V7h2v10zm4 0h-2v-4h2v4z\"/>\n",
              "    </g>\n",
              "</svg>\n",
              "  </button>\n",
              "\n",
              "<style>\n",
              "  .colab-df-quickchart {\n",
              "      --bg-color: #E8F0FE;\n",
              "      --fill-color: #1967D2;\n",
              "      --hover-bg-color: #E2EBFA;\n",
              "      --hover-fill-color: #174EA6;\n",
              "      --disabled-fill-color: #AAA;\n",
              "      --disabled-bg-color: #DDD;\n",
              "  }\n",
              "\n",
              "  [theme=dark] .colab-df-quickchart {\n",
              "      --bg-color: #3B4455;\n",
              "      --fill-color: #D2E3FC;\n",
              "      --hover-bg-color: #434B5C;\n",
              "      --hover-fill-color: #FFFFFF;\n",
              "      --disabled-bg-color: #3B4455;\n",
              "      --disabled-fill-color: #666;\n",
              "  }\n",
              "\n",
              "  .colab-df-quickchart {\n",
              "    background-color: var(--bg-color);\n",
              "    border: none;\n",
              "    border-radius: 50%;\n",
              "    cursor: pointer;\n",
              "    display: none;\n",
              "    fill: var(--fill-color);\n",
              "    height: 32px;\n",
              "    padding: 0;\n",
              "    width: 32px;\n",
              "  }\n",
              "\n",
              "  .colab-df-quickchart:hover {\n",
              "    background-color: var(--hover-bg-color);\n",
              "    box-shadow: 0 1px 2px rgba(60, 64, 67, 0.3), 0 1px 3px 1px rgba(60, 64, 67, 0.15);\n",
              "    fill: var(--button-hover-fill-color);\n",
              "  }\n",
              "\n",
              "  .colab-df-quickchart-complete:disabled,\n",
              "  .colab-df-quickchart-complete:disabled:hover {\n",
              "    background-color: var(--disabled-bg-color);\n",
              "    fill: var(--disabled-fill-color);\n",
              "    box-shadow: none;\n",
              "  }\n",
              "\n",
              "  .colab-df-spinner {\n",
              "    border: 2px solid var(--fill-color);\n",
              "    border-color: transparent;\n",
              "    border-bottom-color: var(--fill-color);\n",
              "    animation:\n",
              "      spin 1s steps(1) infinite;\n",
              "  }\n",
              "\n",
              "  @keyframes spin {\n",
              "    0% {\n",
              "      border-color: transparent;\n",
              "      border-bottom-color: var(--fill-color);\n",
              "      border-left-color: var(--fill-color);\n",
              "    }\n",
              "    20% {\n",
              "      border-color: transparent;\n",
              "      border-left-color: var(--fill-color);\n",
              "      border-top-color: var(--fill-color);\n",
              "    }\n",
              "    30% {\n",
              "      border-color: transparent;\n",
              "      border-left-color: var(--fill-color);\n",
              "      border-top-color: var(--fill-color);\n",
              "      border-right-color: var(--fill-color);\n",
              "    }\n",
              "    40% {\n",
              "      border-color: transparent;\n",
              "      border-right-color: var(--fill-color);\n",
              "      border-top-color: var(--fill-color);\n",
              "    }\n",
              "    60% {\n",
              "      border-color: transparent;\n",
              "      border-right-color: var(--fill-color);\n",
              "    }\n",
              "    80% {\n",
              "      border-color: transparent;\n",
              "      border-right-color: var(--fill-color);\n",
              "      border-bottom-color: var(--fill-color);\n",
              "    }\n",
              "    90% {\n",
              "      border-color: transparent;\n",
              "      border-bottom-color: var(--fill-color);\n",
              "    }\n",
              "  }\n",
              "</style>\n",
              "\n",
              "  <script>\n",
              "    async function quickchart(key) {\n",
              "      const quickchartButtonEl =\n",
              "        document.querySelector('#' + key + ' button');\n",
              "      quickchartButtonEl.disabled = true;  // To prevent multiple clicks.\n",
              "      quickchartButtonEl.classList.add('colab-df-spinner');\n",
              "      try {\n",
              "        const charts = await google.colab.kernel.invokeFunction(\n",
              "            'suggestCharts', [key], {});\n",
              "      } catch (error) {\n",
              "        console.error('Error during call to suggestCharts:', error);\n",
              "      }\n",
              "      quickchartButtonEl.classList.remove('colab-df-spinner');\n",
              "      quickchartButtonEl.classList.add('colab-df-quickchart-complete');\n",
              "    }\n",
              "    (() => {\n",
              "      let quickchartButtonEl =\n",
              "        document.querySelector('#df-94726683-0ac2-4fa1-9242-dad20b31bcfa button');\n",
              "      quickchartButtonEl.style.display =\n",
              "        google.colab.kernel.accessAllowed ? 'block' : 'none';\n",
              "    })();\n",
              "  </script>\n",
              "</div>\n",
              "    </div>\n",
              "  </div>\n"
            ],
            "application/vnd.google.colaboratory.intrinsic+json": {
              "type": "dataframe",
              "summary": "{\n  \"name\": \"df\",\n  \"rows\": 8,\n  \"fields\": [\n    {\n      \"column\": \"par_id\",\n      \"properties\": {\n        \"dtype\": \"number\",\n        \"std\": 358649208480.9477,\n        \"min\": 9029.0,\n        \"max\": 1058779003275.0,\n        \"num_unique_values\": 8,\n        \"samples\": [\n          356836232002.81494,\n          268438008203.0,\n          9029.0\n        ],\n        \"semantic_type\": \"\",\n        \"description\": \"\"\n      }\n    },\n    {\n      \"column\": \"lexicon_count\",\n      \"properties\": {\n        \"dtype\": \"number\",\n        \"std\": 3147.8877227648454,\n        \"min\": 3.0,\n        \"max\": 9029.0,\n        \"num_unique_values\": 8,\n        \"samples\": [\n          82.40624653893012,\n          65.0,\n          9029.0\n        ],\n        \"semantic_type\": \"\",\n        \"description\": \"\"\n      }\n    },\n    {\n      \"column\": \"difficult_words\",\n      \"properties\": {\n        \"dtype\": \"number\",\n        \"std\": 3174.2280649794434,\n        \"min\": 0.0,\n        \"max\": 9011.0,\n        \"num_unique_values\": 8,\n        \"samples\": [\n          21.632227277771612,\n          17.0,\n          9011.0\n        ],\n        \"semantic_type\": \"\",\n        \"description\": \"\"\n      }\n    }\n  ]\n}"
            }
          },
          "metadata": {},
          "execution_count": 526
        }
      ]
    },
    {
      "cell_type": "code",
      "source": [
        "# utilize the necessary package for splitting\n",
        "from sklearn.model_selection import train_test_split"
      ],
      "metadata": {
        "id": "q_KTxeM-VPGE"
      },
      "execution_count": 527,
      "outputs": []
    },
    {
      "cell_type": "markdown",
      "source": [
        "The **X dataset** stores the inputs to the model and the **Y dataset** represents the desired output of the model."
      ],
      "metadata": {
        "id": "_FbMjFCwf-EK"
      }
    },
    {
      "cell_type": "code",
      "source": [
        "X = df.drop(columns=[\"category\",\"text_clarity\"])\n",
        "Y = df[[\"category\"]]\n",
        "print('Features df\\n' ,X)\n",
        "print('Target df\\n', Y)"
      ],
      "metadata": {
        "colab": {
          "base_uri": "https://localhost:8080/"
        },
        "id": "QizYAYajfrN2",
        "outputId": "277ba335-ac1d-49db-c32d-0790a5d5581f"
      },
      "execution_count": 528,
      "outputs": [
        {
          "output_type": "stream",
          "name": "stdout",
          "text": [
            "Features df\n",
            "             par_id                                          paragraph  \\\n",
            "0     428209002237  Ramsay was born in Glasgow on 2 October 1852. ...   \n",
            "1     564218010072  It has been widely estimated for at least the ...   \n",
            "2     291401001672  He went on to win the Royal Medal of the Royal...   \n",
            "3      31548004883  The changes have altered many underlying assum...   \n",
            "4      50634005146  After these novels were published, Disraeli de...   \n",
            "...            ...                                                ...   \n",
            "9342  200523007578  Sir Joseph Dalton Hooker  was a British botani...   \n",
            "9343   50634005203  As successful invasions of India generally cam...   \n",
            "9344    6437003939  Hawking was born on 8 January 1942 in Oxford t...   \n",
            "9345  725259002815  More complex tasks can be making custom data e...   \n",
            "9346  109126000894  Governments, and especially the police and cou...   \n",
            "\n",
            "                           has_entity  lexicon_count  difficult_words  \\\n",
            "0      ORG_YES_PRODUCT_NO_PERSON_YES_             49             12.0   \n",
            "1       ORG_YES_PRODUCT_NO_PERSON_NO_            166             47.0   \n",
            "2       ORG_YES_PRODUCT_NO_PERSON_NO_             69             18.0   \n",
            "3       ORG_NO_PRODUCT_YES_PERSON_NO_             76             27.0   \n",
            "4     ORG_YES_PRODUCT_YES_PERSON_YES_            200             47.0   \n",
            "...                               ...            ...              ...   \n",
            "9342   ORG_YES_PRODUCT_NO_PERSON_YES_             54             16.0   \n",
            "9343   ORG_YES_PRODUCT_NO_PERSON_YES_            217             46.0   \n",
            "9344   ORG_YES_PRODUCT_NO_PERSON_YES_             91             27.0   \n",
            "9345    ORG_YES_PRODUCT_NO_PERSON_NO_             47             15.0   \n",
            "9346     ORG_NO_PRODUCT_NO_PERSON_NO_             87              8.0   \n",
            "\n",
            "     last_editor_gender  \n",
            "0                   man  \n",
            "1                   man  \n",
            "2            non-binary  \n",
            "3            non-binary  \n",
            "4                   man  \n",
            "...                 ...  \n",
            "9342                man  \n",
            "9343              woman  \n",
            "9344              woman  \n",
            "9345                man  \n",
            "9346                man  \n",
            "\n",
            "[9029 rows x 6 columns]\n",
            "Target df\n",
            "                      category\n",
            "0                 biographies\n",
            "1     artificial intelligence\n",
            "2                 biographies\n",
            "3                 programming\n",
            "4                 biographies\n",
            "...                       ...\n",
            "9342              biographies\n",
            "9343              biographies\n",
            "9344              biographies\n",
            "9345              programming\n",
            "9346               philosophy\n",
            "\n",
            "[9029 rows x 1 columns]\n"
          ]
        }
      ]
    },
    {
      "cell_type": "markdown",
      "source": [
        "**Renaming/correcting the capitalization of the categorical values**"
      ],
      "metadata": {
        "id": "aRQazYFQanOE"
      }
    },
    {
      "cell_type": "code",
      "source": [
        "Y['category'].value_counts()"
      ],
      "metadata": {
        "colab": {
          "base_uri": "https://localhost:8080/"
        },
        "id": "ZLGVCZOBbRgO",
        "outputId": "c4557e1b-52e3-410d-80ca-4a27b7fe6cc8"
      },
      "execution_count": 529,
      "outputs": [
        {
          "output_type": "execute_result",
          "data": {
            "text/plain": [
              "biographies                             2875\n",
              "philosophy                              2500\n",
              "programming                             1928\n",
              "artificial intelligence                 1517\n",
              "movies about artificial intelligence     162\n",
              "Philosophy                                13\n",
              "Biographies                               13\n",
              "Programming                               10\n",
              "Artificial intelligence                   10\n",
              "Movies about artificial intelligence       1\n",
              "Name: category, dtype: int64"
            ]
          },
          "metadata": {},
          "execution_count": 529
        }
      ]
    },
    {
      "cell_type": "code",
      "source": [
        "# Correcting the conditions and values for assignment\n",
        "Y.loc[Y['category'] == 'Philosophy', 'category'] = 'philosophy'\n",
        "Y.loc[Y['category'] == 'Biographies', 'category'] = 'biographies'\n",
        "Y.loc[Y['category'] == 'Programming', 'category'] = 'programming'\n",
        "Y.loc[Y['category'] == 'Artificial intelligence', 'category'] = 'artificial intelligence'\n",
        "Y.loc[Y['category'] == 'Movies about artificial intelligence', 'category'] = 'movies about artificial intelligence'"
      ],
      "metadata": {
        "colab": {
          "base_uri": "https://localhost:8080/"
        },
        "id": "9lIleSg2eUDE",
        "outputId": "4be255ec-a2d3-41d3-b065-ae508c892075"
      },
      "execution_count": 530,
      "outputs": [
        {
          "output_type": "stream",
          "name": "stderr",
          "text": [
            "<ipython-input-530-6b14f09d1f00>:2: SettingWithCopyWarning: \n",
            "A value is trying to be set on a copy of a slice from a DataFrame\n",
            "\n",
            "See the caveats in the documentation: https://pandas.pydata.org/pandas-docs/stable/user_guide/indexing.html#returning-a-view-versus-a-copy\n",
            "  Y.loc[Y['category'] == 'Philosophy', 'category'] = 'philosophy'\n",
            "<ipython-input-530-6b14f09d1f00>:3: SettingWithCopyWarning: \n",
            "A value is trying to be set on a copy of a slice from a DataFrame\n",
            "\n",
            "See the caveats in the documentation: https://pandas.pydata.org/pandas-docs/stable/user_guide/indexing.html#returning-a-view-versus-a-copy\n",
            "  Y.loc[Y['category'] == 'Biographies', 'category'] = 'biographies'\n",
            "<ipython-input-530-6b14f09d1f00>:4: SettingWithCopyWarning: \n",
            "A value is trying to be set on a copy of a slice from a DataFrame\n",
            "\n",
            "See the caveats in the documentation: https://pandas.pydata.org/pandas-docs/stable/user_guide/indexing.html#returning-a-view-versus-a-copy\n",
            "  Y.loc[Y['category'] == 'Programming', 'category'] = 'programming'\n",
            "<ipython-input-530-6b14f09d1f00>:5: SettingWithCopyWarning: \n",
            "A value is trying to be set on a copy of a slice from a DataFrame\n",
            "\n",
            "See the caveats in the documentation: https://pandas.pydata.org/pandas-docs/stable/user_guide/indexing.html#returning-a-view-versus-a-copy\n",
            "  Y.loc[Y['category'] == 'Artificial intelligence', 'category'] = 'artificial intelligence'\n",
            "<ipython-input-530-6b14f09d1f00>:6: SettingWithCopyWarning: \n",
            "A value is trying to be set on a copy of a slice from a DataFrame\n",
            "\n",
            "See the caveats in the documentation: https://pandas.pydata.org/pandas-docs/stable/user_guide/indexing.html#returning-a-view-versus-a-copy\n",
            "  Y.loc[Y['category'] == 'Movies about artificial intelligence', 'category'] = 'movies about artificial intelligence'\n"
          ]
        }
      ]
    },
    {
      "cell_type": "code",
      "source": [
        "Y['category'].value_counts()"
      ],
      "metadata": {
        "colab": {
          "base_uri": "https://localhost:8080/"
        },
        "id": "xwhF2N3Rfq55",
        "outputId": "59288fc5-0423-4ac3-dda2-30ce0e60db19"
      },
      "execution_count": 531,
      "outputs": [
        {
          "output_type": "execute_result",
          "data": {
            "text/plain": [
              "biographies                             2888\n",
              "philosophy                              2513\n",
              "programming                             1938\n",
              "artificial intelligence                 1527\n",
              "movies about artificial intelligence     163\n",
              "Name: category, dtype: int64"
            ]
          },
          "metadata": {},
          "execution_count": 531
        }
      ]
    },
    {
      "cell_type": "code",
      "source": [
        "nan_columns = X.columns[X.isna().any()].tolist()\n",
        "print(\"Columns with NaN values:\", nan_columns)\n",
        "\n",
        "rows_with_nan = X[X.isna().any(axis=1)]\n",
        "print(\"Rows with NaN values:\")\n",
        "print(rows_with_nan)"
      ],
      "metadata": {
        "colab": {
          "base_uri": "https://localhost:8080/"
        },
        "id": "rOrqK-HJl1hf",
        "outputId": "f5b2a68c-3d34-4409-8275-a58c9f6bf1af"
      },
      "execution_count": 532,
      "outputs": [
        {
          "output_type": "stream",
          "name": "stdout",
          "text": [
            "Columns with NaN values: ['difficult_words']\n",
            "Rows with NaN values:\n",
            "             par_id                                          paragraph  \\\n",
            "88      79225005845  Pepys was the fifth of 11 children, but child ...   \n",
            "1968   985985012475  ChatGPT is credited with starting the AI boom,...   \n",
            "2296   657766010672  Lister wrote two papers on the epidemics; both...   \n",
            "4346   619566002653  Other uses of the word have sprung from the ro...   \n",
            "4862   123020001042  Even though assembly language is not directly ...   \n",
            "6151   141663006942  In his biological works, the natural philosoph...   \n",
            "6626  1050281003262  The Dialog of Pessimism is an ancient text. It...   \n",
            "6770    18897000466   Arising from this, the whole of psychoanalysi...   \n",
            "7221    31540004807  John G. Kemeny was the chairman of the Dartmou...   \n",
            "7465      789000063  As another example, if there are 10 people in ...   \n",
            "7614   330064008823   The dynamically sublime is \"nature considered...   \n",
            "7786   196502007401  The stoic philosopher and Roman Emperor Marcus...   \n",
            "7865    19675004532  John Cutler settled an annual gratuity of £50 ...   \n",
            "8365   610032010393  Thus, reinforcement learning is particularly w...   \n",
            "8511   237106008025   have common parents, except that one must fir...   \n",
            "8900    33956000568  In some sports, such as cricket and baseball, ...   \n",
            "8959    48005000617   Sir Frank Whittle Medal, the Royal Academy of...   \n",
            "8967   396559009374  In languages such as Java, Scala and Objective...   \n",
            "\n",
            "                          has_entity  lexicon_count  difficult_words  \\\n",
            "88    ORG_YES_PRODUCT_NO_PERSON_YES_             86              NaN   \n",
            "1968   ORG_YES_PRODUCT_NO_PERSON_NO_             23              NaN   \n",
            "2296   ORG_YES_PRODUCT_NO_PERSON_NO_             37              NaN   \n",
            "4346    ORG_NO_PRODUCT_NO_PERSON_NO_             47              NaN   \n",
            "4862    ORG_NO_PRODUCT_NO_PERSON_NO_             59              NaN   \n",
            "6151  ORG_YES_PRODUCT_NO_PERSON_YES_            123              NaN   \n",
            "6626   ORG_YES_PRODUCT_NO_PERSON_NO_             65              NaN   \n",
            "6770  ORG_YES_PRODUCT_NO_PERSON_YES_             86              NaN   \n",
            "7221  ORG_YES_PRODUCT_NO_PERSON_YES_            263              NaN   \n",
            "7465    ORG_NO_PRODUCT_NO_PERSON_NO_             45              NaN   \n",
            "7614  ORG_YES_PRODUCT_NO_PERSON_YES_            128              NaN   \n",
            "7786  ORG_YES_PRODUCT_NO_PERSON_YES_             99              NaN   \n",
            "7865  ORG_YES_PRODUCT_NO_PERSON_YES_            128              NaN   \n",
            "8365    ORG_NO_PRODUCT_NO_PERSON_NO_             81              NaN   \n",
            "8511  ORG_YES_PRODUCT_NO_PERSON_YES_            160              NaN   \n",
            "8900    ORG_NO_PRODUCT_NO_PERSON_NO_             28              NaN   \n",
            "8959  ORG_YES_PRODUCT_NO_PERSON_YES_             19              NaN   \n",
            "8967   ORG_NO_PRODUCT_NO_PERSON_YES_             35              NaN   \n",
            "\n",
            "     last_editor_gender  \n",
            "88                  man  \n",
            "1968              woman  \n",
            "2296                man  \n",
            "4346                man  \n",
            "4862                man  \n",
            "6151                man  \n",
            "6626                man  \n",
            "6770              woman  \n",
            "7221                man  \n",
            "7465              woman  \n",
            "7614              woman  \n",
            "7786                man  \n",
            "7865                man  \n",
            "8365              woman  \n",
            "8511              woman  \n",
            "8900                man  \n",
            "8959              woman  \n",
            "8967                man  \n"
          ]
        }
      ]
    },
    {
      "cell_type": "code",
      "source": [
        "nan_columns_y = Y.columns[Y.isna().any()].tolist()\n",
        "print(\"Columns with NaN values:\", nan_columns_y)\n",
        "\n",
        "rows_with_nan_y = Y[Y.isna().any(axis=1)]\n",
        "print(\"Rows with NaN values:\")\n",
        "print(rows_with_nan_y)"
      ],
      "metadata": {
        "colab": {
          "base_uri": "https://localhost:8080/"
        },
        "id": "Gr1ZOxletQ2t",
        "outputId": "b4750a08-35ad-43e0-e11c-4cfd41ff0f6a"
      },
      "execution_count": 533,
      "outputs": [
        {
          "output_type": "stream",
          "name": "stdout",
          "text": [
            "Columns with NaN values: []\n",
            "Rows with NaN values:\n",
            "Empty DataFrame\n",
            "Columns: [category]\n",
            "Index: []\n"
          ]
        }
      ]
    },
    {
      "cell_type": "markdown",
      "source": [
        "**Managing missing data**"
      ],
      "metadata": {
        "id": "2YVdvq9urhEQ"
      }
    },
    {
      "cell_type": "markdown",
      "source": [
        "It is found that \"has_entity\" column has 'data missing' values(24).Before imputing the 'data missing' is converted to NA values and then the missing values in has_entity are imputed based on the most frequent value observed for that category."
      ],
      "metadata": {
        "id": "qAx8Y48bkaeR"
      }
    },
    {
      "cell_type": "code",
      "source": [
        "X['has_entity'] = X['has_entity'].replace('data missing', pd.NA)"
      ],
      "metadata": {
        "id": "oGCFaplLeQbB"
      },
      "execution_count": 534,
      "outputs": []
    },
    {
      "cell_type": "code",
      "source": [
        "# Now, let's fill missing values in has_entity based on mode within each category\n",
        "for category in Y[\"category\"].unique():\n",
        "    mode_has_entity = df.loc[df[\"category\"] == category, \"has_entity\"].mode()[0]\n",
        "    # Fill missing values in has_entity for rows with the current category\n",
        "    X.loc[df[\"category\"] == category, \"has_entity\"] = X.loc[df[\"category\"] == category, \"has_entity\"].fillna(mode_has_entity)\n"
      ],
      "metadata": {
        "id": "qBfGyARdhH5v"
      },
      "execution_count": 535,
      "outputs": []
    },
    {
      "cell_type": "code",
      "source": [
        "print(\"\\nDistribution of 'has_entity' column in df:\")\n",
        "print(df['has_entity'].value_counts())"
      ],
      "metadata": {
        "colab": {
          "base_uri": "https://localhost:8080/"
        },
        "id": "wL_fWBUqVqwP",
        "outputId": "fd92e236-21dd-4ba5-96f0-2463f0a0cd28"
      },
      "execution_count": 536,
      "outputs": [
        {
          "output_type": "stream",
          "name": "stdout",
          "text": [
            "\n",
            "Distribution of 'has_entity' column in df:\n",
            "ORG_YES_PRODUCT_NO_PERSON_YES_     2964\n",
            "ORG_NO_PRODUCT_NO_PERSON_NO_       2756\n",
            "ORG_YES_PRODUCT_NO_PERSON_NO_      1433\n",
            "ORG_NO_PRODUCT_NO_PERSON_YES_      1336\n",
            "ORG_YES_PRODUCT_YES_PERSON_YES_     290\n",
            "ORG_YES_PRODUCT_YES_PERSON_NO_      122\n",
            "ORG_NO_PRODUCT_YES_PERSON_YES_       62\n",
            "ORG_NO_PRODUCT_YES_PERSON_NO_        42\n",
            "data missing                         24\n",
            "Name: has_entity, dtype: int64\n"
          ]
        }
      ]
    },
    {
      "cell_type": "code",
      "source": [
        "print(\"\\nDistribution of 'has_entity' column in X:\")\n",
        "print(X['has_entity'].value_counts())"
      ],
      "metadata": {
        "colab": {
          "base_uri": "https://localhost:8080/"
        },
        "id": "6mYkGX-Ch2ar",
        "outputId": "17d975ff-0255-4722-d747-66512a0395f5"
      },
      "execution_count": 537,
      "outputs": [
        {
          "output_type": "stream",
          "name": "stdout",
          "text": [
            "\n",
            "Distribution of 'has_entity' column in X:\n",
            "ORG_YES_PRODUCT_NO_PERSON_YES_     2975\n",
            "ORG_NO_PRODUCT_NO_PERSON_NO_       2769\n",
            "ORG_YES_PRODUCT_NO_PERSON_NO_      1433\n",
            "ORG_NO_PRODUCT_NO_PERSON_YES_      1336\n",
            "ORG_YES_PRODUCT_YES_PERSON_YES_     290\n",
            "ORG_YES_PRODUCT_YES_PERSON_NO_      122\n",
            "ORG_NO_PRODUCT_YES_PERSON_YES_       62\n",
            "ORG_NO_PRODUCT_YES_PERSON_NO_        42\n",
            "Name: has_entity, dtype: int64\n"
          ]
        }
      ]
    },
    {
      "cell_type": "code",
      "source": [
        "# handling missing data\n",
        "from sklearn.impute import SimpleImputer\n",
        "\n",
        "# Create SimpleImputer object with strategy='mean'\n",
        "imputer = SimpleImputer(missing_values = np.nan, strategy='mean')\n",
        "\n",
        "# Reshape the lexicon_count column to match the shape expected by SimpleImputer\n",
        "lexicon_count_values = X['lexicon_count'].values.reshape(-1, 1)\n",
        "\n",
        "# Fit the imputer on the lexicon_count column\n",
        "imputer.fit(lexicon_count_values)\n",
        "\n",
        "# Transform the difficult_words column using the fitted imputer\n",
        "X['difficult_words'] = imputer.transform(X['difficult_words'].values.reshape(-1, 1))\n",
        "\n",
        "# Check if there are any remaining missing values\n",
        "missing_values = X.isnull().sum()\n",
        "print(\"Remaining missing values:\")\n",
        "print(missing_values)\n"
      ],
      "metadata": {
        "colab": {
          "base_uri": "https://localhost:8080/"
        },
        "id": "SAvEsA9V8UQC",
        "outputId": "f9757d00-5e90-4b07-81fa-5cca76c05661"
      },
      "execution_count": 538,
      "outputs": [
        {
          "output_type": "stream",
          "name": "stdout",
          "text": [
            "Remaining missing values:\n",
            "par_id                0\n",
            "paragraph             0\n",
            "has_entity            0\n",
            "lexicon_count         0\n",
            "difficult_words       0\n",
            "last_editor_gender    0\n",
            "dtype: int64\n"
          ]
        }
      ]
    },
    {
      "cell_type": "markdown",
      "source": [
        "**Splitting the Data**"
      ],
      "metadata": {
        "id": "9YMmJs3cld6O"
      }
    },
    {
      "cell_type": "code",
      "source": [
        "\n",
        "# \"shuffle=True\" by default, but best to specify it, so that we are sure the split between training and test is really random.\n",
        "train_dataset, test_dataset, train_labels, test_labels = train_test_split(X, Y,\n",
        "                                                                          test_size= 0.2,\n",
        "                                                                          random_state=77,\n",
        "                                                                          shuffle=True)"
      ],
      "metadata": {
        "id": "NpvIMwByh-_L"
      },
      "execution_count": 539,
      "outputs": []
    },
    {
      "cell_type": "code",
      "source": [
        "print(train_dataset)\n",
        "# test_dataset.sample(10)"
      ],
      "metadata": {
        "colab": {
          "base_uri": "https://localhost:8080/"
        },
        "id": "2UNs3DiIsr_z",
        "outputId": "71711c25-e503-4583-b5a3-f20d634c3529"
      },
      "execution_count": 540,
      "outputs": [
        {
          "output_type": "stream",
          "name": "stdout",
          "text": [
            "            par_id                                          paragraph  \\\n",
            "8290   83427006011  The first Fortran compiler set a high standard...   \n",
            "1435  410183002168  In computer programming, a header file can be ...   \n",
            "6188  156701007056  Banting also maintained this position in his r...   \n",
            "3300  333921001965  Or, this can be accomplished by weighting the ...   \n",
            "6191  655515010603  The action statement prints each line numbered...   \n",
            "...            ...                                                ...   \n",
            "168   195432007342   Badham did 12 to 14 takes of the first shot t...   \n",
            "4948  531004009997  User experience  designer incorporates aspects...   \n",
            "8083  439623009565  In his book The Home of the Blizzard, Mawson t...   \n",
            "2318    7733000306  Arguments such as these are about the logical ...   \n",
            "9104  402868002159  In computer science, a low-level programming l...   \n",
            "\n",
            "                          has_entity  lexicon_count  difficult_words  \\\n",
            "8290  ORG_YES_PRODUCT_NO_PERSON_YES_             68             21.0   \n",
            "1435   ORG_NO_PRODUCT_NO_PERSON_YES_             35              8.0   \n",
            "6188  ORG_YES_PRODUCT_NO_PERSON_YES_            148             43.0   \n",
            "3300    ORG_NO_PRODUCT_NO_PERSON_NO_             18              3.0   \n",
            "6191   ORG_YES_PRODUCT_NO_PERSON_NO_            136             21.0   \n",
            "...                              ...            ...              ...   \n",
            "168    ORG_NO_PRODUCT_NO_PERSON_YES_             96             13.0   \n",
            "4948    ORG_NO_PRODUCT_NO_PERSON_NO_             23             16.0   \n",
            "8083   ORG_NO_PRODUCT_NO_PERSON_YES_             74              9.0   \n",
            "2318    ORG_NO_PRODUCT_NO_PERSON_NO_             30              7.0   \n",
            "9104    ORG_NO_PRODUCT_NO_PERSON_NO_             96             18.0   \n",
            "\n",
            "     last_editor_gender  \n",
            "8290                man  \n",
            "1435                man  \n",
            "6188                man  \n",
            "3300                man  \n",
            "6191                man  \n",
            "...                 ...  \n",
            "168                 man  \n",
            "4948                man  \n",
            "8083                man  \n",
            "2318                man  \n",
            "9104                man  \n",
            "\n",
            "[7223 rows x 6 columns]\n"
          ]
        }
      ]
    },
    {
      "cell_type": "code",
      "source": [
        "print(train_labels)"
      ],
      "metadata": {
        "colab": {
          "base_uri": "https://localhost:8080/"
        },
        "id": "CKOaZ9QL80gq",
        "outputId": "ee7c0087-c500-4321-fe72-6734ba8512f5"
      },
      "execution_count": 541,
      "outputs": [
        {
          "output_type": "stream",
          "name": "stdout",
          "text": [
            "                                  category\n",
            "8290                           programming\n",
            "1435                           programming\n",
            "6188                           biographies\n",
            "3300               artificial intelligence\n",
            "6191                           programming\n",
            "...                                    ...\n",
            "168   movies about artificial intelligence\n",
            "4948                           programming\n",
            "8083                           biographies\n",
            "2318                            philosophy\n",
            "9104                           programming\n",
            "\n",
            "[7223 rows x 1 columns]\n"
          ]
        }
      ]
    },
    {
      "cell_type": "code",
      "source": [
        "print(train_dataset.shape)\n",
        "print(test_dataset.shape)\n",
        "print(train_labels.shape)\n",
        "print(test_labels.shape)"
      ],
      "metadata": {
        "colab": {
          "base_uri": "https://localhost:8080/"
        },
        "id": "zhuDtlnTPBEY",
        "outputId": "600137e9-68a4-40e1-963b-286e6d697f3d"
      },
      "execution_count": 542,
      "outputs": [
        {
          "output_type": "stream",
          "name": "stdout",
          "text": [
            "(7223, 6)\n",
            "(1806, 6)\n",
            "(7223, 1)\n",
            "(1806, 1)\n"
          ]
        }
      ]
    },
    {
      "cell_type": "markdown",
      "source": [
        "#**3. Data Encoding**\n",
        "\n",
        "Encoding is the process of converting categorical data(string/object) into a numerical format that can be used for machine learning algorithms. Since machine learning models require numerical inputs, categorical variables such as 'pragraph', 'has_entity' and 'category' need to be encoded.\n"
      ],
      "metadata": {
        "id": "S3lK9Uabocqt"
      }
    },
    {
      "cell_type": "markdown",
      "source": [
        "The 'has_entity' and 'category' columns has the nominal categorical data."
      ],
      "metadata": {
        "id": "7ERfqXMPtKnQ"
      }
    },
    {
      "cell_type": "code",
      "source": [
        "train_dataset['has_entity'].value_counts()"
      ],
      "metadata": {
        "colab": {
          "base_uri": "https://localhost:8080/"
        },
        "id": "z0f_3HsarrTO",
        "outputId": "fb53f689-7784-4d10-f75c-53e9488d7c66"
      },
      "execution_count": 543,
      "outputs": [
        {
          "output_type": "execute_result",
          "data": {
            "text/plain": [
              "ORG_YES_PRODUCT_NO_PERSON_YES_     2397\n",
              "ORG_NO_PRODUCT_NO_PERSON_NO_       2223\n",
              "ORG_YES_PRODUCT_NO_PERSON_NO_      1133\n",
              "ORG_NO_PRODUCT_NO_PERSON_YES_      1058\n",
              "ORG_YES_PRODUCT_YES_PERSON_YES_     228\n",
              "ORG_YES_PRODUCT_YES_PERSON_NO_       97\n",
              "ORG_NO_PRODUCT_YES_PERSON_YES_       50\n",
              "ORG_NO_PRODUCT_YES_PERSON_NO_        37\n",
              "Name: has_entity, dtype: int64"
            ]
          },
          "metadata": {},
          "execution_count": 543
        }
      ]
    },
    {
      "cell_type": "code",
      "source": [
        "train_labels['category'].value_counts()"
      ],
      "metadata": {
        "colab": {
          "base_uri": "https://localhost:8080/"
        },
        "id": "Q0pJY9ybryU6",
        "outputId": "800532ec-d980-4ce0-8a76-77f3b538bf7a"
      },
      "execution_count": 544,
      "outputs": [
        {
          "output_type": "execute_result",
          "data": {
            "text/plain": [
              "biographies                             2317\n",
              "philosophy                              2043\n",
              "programming                             1559\n",
              "artificial intelligence                 1173\n",
              "movies about artificial intelligence     131\n",
              "Name: category, dtype: int64"
            ]
          },
          "metadata": {},
          "execution_count": 544
        }
      ]
    },
    {
      "cell_type": "code",
      "source": [
        "test_labels['category'].value_counts()"
      ],
      "metadata": {
        "colab": {
          "base_uri": "https://localhost:8080/"
        },
        "id": "RGQ8pQ_u8QI7",
        "outputId": "5d8d5ca3-7482-4e4d-95f6-c199796d135f"
      },
      "execution_count": 545,
      "outputs": [
        {
          "output_type": "execute_result",
          "data": {
            "text/plain": [
              "biographies                             571\n",
              "philosophy                              470\n",
              "programming                             379\n",
              "artificial intelligence                 354\n",
              "movies about artificial intelligence     32\n",
              "Name: category, dtype: int64"
            ]
          },
          "metadata": {},
          "execution_count": 545
        }
      ]
    },
    {
      "cell_type": "markdown",
      "source": [
        "Selecting the features(columns) to include in the model."
      ],
      "metadata": {
        "id": "Fo3PgBGlpwjs"
      }
    },
    {
      "cell_type": "code",
      "source": [
        "selected_features = ['paragraph', 'has_entity']\n",
        "train_dataset = train_dataset[selected_features]\n",
        "test_dataset = test_dataset[selected_features]"
      ],
      "metadata": {
        "id": "UX5BKzTDqPO5"
      },
      "execution_count": 546,
      "outputs": []
    },
    {
      "cell_type": "code",
      "source": [
        "print(train_dataset.head(5))"
      ],
      "metadata": {
        "colab": {
          "base_uri": "https://localhost:8080/"
        },
        "id": "hHweKiJFuqk8",
        "outputId": "1f474794-12f7-4808-ef62-ad83124c5462"
      },
      "execution_count": 547,
      "outputs": [
        {
          "output_type": "stream",
          "name": "stdout",
          "text": [
            "                                              paragraph  \\\n",
            "8290  The first Fortran compiler set a high standard...   \n",
            "1435  In computer programming, a header file can be ...   \n",
            "6188  Banting also maintained this position in his r...   \n",
            "3300  Or, this can be accomplished by weighting the ...   \n",
            "6191  The action statement prints each line numbered...   \n",
            "\n",
            "                          has_entity  \n",
            "8290  ORG_YES_PRODUCT_NO_PERSON_YES_  \n",
            "1435   ORG_NO_PRODUCT_NO_PERSON_YES_  \n",
            "6188  ORG_YES_PRODUCT_NO_PERSON_YES_  \n",
            "3300    ORG_NO_PRODUCT_NO_PERSON_NO_  \n",
            "6191   ORG_YES_PRODUCT_NO_PERSON_NO_  \n"
          ]
        }
      ]
    },
    {
      "cell_type": "markdown",
      "source": [
        "___________________________________\n",
        "\n",
        "---\n",
        "\n"
      ],
      "metadata": {
        "id": "JPf45UM-AoqQ"
      }
    },
    {
      "cell_type": "markdown",
      "source": [
        "\n",
        "\n",
        "---\n",
        "\n"
      ],
      "metadata": {
        "id": "R9cZ0zapPCNz"
      }
    },
    {
      "cell_type": "markdown",
      "source": [
        "Applying one-hot encoding for the 'has_entity' column and since 'category' column is the target it is good to apply Label encoding than one-hot encoding."
      ],
      "metadata": {
        "id": "OIoHlLndT3P_"
      }
    },
    {
      "cell_type": "code",
      "source": [
        "from sklearn.compose import ColumnTransformer\n",
        "from sklearn.preprocessing import OneHotEncoder\n",
        "# define the transformation\n",
        "# ColumnTransformer takes a list of transformations. Each transformation is expressed\n",
        "# as a tuple (name, transformer, columns).\n",
        "ct = ColumnTransformer(\n",
        "    [\n",
        "        (\n",
        "            \"onehot_categorical\",\n",
        "            OneHotEncoder(sparse_output=False), # --> main function to apply\n",
        "            [\"has_entity\"], #-->columns to apply\n",
        "        ),\n",
        "    ],\n",
        "    remainder=\"passthrough\", #keep the non-transformed columns.\n",
        "    verbose_feature_names_out=False #-->  keeps columns names simple.\n",
        ")"
      ],
      "metadata": {
        "id": "2wRdeesbzqE3"
      },
      "execution_count": 558,
      "outputs": []
    },
    {
      "cell_type": "code",
      "source": [
        "# create dataset copy for testing purposes\n",
        "temp_dataset = train_dataset.copy()\n",
        "\n",
        "# the output is an NUMPY ARRAY with the encoded columns.\n",
        "encoded_array= ct.fit_transform(temp_dataset)\n",
        "\n",
        "# the original and transformed column names.\n",
        "# This is stored in the ColumnTransformer object, which we called \"ct\"\n",
        "# We can access it via the \"get_feature_names_out()\" attribute like this:\n",
        "encoded_col_names= ct.get_feature_names_out()\n",
        "print(encoded_col_names)\n",
        "enc_train_data = pd.DataFrame(encoded_array, columns=encoded_col_names)\n",
        "enc_train_data.sample(8)"
      ],
      "metadata": {
        "colab": {
          "base_uri": "https://localhost:8080/",
          "height": 1000
        },
        "id": "qG4wKFsurrwt",
        "outputId": "b271c537-3bbd-4cc3-f994-b312e67f742d"
      },
      "execution_count": 559,
      "outputs": [
        {
          "output_type": "stream",
          "name": "stdout",
          "text": [
            "['has_entity_ORG_NO_PRODUCT_NO_PERSON_NO_'\n",
            " 'has_entity_ORG_NO_PRODUCT_NO_PERSON_YES_'\n",
            " 'has_entity_ORG_NO_PRODUCT_YES_PERSON_NO_'\n",
            " 'has_entity_ORG_NO_PRODUCT_YES_PERSON_YES_'\n",
            " 'has_entity_ORG_YES_PRODUCT_NO_PERSON_NO_'\n",
            " 'has_entity_ORG_YES_PRODUCT_NO_PERSON_YES_'\n",
            " 'has_entity_ORG_YES_PRODUCT_YES_PERSON_NO_'\n",
            " 'has_entity_ORG_YES_PRODUCT_YES_PERSON_YES_' 'paragraph']\n"
          ]
        },
        {
          "output_type": "execute_result",
          "data": {
            "text/plain": [
              "     has_entity_ORG_NO_PRODUCT_NO_PERSON_NO_  \\\n",
              "6246                                     1.0   \n",
              "2629                                     0.0   \n",
              "7026                                     1.0   \n",
              "3976                                     0.0   \n",
              "4323                                     0.0   \n",
              "5012                                     0.0   \n",
              "6370                                     0.0   \n",
              "5347                                     0.0   \n",
              "\n",
              "     has_entity_ORG_NO_PRODUCT_NO_PERSON_YES_  \\\n",
              "6246                                      0.0   \n",
              "2629                                      1.0   \n",
              "7026                                      0.0   \n",
              "3976                                      0.0   \n",
              "4323                                      1.0   \n",
              "5012                                      0.0   \n",
              "6370                                      0.0   \n",
              "5347                                      0.0   \n",
              "\n",
              "     has_entity_ORG_NO_PRODUCT_YES_PERSON_NO_  \\\n",
              "6246                                      0.0   \n",
              "2629                                      0.0   \n",
              "7026                                      0.0   \n",
              "3976                                      0.0   \n",
              "4323                                      0.0   \n",
              "5012                                      0.0   \n",
              "6370                                      0.0   \n",
              "5347                                      0.0   \n",
              "\n",
              "     has_entity_ORG_NO_PRODUCT_YES_PERSON_YES_  \\\n",
              "6246                                       0.0   \n",
              "2629                                       0.0   \n",
              "7026                                       0.0   \n",
              "3976                                       0.0   \n",
              "4323                                       0.0   \n",
              "5012                                       0.0   \n",
              "6370                                       0.0   \n",
              "5347                                       0.0   \n",
              "\n",
              "     has_entity_ORG_YES_PRODUCT_NO_PERSON_NO_  \\\n",
              "6246                                      0.0   \n",
              "2629                                      0.0   \n",
              "7026                                      0.0   \n",
              "3976                                      1.0   \n",
              "4323                                      0.0   \n",
              "5012                                      0.0   \n",
              "6370                                      0.0   \n",
              "5347                                      0.0   \n",
              "\n",
              "     has_entity_ORG_YES_PRODUCT_NO_PERSON_YES_  \\\n",
              "6246                                       0.0   \n",
              "2629                                       0.0   \n",
              "7026                                       0.0   \n",
              "3976                                       0.0   \n",
              "4323                                       0.0   \n",
              "5012                                       1.0   \n",
              "6370                                       1.0   \n",
              "5347                                       1.0   \n",
              "\n",
              "     has_entity_ORG_YES_PRODUCT_YES_PERSON_NO_  \\\n",
              "6246                                       0.0   \n",
              "2629                                       0.0   \n",
              "7026                                       0.0   \n",
              "3976                                       0.0   \n",
              "4323                                       0.0   \n",
              "5012                                       0.0   \n",
              "6370                                       0.0   \n",
              "5347                                       0.0   \n",
              "\n",
              "     has_entity_ORG_YES_PRODUCT_YES_PERSON_YES_  \\\n",
              "6246                                        0.0   \n",
              "2629                                        0.0   \n",
              "7026                                        0.0   \n",
              "3976                                        0.0   \n",
              "4323                                        0.0   \n",
              "5012                                        0.0   \n",
              "6370                                        0.0   \n",
              "5347                                        0.0   \n",
              "\n",
              "                                              paragraph  \n",
              "6246  If a perfectly loving God exists, then no huma...  \n",
              "2629  In his Meditations on First Philosophy, Rene D...  \n",
              "7026  Commodore BASIC keywords could be abbreviated ...  \n",
              "3976  Lahey and Fujitsu teamed up to create Fortran ...  \n",
              "4323  E. J. Lowe denies that indirect realism, where...  \n",
              "5012   Now let's be clear before we go any further t...  \n",
              "6370   The halfpenny measured ten to a foot, the far...  \n",
              "5347  During World War I, Rutherford worked on a top...  "
            ],
            "text/html": [
              "\n",
              "  <div id=\"df-ecfcdf1b-1cca-4913-a970-9f353a35002a\" class=\"colab-df-container\">\n",
              "    <div>\n",
              "<style scoped>\n",
              "    .dataframe tbody tr th:only-of-type {\n",
              "        vertical-align: middle;\n",
              "    }\n",
              "\n",
              "    .dataframe tbody tr th {\n",
              "        vertical-align: top;\n",
              "    }\n",
              "\n",
              "    .dataframe thead th {\n",
              "        text-align: right;\n",
              "    }\n",
              "</style>\n",
              "<table border=\"1\" class=\"dataframe\">\n",
              "  <thead>\n",
              "    <tr style=\"text-align: right;\">\n",
              "      <th></th>\n",
              "      <th>has_entity_ORG_NO_PRODUCT_NO_PERSON_NO_</th>\n",
              "      <th>has_entity_ORG_NO_PRODUCT_NO_PERSON_YES_</th>\n",
              "      <th>has_entity_ORG_NO_PRODUCT_YES_PERSON_NO_</th>\n",
              "      <th>has_entity_ORG_NO_PRODUCT_YES_PERSON_YES_</th>\n",
              "      <th>has_entity_ORG_YES_PRODUCT_NO_PERSON_NO_</th>\n",
              "      <th>has_entity_ORG_YES_PRODUCT_NO_PERSON_YES_</th>\n",
              "      <th>has_entity_ORG_YES_PRODUCT_YES_PERSON_NO_</th>\n",
              "      <th>has_entity_ORG_YES_PRODUCT_YES_PERSON_YES_</th>\n",
              "      <th>paragraph</th>\n",
              "    </tr>\n",
              "  </thead>\n",
              "  <tbody>\n",
              "    <tr>\n",
              "      <th>6246</th>\n",
              "      <td>1.0</td>\n",
              "      <td>0.0</td>\n",
              "      <td>0.0</td>\n",
              "      <td>0.0</td>\n",
              "      <td>0.0</td>\n",
              "      <td>0.0</td>\n",
              "      <td>0.0</td>\n",
              "      <td>0.0</td>\n",
              "      <td>If a perfectly loving God exists, then no huma...</td>\n",
              "    </tr>\n",
              "    <tr>\n",
              "      <th>2629</th>\n",
              "      <td>0.0</td>\n",
              "      <td>1.0</td>\n",
              "      <td>0.0</td>\n",
              "      <td>0.0</td>\n",
              "      <td>0.0</td>\n",
              "      <td>0.0</td>\n",
              "      <td>0.0</td>\n",
              "      <td>0.0</td>\n",
              "      <td>In his Meditations on First Philosophy, Rene D...</td>\n",
              "    </tr>\n",
              "    <tr>\n",
              "      <th>7026</th>\n",
              "      <td>1.0</td>\n",
              "      <td>0.0</td>\n",
              "      <td>0.0</td>\n",
              "      <td>0.0</td>\n",
              "      <td>0.0</td>\n",
              "      <td>0.0</td>\n",
              "      <td>0.0</td>\n",
              "      <td>0.0</td>\n",
              "      <td>Commodore BASIC keywords could be abbreviated ...</td>\n",
              "    </tr>\n",
              "    <tr>\n",
              "      <th>3976</th>\n",
              "      <td>0.0</td>\n",
              "      <td>0.0</td>\n",
              "      <td>0.0</td>\n",
              "      <td>0.0</td>\n",
              "      <td>1.0</td>\n",
              "      <td>0.0</td>\n",
              "      <td>0.0</td>\n",
              "      <td>0.0</td>\n",
              "      <td>Lahey and Fujitsu teamed up to create Fortran ...</td>\n",
              "    </tr>\n",
              "    <tr>\n",
              "      <th>4323</th>\n",
              "      <td>0.0</td>\n",
              "      <td>1.0</td>\n",
              "      <td>0.0</td>\n",
              "      <td>0.0</td>\n",
              "      <td>0.0</td>\n",
              "      <td>0.0</td>\n",
              "      <td>0.0</td>\n",
              "      <td>0.0</td>\n",
              "      <td>E. J. Lowe denies that indirect realism, where...</td>\n",
              "    </tr>\n",
              "    <tr>\n",
              "      <th>5012</th>\n",
              "      <td>0.0</td>\n",
              "      <td>0.0</td>\n",
              "      <td>0.0</td>\n",
              "      <td>0.0</td>\n",
              "      <td>0.0</td>\n",
              "      <td>1.0</td>\n",
              "      <td>0.0</td>\n",
              "      <td>0.0</td>\n",
              "      <td>Now let's be clear before we go any further t...</td>\n",
              "    </tr>\n",
              "    <tr>\n",
              "      <th>6370</th>\n",
              "      <td>0.0</td>\n",
              "      <td>0.0</td>\n",
              "      <td>0.0</td>\n",
              "      <td>0.0</td>\n",
              "      <td>0.0</td>\n",
              "      <td>1.0</td>\n",
              "      <td>0.0</td>\n",
              "      <td>0.0</td>\n",
              "      <td>The halfpenny measured ten to a foot, the far...</td>\n",
              "    </tr>\n",
              "    <tr>\n",
              "      <th>5347</th>\n",
              "      <td>0.0</td>\n",
              "      <td>0.0</td>\n",
              "      <td>0.0</td>\n",
              "      <td>0.0</td>\n",
              "      <td>0.0</td>\n",
              "      <td>1.0</td>\n",
              "      <td>0.0</td>\n",
              "      <td>0.0</td>\n",
              "      <td>During World War I, Rutherford worked on a top...</td>\n",
              "    </tr>\n",
              "  </tbody>\n",
              "</table>\n",
              "</div>\n",
              "    <div class=\"colab-df-buttons\">\n",
              "\n",
              "  <div class=\"colab-df-container\">\n",
              "    <button class=\"colab-df-convert\" onclick=\"convertToInteractive('df-ecfcdf1b-1cca-4913-a970-9f353a35002a')\"\n",
              "            title=\"Convert this dataframe to an interactive table.\"\n",
              "            style=\"display:none;\">\n",
              "\n",
              "  <svg xmlns=\"http://www.w3.org/2000/svg\" height=\"24px\" viewBox=\"0 -960 960 960\">\n",
              "    <path d=\"M120-120v-720h720v720H120Zm60-500h600v-160H180v160Zm220 220h160v-160H400v160Zm0 220h160v-160H400v160ZM180-400h160v-160H180v160Zm440 0h160v-160H620v160ZM180-180h160v-160H180v160Zm440 0h160v-160H620v160Z\"/>\n",
              "  </svg>\n",
              "    </button>\n",
              "\n",
              "  <style>\n",
              "    .colab-df-container {\n",
              "      display:flex;\n",
              "      gap: 12px;\n",
              "    }\n",
              "\n",
              "    .colab-df-convert {\n",
              "      background-color: #E8F0FE;\n",
              "      border: none;\n",
              "      border-radius: 50%;\n",
              "      cursor: pointer;\n",
              "      display: none;\n",
              "      fill: #1967D2;\n",
              "      height: 32px;\n",
              "      padding: 0 0 0 0;\n",
              "      width: 32px;\n",
              "    }\n",
              "\n",
              "    .colab-df-convert:hover {\n",
              "      background-color: #E2EBFA;\n",
              "      box-shadow: 0px 1px 2px rgba(60, 64, 67, 0.3), 0px 1px 3px 1px rgba(60, 64, 67, 0.15);\n",
              "      fill: #174EA6;\n",
              "    }\n",
              "\n",
              "    .colab-df-buttons div {\n",
              "      margin-bottom: 4px;\n",
              "    }\n",
              "\n",
              "    [theme=dark] .colab-df-convert {\n",
              "      background-color: #3B4455;\n",
              "      fill: #D2E3FC;\n",
              "    }\n",
              "\n",
              "    [theme=dark] .colab-df-convert:hover {\n",
              "      background-color: #434B5C;\n",
              "      box-shadow: 0px 1px 3px 1px rgba(0, 0, 0, 0.15);\n",
              "      filter: drop-shadow(0px 1px 2px rgba(0, 0, 0, 0.3));\n",
              "      fill: #FFFFFF;\n",
              "    }\n",
              "  </style>\n",
              "\n",
              "    <script>\n",
              "      const buttonEl =\n",
              "        document.querySelector('#df-ecfcdf1b-1cca-4913-a970-9f353a35002a button.colab-df-convert');\n",
              "      buttonEl.style.display =\n",
              "        google.colab.kernel.accessAllowed ? 'block' : 'none';\n",
              "\n",
              "      async function convertToInteractive(key) {\n",
              "        const element = document.querySelector('#df-ecfcdf1b-1cca-4913-a970-9f353a35002a');\n",
              "        const dataTable =\n",
              "          await google.colab.kernel.invokeFunction('convertToInteractive',\n",
              "                                                    [key], {});\n",
              "        if (!dataTable) return;\n",
              "\n",
              "        const docLinkHtml = 'Like what you see? Visit the ' +\n",
              "          '<a target=\"_blank\" href=https://colab.research.google.com/notebooks/data_table.ipynb>data table notebook</a>'\n",
              "          + ' to learn more about interactive tables.';\n",
              "        element.innerHTML = '';\n",
              "        dataTable['output_type'] = 'display_data';\n",
              "        await google.colab.output.renderOutput(dataTable, element);\n",
              "        const docLink = document.createElement('div');\n",
              "        docLink.innerHTML = docLinkHtml;\n",
              "        element.appendChild(docLink);\n",
              "      }\n",
              "    </script>\n",
              "  </div>\n",
              "\n",
              "\n",
              "<div id=\"df-58447e21-b843-49a4-bbc4-e5442b24df30\">\n",
              "  <button class=\"colab-df-quickchart\" onclick=\"quickchart('df-58447e21-b843-49a4-bbc4-e5442b24df30')\"\n",
              "            title=\"Suggest charts\"\n",
              "            style=\"display:none;\">\n",
              "\n",
              "<svg xmlns=\"http://www.w3.org/2000/svg\" height=\"24px\"viewBox=\"0 0 24 24\"\n",
              "     width=\"24px\">\n",
              "    <g>\n",
              "        <path d=\"M19 3H5c-1.1 0-2 .9-2 2v14c0 1.1.9 2 2 2h14c1.1 0 2-.9 2-2V5c0-1.1-.9-2-2-2zM9 17H7v-7h2v7zm4 0h-2V7h2v10zm4 0h-2v-4h2v4z\"/>\n",
              "    </g>\n",
              "</svg>\n",
              "  </button>\n",
              "\n",
              "<style>\n",
              "  .colab-df-quickchart {\n",
              "      --bg-color: #E8F0FE;\n",
              "      --fill-color: #1967D2;\n",
              "      --hover-bg-color: #E2EBFA;\n",
              "      --hover-fill-color: #174EA6;\n",
              "      --disabled-fill-color: #AAA;\n",
              "      --disabled-bg-color: #DDD;\n",
              "  }\n",
              "\n",
              "  [theme=dark] .colab-df-quickchart {\n",
              "      --bg-color: #3B4455;\n",
              "      --fill-color: #D2E3FC;\n",
              "      --hover-bg-color: #434B5C;\n",
              "      --hover-fill-color: #FFFFFF;\n",
              "      --disabled-bg-color: #3B4455;\n",
              "      --disabled-fill-color: #666;\n",
              "  }\n",
              "\n",
              "  .colab-df-quickchart {\n",
              "    background-color: var(--bg-color);\n",
              "    border: none;\n",
              "    border-radius: 50%;\n",
              "    cursor: pointer;\n",
              "    display: none;\n",
              "    fill: var(--fill-color);\n",
              "    height: 32px;\n",
              "    padding: 0;\n",
              "    width: 32px;\n",
              "  }\n",
              "\n",
              "  .colab-df-quickchart:hover {\n",
              "    background-color: var(--hover-bg-color);\n",
              "    box-shadow: 0 1px 2px rgba(60, 64, 67, 0.3), 0 1px 3px 1px rgba(60, 64, 67, 0.15);\n",
              "    fill: var(--button-hover-fill-color);\n",
              "  }\n",
              "\n",
              "  .colab-df-quickchart-complete:disabled,\n",
              "  .colab-df-quickchart-complete:disabled:hover {\n",
              "    background-color: var(--disabled-bg-color);\n",
              "    fill: var(--disabled-fill-color);\n",
              "    box-shadow: none;\n",
              "  }\n",
              "\n",
              "  .colab-df-spinner {\n",
              "    border: 2px solid var(--fill-color);\n",
              "    border-color: transparent;\n",
              "    border-bottom-color: var(--fill-color);\n",
              "    animation:\n",
              "      spin 1s steps(1) infinite;\n",
              "  }\n",
              "\n",
              "  @keyframes spin {\n",
              "    0% {\n",
              "      border-color: transparent;\n",
              "      border-bottom-color: var(--fill-color);\n",
              "      border-left-color: var(--fill-color);\n",
              "    }\n",
              "    20% {\n",
              "      border-color: transparent;\n",
              "      border-left-color: var(--fill-color);\n",
              "      border-top-color: var(--fill-color);\n",
              "    }\n",
              "    30% {\n",
              "      border-color: transparent;\n",
              "      border-left-color: var(--fill-color);\n",
              "      border-top-color: var(--fill-color);\n",
              "      border-right-color: var(--fill-color);\n",
              "    }\n",
              "    40% {\n",
              "      border-color: transparent;\n",
              "      border-right-color: var(--fill-color);\n",
              "      border-top-color: var(--fill-color);\n",
              "    }\n",
              "    60% {\n",
              "      border-color: transparent;\n",
              "      border-right-color: var(--fill-color);\n",
              "    }\n",
              "    80% {\n",
              "      border-color: transparent;\n",
              "      border-right-color: var(--fill-color);\n",
              "      border-bottom-color: var(--fill-color);\n",
              "    }\n",
              "    90% {\n",
              "      border-color: transparent;\n",
              "      border-bottom-color: var(--fill-color);\n",
              "    }\n",
              "  }\n",
              "</style>\n",
              "\n",
              "  <script>\n",
              "    async function quickchart(key) {\n",
              "      const quickchartButtonEl =\n",
              "        document.querySelector('#' + key + ' button');\n",
              "      quickchartButtonEl.disabled = true;  // To prevent multiple clicks.\n",
              "      quickchartButtonEl.classList.add('colab-df-spinner');\n",
              "      try {\n",
              "        const charts = await google.colab.kernel.invokeFunction(\n",
              "            'suggestCharts', [key], {});\n",
              "      } catch (error) {\n",
              "        console.error('Error during call to suggestCharts:', error);\n",
              "      }\n",
              "      quickchartButtonEl.classList.remove('colab-df-spinner');\n",
              "      quickchartButtonEl.classList.add('colab-df-quickchart-complete');\n",
              "    }\n",
              "    (() => {\n",
              "      let quickchartButtonEl =\n",
              "        document.querySelector('#df-58447e21-b843-49a4-bbc4-e5442b24df30 button');\n",
              "      quickchartButtonEl.style.display =\n",
              "        google.colab.kernel.accessAllowed ? 'block' : 'none';\n",
              "    })();\n",
              "  </script>\n",
              "</div>\n",
              "    </div>\n",
              "  </div>\n"
            ],
            "application/vnd.google.colaboratory.intrinsic+json": {
              "type": "dataframe",
              "repr_error": "0"
            }
          },
          "metadata": {},
          "execution_count": 559
        }
      ]
    },
    {
      "cell_type": "code",
      "source": [
        "# create dataset copy for testing purposes\n",
        "temp_dataset = test_dataset.copy()\n",
        "\n",
        "# the output is an NUMPY ARRAY with the encoded columns.\n",
        "encoded_array= ct.fit_transform(temp_dataset)\n",
        "\n",
        "# the original and transformed column names.\n",
        "# This is stored in the ColumnTransformer object, which we called \"ct\"\n",
        "# We can access it via the \"get_feature_names_out()\" attribute like this:\n",
        "encoded_col_names= ct.get_feature_names_out()\n",
        "print(encoded_col_names)\n",
        "enc_test_data = pd.DataFrame(encoded_array, columns=encoded_col_names)\n",
        "enc_test_data.sample(5)"
      ],
      "metadata": {
        "colab": {
          "base_uri": "https://localhost:8080/",
          "height": 730
        },
        "id": "lpWkh6bKm8af",
        "outputId": "8c910b2c-b4be-4301-ee82-b199ddf20370"
      },
      "execution_count": 560,
      "outputs": [
        {
          "output_type": "stream",
          "name": "stdout",
          "text": [
            "['has_entity_ORG_NO_PRODUCT_NO_PERSON_NO_'\n",
            " 'has_entity_ORG_NO_PRODUCT_NO_PERSON_YES_'\n",
            " 'has_entity_ORG_NO_PRODUCT_YES_PERSON_NO_'\n",
            " 'has_entity_ORG_NO_PRODUCT_YES_PERSON_YES_'\n",
            " 'has_entity_ORG_YES_PRODUCT_NO_PERSON_NO_'\n",
            " 'has_entity_ORG_YES_PRODUCT_NO_PERSON_YES_'\n",
            " 'has_entity_ORG_YES_PRODUCT_YES_PERSON_NO_'\n",
            " 'has_entity_ORG_YES_PRODUCT_YES_PERSON_YES_' 'paragraph']\n"
          ]
        },
        {
          "output_type": "execute_result",
          "data": {
            "text/plain": [
              "     has_entity_ORG_NO_PRODUCT_NO_PERSON_NO_  \\\n",
              "1183                                     0.0   \n",
              "370                                      0.0   \n",
              "1251                                     0.0   \n",
              "1485                                     0.0   \n",
              "1167                                     0.0   \n",
              "\n",
              "     has_entity_ORG_NO_PRODUCT_NO_PERSON_YES_  \\\n",
              "1183                                      0.0   \n",
              "370                                       0.0   \n",
              "1251                                      0.0   \n",
              "1485                                      0.0   \n",
              "1167                                      0.0   \n",
              "\n",
              "     has_entity_ORG_NO_PRODUCT_YES_PERSON_NO_  \\\n",
              "1183                                      0.0   \n",
              "370                                       0.0   \n",
              "1251                                      0.0   \n",
              "1485                                      1.0   \n",
              "1167                                      0.0   \n",
              "\n",
              "     has_entity_ORG_NO_PRODUCT_YES_PERSON_YES_  \\\n",
              "1183                                       0.0   \n",
              "370                                        0.0   \n",
              "1251                                       0.0   \n",
              "1485                                       0.0   \n",
              "1167                                       0.0   \n",
              "\n",
              "     has_entity_ORG_YES_PRODUCT_NO_PERSON_NO_  \\\n",
              "1183                                      0.0   \n",
              "370                                       0.0   \n",
              "1251                                      0.0   \n",
              "1485                                      0.0   \n",
              "1167                                      0.0   \n",
              "\n",
              "     has_entity_ORG_YES_PRODUCT_NO_PERSON_YES_  \\\n",
              "1183                                       1.0   \n",
              "370                                        1.0   \n",
              "1251                                       1.0   \n",
              "1485                                       0.0   \n",
              "1167                                       1.0   \n",
              "\n",
              "     has_entity_ORG_YES_PRODUCT_YES_PERSON_NO_  \\\n",
              "1183                                       0.0   \n",
              "370                                        0.0   \n",
              "1251                                       0.0   \n",
              "1485                                       0.0   \n",
              "1167                                       0.0   \n",
              "\n",
              "     has_entity_ORG_YES_PRODUCT_YES_PERSON_YES_  \\\n",
              "1183                                        0.0   \n",
              "370                                         0.0   \n",
              "1251                                        0.0   \n",
              "1485                                        0.0   \n",
              "1167                                        0.0   \n",
              "\n",
              "                                              paragraph  \n",
              "1183  Micrographia also contains Hooke's, or perhaps...  \n",
              "370   Edward was born on 23 June 1894 at White Lodge...  \n",
              "1251  Later that month Reynolds suffered from a swel...  \n",
              "1485  Macros expand before the compilation step, and...  \n",
              "1167  By 1917, Edward liked to spend time partying i...  "
            ],
            "text/html": [
              "\n",
              "  <div id=\"df-4c2aa86f-9bc9-4a5c-938f-afd74d5a3ca8\" class=\"colab-df-container\">\n",
              "    <div>\n",
              "<style scoped>\n",
              "    .dataframe tbody tr th:only-of-type {\n",
              "        vertical-align: middle;\n",
              "    }\n",
              "\n",
              "    .dataframe tbody tr th {\n",
              "        vertical-align: top;\n",
              "    }\n",
              "\n",
              "    .dataframe thead th {\n",
              "        text-align: right;\n",
              "    }\n",
              "</style>\n",
              "<table border=\"1\" class=\"dataframe\">\n",
              "  <thead>\n",
              "    <tr style=\"text-align: right;\">\n",
              "      <th></th>\n",
              "      <th>has_entity_ORG_NO_PRODUCT_NO_PERSON_NO_</th>\n",
              "      <th>has_entity_ORG_NO_PRODUCT_NO_PERSON_YES_</th>\n",
              "      <th>has_entity_ORG_NO_PRODUCT_YES_PERSON_NO_</th>\n",
              "      <th>has_entity_ORG_NO_PRODUCT_YES_PERSON_YES_</th>\n",
              "      <th>has_entity_ORG_YES_PRODUCT_NO_PERSON_NO_</th>\n",
              "      <th>has_entity_ORG_YES_PRODUCT_NO_PERSON_YES_</th>\n",
              "      <th>has_entity_ORG_YES_PRODUCT_YES_PERSON_NO_</th>\n",
              "      <th>has_entity_ORG_YES_PRODUCT_YES_PERSON_YES_</th>\n",
              "      <th>paragraph</th>\n",
              "    </tr>\n",
              "  </thead>\n",
              "  <tbody>\n",
              "    <tr>\n",
              "      <th>1183</th>\n",
              "      <td>0.0</td>\n",
              "      <td>0.0</td>\n",
              "      <td>0.0</td>\n",
              "      <td>0.0</td>\n",
              "      <td>0.0</td>\n",
              "      <td>1.0</td>\n",
              "      <td>0.0</td>\n",
              "      <td>0.0</td>\n",
              "      <td>Micrographia also contains Hooke's, or perhaps...</td>\n",
              "    </tr>\n",
              "    <tr>\n",
              "      <th>370</th>\n",
              "      <td>0.0</td>\n",
              "      <td>0.0</td>\n",
              "      <td>0.0</td>\n",
              "      <td>0.0</td>\n",
              "      <td>0.0</td>\n",
              "      <td>1.0</td>\n",
              "      <td>0.0</td>\n",
              "      <td>0.0</td>\n",
              "      <td>Edward was born on 23 June 1894 at White Lodge...</td>\n",
              "    </tr>\n",
              "    <tr>\n",
              "      <th>1251</th>\n",
              "      <td>0.0</td>\n",
              "      <td>0.0</td>\n",
              "      <td>0.0</td>\n",
              "      <td>0.0</td>\n",
              "      <td>0.0</td>\n",
              "      <td>1.0</td>\n",
              "      <td>0.0</td>\n",
              "      <td>0.0</td>\n",
              "      <td>Later that month Reynolds suffered from a swel...</td>\n",
              "    </tr>\n",
              "    <tr>\n",
              "      <th>1485</th>\n",
              "      <td>0.0</td>\n",
              "      <td>0.0</td>\n",
              "      <td>1.0</td>\n",
              "      <td>0.0</td>\n",
              "      <td>0.0</td>\n",
              "      <td>0.0</td>\n",
              "      <td>0.0</td>\n",
              "      <td>0.0</td>\n",
              "      <td>Macros expand before the compilation step, and...</td>\n",
              "    </tr>\n",
              "    <tr>\n",
              "      <th>1167</th>\n",
              "      <td>0.0</td>\n",
              "      <td>0.0</td>\n",
              "      <td>0.0</td>\n",
              "      <td>0.0</td>\n",
              "      <td>0.0</td>\n",
              "      <td>1.0</td>\n",
              "      <td>0.0</td>\n",
              "      <td>0.0</td>\n",
              "      <td>By 1917, Edward liked to spend time partying i...</td>\n",
              "    </tr>\n",
              "  </tbody>\n",
              "</table>\n",
              "</div>\n",
              "    <div class=\"colab-df-buttons\">\n",
              "\n",
              "  <div class=\"colab-df-container\">\n",
              "    <button class=\"colab-df-convert\" onclick=\"convertToInteractive('df-4c2aa86f-9bc9-4a5c-938f-afd74d5a3ca8')\"\n",
              "            title=\"Convert this dataframe to an interactive table.\"\n",
              "            style=\"display:none;\">\n",
              "\n",
              "  <svg xmlns=\"http://www.w3.org/2000/svg\" height=\"24px\" viewBox=\"0 -960 960 960\">\n",
              "    <path d=\"M120-120v-720h720v720H120Zm60-500h600v-160H180v160Zm220 220h160v-160H400v160Zm0 220h160v-160H400v160ZM180-400h160v-160H180v160Zm440 0h160v-160H620v160ZM180-180h160v-160H180v160Zm440 0h160v-160H620v160Z\"/>\n",
              "  </svg>\n",
              "    </button>\n",
              "\n",
              "  <style>\n",
              "    .colab-df-container {\n",
              "      display:flex;\n",
              "      gap: 12px;\n",
              "    }\n",
              "\n",
              "    .colab-df-convert {\n",
              "      background-color: #E8F0FE;\n",
              "      border: none;\n",
              "      border-radius: 50%;\n",
              "      cursor: pointer;\n",
              "      display: none;\n",
              "      fill: #1967D2;\n",
              "      height: 32px;\n",
              "      padding: 0 0 0 0;\n",
              "      width: 32px;\n",
              "    }\n",
              "\n",
              "    .colab-df-convert:hover {\n",
              "      background-color: #E2EBFA;\n",
              "      box-shadow: 0px 1px 2px rgba(60, 64, 67, 0.3), 0px 1px 3px 1px rgba(60, 64, 67, 0.15);\n",
              "      fill: #174EA6;\n",
              "    }\n",
              "\n",
              "    .colab-df-buttons div {\n",
              "      margin-bottom: 4px;\n",
              "    }\n",
              "\n",
              "    [theme=dark] .colab-df-convert {\n",
              "      background-color: #3B4455;\n",
              "      fill: #D2E3FC;\n",
              "    }\n",
              "\n",
              "    [theme=dark] .colab-df-convert:hover {\n",
              "      background-color: #434B5C;\n",
              "      box-shadow: 0px 1px 3px 1px rgba(0, 0, 0, 0.15);\n",
              "      filter: drop-shadow(0px 1px 2px rgba(0, 0, 0, 0.3));\n",
              "      fill: #FFFFFF;\n",
              "    }\n",
              "  </style>\n",
              "\n",
              "    <script>\n",
              "      const buttonEl =\n",
              "        document.querySelector('#df-4c2aa86f-9bc9-4a5c-938f-afd74d5a3ca8 button.colab-df-convert');\n",
              "      buttonEl.style.display =\n",
              "        google.colab.kernel.accessAllowed ? 'block' : 'none';\n",
              "\n",
              "      async function convertToInteractive(key) {\n",
              "        const element = document.querySelector('#df-4c2aa86f-9bc9-4a5c-938f-afd74d5a3ca8');\n",
              "        const dataTable =\n",
              "          await google.colab.kernel.invokeFunction('convertToInteractive',\n",
              "                                                    [key], {});\n",
              "        if (!dataTable) return;\n",
              "\n",
              "        const docLinkHtml = 'Like what you see? Visit the ' +\n",
              "          '<a target=\"_blank\" href=https://colab.research.google.com/notebooks/data_table.ipynb>data table notebook</a>'\n",
              "          + ' to learn more about interactive tables.';\n",
              "        element.innerHTML = '';\n",
              "        dataTable['output_type'] = 'display_data';\n",
              "        await google.colab.output.renderOutput(dataTable, element);\n",
              "        const docLink = document.createElement('div');\n",
              "        docLink.innerHTML = docLinkHtml;\n",
              "        element.appendChild(docLink);\n",
              "      }\n",
              "    </script>\n",
              "  </div>\n",
              "\n",
              "\n",
              "<div id=\"df-5110c7b3-bc93-4d06-97a9-35d036fdf89d\">\n",
              "  <button class=\"colab-df-quickchart\" onclick=\"quickchart('df-5110c7b3-bc93-4d06-97a9-35d036fdf89d')\"\n",
              "            title=\"Suggest charts\"\n",
              "            style=\"display:none;\">\n",
              "\n",
              "<svg xmlns=\"http://www.w3.org/2000/svg\" height=\"24px\"viewBox=\"0 0 24 24\"\n",
              "     width=\"24px\">\n",
              "    <g>\n",
              "        <path d=\"M19 3H5c-1.1 0-2 .9-2 2v14c0 1.1.9 2 2 2h14c1.1 0 2-.9 2-2V5c0-1.1-.9-2-2-2zM9 17H7v-7h2v7zm4 0h-2V7h2v10zm4 0h-2v-4h2v4z\"/>\n",
              "    </g>\n",
              "</svg>\n",
              "  </button>\n",
              "\n",
              "<style>\n",
              "  .colab-df-quickchart {\n",
              "      --bg-color: #E8F0FE;\n",
              "      --fill-color: #1967D2;\n",
              "      --hover-bg-color: #E2EBFA;\n",
              "      --hover-fill-color: #174EA6;\n",
              "      --disabled-fill-color: #AAA;\n",
              "      --disabled-bg-color: #DDD;\n",
              "  }\n",
              "\n",
              "  [theme=dark] .colab-df-quickchart {\n",
              "      --bg-color: #3B4455;\n",
              "      --fill-color: #D2E3FC;\n",
              "      --hover-bg-color: #434B5C;\n",
              "      --hover-fill-color: #FFFFFF;\n",
              "      --disabled-bg-color: #3B4455;\n",
              "      --disabled-fill-color: #666;\n",
              "  }\n",
              "\n",
              "  .colab-df-quickchart {\n",
              "    background-color: var(--bg-color);\n",
              "    border: none;\n",
              "    border-radius: 50%;\n",
              "    cursor: pointer;\n",
              "    display: none;\n",
              "    fill: var(--fill-color);\n",
              "    height: 32px;\n",
              "    padding: 0;\n",
              "    width: 32px;\n",
              "  }\n",
              "\n",
              "  .colab-df-quickchart:hover {\n",
              "    background-color: var(--hover-bg-color);\n",
              "    box-shadow: 0 1px 2px rgba(60, 64, 67, 0.3), 0 1px 3px 1px rgba(60, 64, 67, 0.15);\n",
              "    fill: var(--button-hover-fill-color);\n",
              "  }\n",
              "\n",
              "  .colab-df-quickchart-complete:disabled,\n",
              "  .colab-df-quickchart-complete:disabled:hover {\n",
              "    background-color: var(--disabled-bg-color);\n",
              "    fill: var(--disabled-fill-color);\n",
              "    box-shadow: none;\n",
              "  }\n",
              "\n",
              "  .colab-df-spinner {\n",
              "    border: 2px solid var(--fill-color);\n",
              "    border-color: transparent;\n",
              "    border-bottom-color: var(--fill-color);\n",
              "    animation:\n",
              "      spin 1s steps(1) infinite;\n",
              "  }\n",
              "\n",
              "  @keyframes spin {\n",
              "    0% {\n",
              "      border-color: transparent;\n",
              "      border-bottom-color: var(--fill-color);\n",
              "      border-left-color: var(--fill-color);\n",
              "    }\n",
              "    20% {\n",
              "      border-color: transparent;\n",
              "      border-left-color: var(--fill-color);\n",
              "      border-top-color: var(--fill-color);\n",
              "    }\n",
              "    30% {\n",
              "      border-color: transparent;\n",
              "      border-left-color: var(--fill-color);\n",
              "      border-top-color: var(--fill-color);\n",
              "      border-right-color: var(--fill-color);\n",
              "    }\n",
              "    40% {\n",
              "      border-color: transparent;\n",
              "      border-right-color: var(--fill-color);\n",
              "      border-top-color: var(--fill-color);\n",
              "    }\n",
              "    60% {\n",
              "      border-color: transparent;\n",
              "      border-right-color: var(--fill-color);\n",
              "    }\n",
              "    80% {\n",
              "      border-color: transparent;\n",
              "      border-right-color: var(--fill-color);\n",
              "      border-bottom-color: var(--fill-color);\n",
              "    }\n",
              "    90% {\n",
              "      border-color: transparent;\n",
              "      border-bottom-color: var(--fill-color);\n",
              "    }\n",
              "  }\n",
              "</style>\n",
              "\n",
              "  <script>\n",
              "    async function quickchart(key) {\n",
              "      const quickchartButtonEl =\n",
              "        document.querySelector('#' + key + ' button');\n",
              "      quickchartButtonEl.disabled = true;  // To prevent multiple clicks.\n",
              "      quickchartButtonEl.classList.add('colab-df-spinner');\n",
              "      try {\n",
              "        const charts = await google.colab.kernel.invokeFunction(\n",
              "            'suggestCharts', [key], {});\n",
              "      } catch (error) {\n",
              "        console.error('Error during call to suggestCharts:', error);\n",
              "      }\n",
              "      quickchartButtonEl.classList.remove('colab-df-spinner');\n",
              "      quickchartButtonEl.classList.add('colab-df-quickchart-complete');\n",
              "    }\n",
              "    (() => {\n",
              "      let quickchartButtonEl =\n",
              "        document.querySelector('#df-5110c7b3-bc93-4d06-97a9-35d036fdf89d button');\n",
              "      quickchartButtonEl.style.display =\n",
              "        google.colab.kernel.accessAllowed ? 'block' : 'none';\n",
              "    })();\n",
              "  </script>\n",
              "</div>\n",
              "    </div>\n",
              "  </div>\n"
            ],
            "application/vnd.google.colaboratory.intrinsic+json": {
              "type": "dataframe",
              "repr_error": "0"
            }
          },
          "metadata": {},
          "execution_count": 560
        }
      ]
    },
    {
      "cell_type": "code",
      "source": [
        "\n",
        "from sklearn.preprocessing import LabelEncoder\n",
        "# create an object of the LabelEncoder class\n",
        "lblEncoder_X = LabelEncoder()\n",
        "\n",
        "print('before encoding\\n',train_labels['category'].value_counts())\n",
        "enc_train_labels = train_labels.copy()\n",
        "# apply LblEncoder object to our categorical variables using the fit_transform method.\n",
        "lblEncoder_X = lblEncoder_X.fit(enc_train_labels['category']) # we can fit and transform all at once\n",
        "enc_train_labels['category'] = lblEncoder_X.transform(enc_train_labels['category'])\n",
        "\n",
        "# printing the value counts will show the encoded labels, instead of the original ones\n",
        "print()\n",
        "print('after encoding\\n',enc_train_labels['category'].value_counts())\n",
        "print()\n",
        "print(enc_train_labels)"
      ],
      "metadata": {
        "colab": {
          "base_uri": "https://localhost:8080/"
        },
        "id": "-TDpetSuaNnp",
        "outputId": "cbf98446-235f-49f0-c2f6-b32028386c4a"
      },
      "execution_count": 561,
      "outputs": [
        {
          "output_type": "stream",
          "name": "stdout",
          "text": [
            "before encoding\n",
            " biographies                             2317\n",
            "philosophy                              2043\n",
            "programming                             1559\n",
            "artificial intelligence                 1173\n",
            "movies about artificial intelligence     131\n",
            "Name: category, dtype: int64\n",
            "\n",
            "after encoding\n",
            " 1    2317\n",
            "3    2043\n",
            "4    1559\n",
            "0    1173\n",
            "2     131\n",
            "Name: category, dtype: int64\n",
            "\n",
            "      category\n",
            "8290         4\n",
            "1435         4\n",
            "6188         1\n",
            "3300         0\n",
            "6191         4\n",
            "...        ...\n",
            "168          2\n",
            "4948         4\n",
            "8083         1\n",
            "2318         3\n",
            "9104         4\n",
            "\n",
            "[7223 rows x 1 columns]\n"
          ]
        }
      ]
    },
    {
      "cell_type": "code",
      "source": [
        "enc_test_labels = test_labels.copy()\n",
        "lblEncoder_X = LabelEncoder()\n",
        "lblEncoder_X = lblEncoder_X.fit(enc_test_labels['category'])\n",
        "\n",
        "enc_test_labels['category'] = lblEncoder_X.transform(enc_test_labels['category'])\n",
        "\n",
        "# printing the value counts will show the encoded labels, instead of the original ones\n",
        "print()\n",
        "print('after encoding\\n',enc_test_labels['category'].value_counts())\n",
        "print()\n",
        "print(enc_test_labels)\n",
        "\n"
      ],
      "metadata": {
        "colab": {
          "base_uri": "https://localhost:8080/"
        },
        "id": "is9-NRkfbRnr",
        "outputId": "18936edf-f506-4653-dd4a-fac06be4671d"
      },
      "execution_count": 562,
      "outputs": [
        {
          "output_type": "stream",
          "name": "stdout",
          "text": [
            "\n",
            "after encoding\n",
            " 1    571\n",
            "3    470\n",
            "4    379\n",
            "0    354\n",
            "2     32\n",
            "Name: category, dtype: int64\n",
            "\n",
            "      category\n",
            "1489         3\n",
            "4299         0\n",
            "4740         0\n",
            "8274         3\n",
            "3702         1\n",
            "...        ...\n",
            "6731         0\n",
            "1136         2\n",
            "4226         4\n",
            "9141         4\n",
            "7104         4\n",
            "\n",
            "[1806 rows x 1 columns]\n"
          ]
        }
      ]
    },
    {
      "cell_type": "code",
      "source": [
        "!pip install --upgrade spacy"
      ],
      "metadata": {
        "id": "cjHoOO24kNKq"
      },
      "execution_count": null,
      "outputs": []
    },
    {
      "cell_type": "code",
      "source": [
        "# spacy needs language models - let's make sure they are downloaded\n",
        "!python -m spacy download en_core_web_sm"
      ],
      "metadata": {
        "id": "58ApPgK7kXiL"
      },
      "execution_count": null,
      "outputs": []
    },
    {
      "cell_type": "code",
      "source": [
        "# Create an NLP pipeline\n",
        "nlp = spacy.load('en_core_web_sm')"
      ],
      "metadata": {
        "id": "E0Zl_WvikHtr"
      },
      "execution_count": null,
      "outputs": []
    },
    {
      "cell_type": "markdown",
      "source": [
        "#**Model**"
      ],
      "metadata": {
        "id": "ESaYUVWZ1gJw"
      }
    },
    {
      "cell_type": "markdown",
      "source": [
        "Doing Label encoding to the **has_entity** column and check the results"
      ],
      "metadata": {
        "id": "G2zCedcgQerJ"
      }
    },
    {
      "cell_type": "code",
      "source": [
        "lblEncoder_X = LabelEncoder()\n",
        "\n",
        "print('before encoding\\n',train_dataset['has_entity'].value_counts())\n",
        "enc_train_data = train_dataset.copy()\n",
        "# apply LblEncoder object to our categorical variables using the fit_transform method.\n",
        "lblEncoder_X = lblEncoder_X.fit(enc_train_data['has_entity']) # we can fit and transform all at once\n",
        "enc_train_data['has_entity'] = lblEncoder_X.transform(enc_train_data['has_entity'])\n",
        "\n",
        "# printing the value counts will show the encoded labels, instead of the original ones\n",
        "print()\n",
        "print('after encoding\\n',enc_train_data['has_entity'].value_counts())"
      ],
      "metadata": {
        "colab": {
          "base_uri": "https://localhost:8080/"
        },
        "id": "DU2YgBeZQ2dG",
        "outputId": "3bde2eda-6e73-4d46-c399-2c62186161df"
      },
      "execution_count": 563,
      "outputs": [
        {
          "output_type": "stream",
          "name": "stdout",
          "text": [
            "before encoding\n",
            " ORG_YES_PRODUCT_NO_PERSON_YES_     2397\n",
            "ORG_NO_PRODUCT_NO_PERSON_NO_       2223\n",
            "ORG_YES_PRODUCT_NO_PERSON_NO_      1133\n",
            "ORG_NO_PRODUCT_NO_PERSON_YES_      1058\n",
            "ORG_YES_PRODUCT_YES_PERSON_YES_     228\n",
            "ORG_YES_PRODUCT_YES_PERSON_NO_       97\n",
            "ORG_NO_PRODUCT_YES_PERSON_YES_       50\n",
            "ORG_NO_PRODUCT_YES_PERSON_NO_        37\n",
            "Name: has_entity, dtype: int64\n",
            "\n",
            "after encoding\n",
            " 5    2397\n",
            "0    2223\n",
            "4    1133\n",
            "1    1058\n",
            "7     228\n",
            "6      97\n",
            "3      50\n",
            "2      37\n",
            "Name: has_entity, dtype: int64\n"
          ]
        }
      ]
    },
    {
      "cell_type": "code",
      "source": [
        "lblEncoder_X = LabelEncoder()\n",
        "\n",
        "print('before encoding\\n',test_dataset['has_entity'].value_counts())\n",
        "enc_test_data = test_dataset.copy()\n",
        "# apply LblEncoder object to our categorical variables using the fit_transform method.\n",
        "lblEncoder_X = lblEncoder_X.fit(enc_test_data['has_entity']) # we can fit and transform all at once\n",
        "enc_test_data['has_entity'] = lblEncoder_X.transform(enc_test_data['has_entity'])\n",
        "\n",
        "# printing the value counts will show the encoded labels, instead of the original ones\n",
        "print()\n",
        "print('after encoding\\n',enc_test_data['has_entity'].value_counts())\n"
      ],
      "metadata": {
        "colab": {
          "base_uri": "https://localhost:8080/"
        },
        "id": "bXJ_pSOdRvL2",
        "outputId": "f8c0039e-f592-4fed-f3da-83c03e85570f"
      },
      "execution_count": 565,
      "outputs": [
        {
          "output_type": "stream",
          "name": "stdout",
          "text": [
            "before encoding\n",
            " ORG_YES_PRODUCT_NO_PERSON_YES_     578\n",
            "ORG_NO_PRODUCT_NO_PERSON_NO_       546\n",
            "ORG_YES_PRODUCT_NO_PERSON_NO_      300\n",
            "ORG_NO_PRODUCT_NO_PERSON_YES_      278\n",
            "ORG_YES_PRODUCT_YES_PERSON_YES_     62\n",
            "ORG_YES_PRODUCT_YES_PERSON_NO_      25\n",
            "ORG_NO_PRODUCT_YES_PERSON_YES_      12\n",
            "ORG_NO_PRODUCT_YES_PERSON_NO_        5\n",
            "Name: has_entity, dtype: int64\n",
            "\n",
            "after encoding\n",
            " 5    578\n",
            "0    546\n",
            "4    300\n",
            "1    278\n",
            "7     62\n",
            "6     25\n",
            "3     12\n",
            "2      5\n",
            "Name: has_entity, dtype: int64\n"
          ]
        }
      ]
    },
    {
      "cell_type": "code",
      "source": [
        "!pip install clean-text"
      ],
      "metadata": {
        "id": "m514L7rf1nt9"
      },
      "execution_count": null,
      "outputs": []
    },
    {
      "cell_type": "code",
      "source": [
        "import sklearn.model_selection\n",
        "import spacy\n",
        "import matplotlib.pyplot as plt\n",
        "from cleantext import clean"
      ],
      "metadata": {
        "id": "-tomWqQ3kdkC"
      },
      "execution_count": 566,
      "outputs": []
    },
    {
      "cell_type": "markdown",
      "source": [
        "text cleaning"
      ],
      "metadata": {
        "id": "0aBpimr02Nov"
      }
    },
    {
      "cell_type": "code",
      "source": [
        "from cleantext import clean\n",
        "\n",
        "def clean_text(x):\n",
        "  \"\"\" Define standard cleaning procedure \"\"\"\n",
        "  return clean(x,\n",
        "    fix_unicode=True,               # fix various unicode errors\n",
        "    lower=True,                     # change all text to lowercase\n",
        "    no_line_breaks=True,           # this removes occurrences of the newline character \"\\n\"\n",
        "    no_punct=False,                 # let's NOT remove punctuations for the time being\n",
        "    no_urls=True,                  # replace all URLs with a special token (below)\n",
        "    replace_with_url=\"\",          # we decide to replace urls with nothing\n",
        "    no_emails=True,                # replace all email addresses with a special token\n",
        "    replace_with_email=\"\",        # we decide to replace emails with nothing\n",
        "    no_phone_numbers=True,         # replace all phone numbers with a special token\n",
        "    replace_with_phone_number=\"\",   # we decide to replace phone numbers with nothing\n",
        "    lang=\"en\"                       # set to 'de' for German special handling\n",
        "    )\n"
      ],
      "metadata": {
        "id": "ht5DI3oS2PvY"
      },
      "execution_count": 567,
      "outputs": []
    },
    {
      "cell_type": "code",
      "source": [
        "enc_train_data['clean_text']= enc_train_data['paragraph'].apply(clean_text)\n",
        "enc_test_data['clean_text']= enc_test_data['paragraph'].apply(clean_text)"
      ],
      "metadata": {
        "id": "lrZVG-Ha2hCH"
      },
      "execution_count": 568,
      "outputs": []
    },
    {
      "cell_type": "code",
      "source": [
        "enc_train_data.sample(5)"
      ],
      "metadata": {
        "colab": {
          "base_uri": "https://localhost:8080/",
          "height": 206
        },
        "id": "220_ZZ4L28wF",
        "outputId": "61ebdafb-e369-48de-e6f5-0f437db9c680"
      },
      "execution_count": 569,
      "outputs": [
        {
          "output_type": "execute_result",
          "data": {
            "text/plain": [
              "                                              paragraph  has_entity  \\\n",
              "4600  Inspired by Mary Anning's sensational discover...           5   \n",
              "3353  Enhance the driving experience by enabling int...           5   \n",
              "8639  Spontaneous generation is a superseded scienti...           5   \n",
              "2151  Note that a foo will be read as a single symbo...           0   \n",
              "6406  Swainson remarried in 1840 to Ann Grasby, and ...           5   \n",
              "\n",
              "                                             clean_text  \n",
              "4600  inspired by mary anning's sensational discover...  \n",
              "3353  enhance the driving experience by enabling int...  \n",
              "8639  spontaneous generation is a superseded scienti...  \n",
              "2151  note that a foo will be read as a single symbo...  \n",
              "6406  swainson remarried in 1840 to ann grasby, and ...  "
            ],
            "text/html": [
              "\n",
              "  <div id=\"df-6226e69a-2401-463c-98ee-f33faf9b70d8\" class=\"colab-df-container\">\n",
              "    <div>\n",
              "<style scoped>\n",
              "    .dataframe tbody tr th:only-of-type {\n",
              "        vertical-align: middle;\n",
              "    }\n",
              "\n",
              "    .dataframe tbody tr th {\n",
              "        vertical-align: top;\n",
              "    }\n",
              "\n",
              "    .dataframe thead th {\n",
              "        text-align: right;\n",
              "    }\n",
              "</style>\n",
              "<table border=\"1\" class=\"dataframe\">\n",
              "  <thead>\n",
              "    <tr style=\"text-align: right;\">\n",
              "      <th></th>\n",
              "      <th>paragraph</th>\n",
              "      <th>has_entity</th>\n",
              "      <th>clean_text</th>\n",
              "    </tr>\n",
              "  </thead>\n",
              "  <tbody>\n",
              "    <tr>\n",
              "      <th>4600</th>\n",
              "      <td>Inspired by Mary Anning's sensational discover...</td>\n",
              "      <td>5</td>\n",
              "      <td>inspired by mary anning's sensational discover...</td>\n",
              "    </tr>\n",
              "    <tr>\n",
              "      <th>3353</th>\n",
              "      <td>Enhance the driving experience by enabling int...</td>\n",
              "      <td>5</td>\n",
              "      <td>enhance the driving experience by enabling int...</td>\n",
              "    </tr>\n",
              "    <tr>\n",
              "      <th>8639</th>\n",
              "      <td>Spontaneous generation is a superseded scienti...</td>\n",
              "      <td>5</td>\n",
              "      <td>spontaneous generation is a superseded scienti...</td>\n",
              "    </tr>\n",
              "    <tr>\n",
              "      <th>2151</th>\n",
              "      <td>Note that a foo will be read as a single symbo...</td>\n",
              "      <td>0</td>\n",
              "      <td>note that a foo will be read as a single symbo...</td>\n",
              "    </tr>\n",
              "    <tr>\n",
              "      <th>6406</th>\n",
              "      <td>Swainson remarried in 1840 to Ann Grasby, and ...</td>\n",
              "      <td>5</td>\n",
              "      <td>swainson remarried in 1840 to ann grasby, and ...</td>\n",
              "    </tr>\n",
              "  </tbody>\n",
              "</table>\n",
              "</div>\n",
              "    <div class=\"colab-df-buttons\">\n",
              "\n",
              "  <div class=\"colab-df-container\">\n",
              "    <button class=\"colab-df-convert\" onclick=\"convertToInteractive('df-6226e69a-2401-463c-98ee-f33faf9b70d8')\"\n",
              "            title=\"Convert this dataframe to an interactive table.\"\n",
              "            style=\"display:none;\">\n",
              "\n",
              "  <svg xmlns=\"http://www.w3.org/2000/svg\" height=\"24px\" viewBox=\"0 -960 960 960\">\n",
              "    <path d=\"M120-120v-720h720v720H120Zm60-500h600v-160H180v160Zm220 220h160v-160H400v160Zm0 220h160v-160H400v160ZM180-400h160v-160H180v160Zm440 0h160v-160H620v160ZM180-180h160v-160H180v160Zm440 0h160v-160H620v160Z\"/>\n",
              "  </svg>\n",
              "    </button>\n",
              "\n",
              "  <style>\n",
              "    .colab-df-container {\n",
              "      display:flex;\n",
              "      gap: 12px;\n",
              "    }\n",
              "\n",
              "    .colab-df-convert {\n",
              "      background-color: #E8F0FE;\n",
              "      border: none;\n",
              "      border-radius: 50%;\n",
              "      cursor: pointer;\n",
              "      display: none;\n",
              "      fill: #1967D2;\n",
              "      height: 32px;\n",
              "      padding: 0 0 0 0;\n",
              "      width: 32px;\n",
              "    }\n",
              "\n",
              "    .colab-df-convert:hover {\n",
              "      background-color: #E2EBFA;\n",
              "      box-shadow: 0px 1px 2px rgba(60, 64, 67, 0.3), 0px 1px 3px 1px rgba(60, 64, 67, 0.15);\n",
              "      fill: #174EA6;\n",
              "    }\n",
              "\n",
              "    .colab-df-buttons div {\n",
              "      margin-bottom: 4px;\n",
              "    }\n",
              "\n",
              "    [theme=dark] .colab-df-convert {\n",
              "      background-color: #3B4455;\n",
              "      fill: #D2E3FC;\n",
              "    }\n",
              "\n",
              "    [theme=dark] .colab-df-convert:hover {\n",
              "      background-color: #434B5C;\n",
              "      box-shadow: 0px 1px 3px 1px rgba(0, 0, 0, 0.15);\n",
              "      filter: drop-shadow(0px 1px 2px rgba(0, 0, 0, 0.3));\n",
              "      fill: #FFFFFF;\n",
              "    }\n",
              "  </style>\n",
              "\n",
              "    <script>\n",
              "      const buttonEl =\n",
              "        document.querySelector('#df-6226e69a-2401-463c-98ee-f33faf9b70d8 button.colab-df-convert');\n",
              "      buttonEl.style.display =\n",
              "        google.colab.kernel.accessAllowed ? 'block' : 'none';\n",
              "\n",
              "      async function convertToInteractive(key) {\n",
              "        const element = document.querySelector('#df-6226e69a-2401-463c-98ee-f33faf9b70d8');\n",
              "        const dataTable =\n",
              "          await google.colab.kernel.invokeFunction('convertToInteractive',\n",
              "                                                    [key], {});\n",
              "        if (!dataTable) return;\n",
              "\n",
              "        const docLinkHtml = 'Like what you see? Visit the ' +\n",
              "          '<a target=\"_blank\" href=https://colab.research.google.com/notebooks/data_table.ipynb>data table notebook</a>'\n",
              "          + ' to learn more about interactive tables.';\n",
              "        element.innerHTML = '';\n",
              "        dataTable['output_type'] = 'display_data';\n",
              "        await google.colab.output.renderOutput(dataTable, element);\n",
              "        const docLink = document.createElement('div');\n",
              "        docLink.innerHTML = docLinkHtml;\n",
              "        element.appendChild(docLink);\n",
              "      }\n",
              "    </script>\n",
              "  </div>\n",
              "\n",
              "\n",
              "<div id=\"df-a4d32d27-d0a4-47e3-93cd-0caa0468badb\">\n",
              "  <button class=\"colab-df-quickchart\" onclick=\"quickchart('df-a4d32d27-d0a4-47e3-93cd-0caa0468badb')\"\n",
              "            title=\"Suggest charts\"\n",
              "            style=\"display:none;\">\n",
              "\n",
              "<svg xmlns=\"http://www.w3.org/2000/svg\" height=\"24px\"viewBox=\"0 0 24 24\"\n",
              "     width=\"24px\">\n",
              "    <g>\n",
              "        <path d=\"M19 3H5c-1.1 0-2 .9-2 2v14c0 1.1.9 2 2 2h14c1.1 0 2-.9 2-2V5c0-1.1-.9-2-2-2zM9 17H7v-7h2v7zm4 0h-2V7h2v10zm4 0h-2v-4h2v4z\"/>\n",
              "    </g>\n",
              "</svg>\n",
              "  </button>\n",
              "\n",
              "<style>\n",
              "  .colab-df-quickchart {\n",
              "      --bg-color: #E8F0FE;\n",
              "      --fill-color: #1967D2;\n",
              "      --hover-bg-color: #E2EBFA;\n",
              "      --hover-fill-color: #174EA6;\n",
              "      --disabled-fill-color: #AAA;\n",
              "      --disabled-bg-color: #DDD;\n",
              "  }\n",
              "\n",
              "  [theme=dark] .colab-df-quickchart {\n",
              "      --bg-color: #3B4455;\n",
              "      --fill-color: #D2E3FC;\n",
              "      --hover-bg-color: #434B5C;\n",
              "      --hover-fill-color: #FFFFFF;\n",
              "      --disabled-bg-color: #3B4455;\n",
              "      --disabled-fill-color: #666;\n",
              "  }\n",
              "\n",
              "  .colab-df-quickchart {\n",
              "    background-color: var(--bg-color);\n",
              "    border: none;\n",
              "    border-radius: 50%;\n",
              "    cursor: pointer;\n",
              "    display: none;\n",
              "    fill: var(--fill-color);\n",
              "    height: 32px;\n",
              "    padding: 0;\n",
              "    width: 32px;\n",
              "  }\n",
              "\n",
              "  .colab-df-quickchart:hover {\n",
              "    background-color: var(--hover-bg-color);\n",
              "    box-shadow: 0 1px 2px rgba(60, 64, 67, 0.3), 0 1px 3px 1px rgba(60, 64, 67, 0.15);\n",
              "    fill: var(--button-hover-fill-color);\n",
              "  }\n",
              "\n",
              "  .colab-df-quickchart-complete:disabled,\n",
              "  .colab-df-quickchart-complete:disabled:hover {\n",
              "    background-color: var(--disabled-bg-color);\n",
              "    fill: var(--disabled-fill-color);\n",
              "    box-shadow: none;\n",
              "  }\n",
              "\n",
              "  .colab-df-spinner {\n",
              "    border: 2px solid var(--fill-color);\n",
              "    border-color: transparent;\n",
              "    border-bottom-color: var(--fill-color);\n",
              "    animation:\n",
              "      spin 1s steps(1) infinite;\n",
              "  }\n",
              "\n",
              "  @keyframes spin {\n",
              "    0% {\n",
              "      border-color: transparent;\n",
              "      border-bottom-color: var(--fill-color);\n",
              "      border-left-color: var(--fill-color);\n",
              "    }\n",
              "    20% {\n",
              "      border-color: transparent;\n",
              "      border-left-color: var(--fill-color);\n",
              "      border-top-color: var(--fill-color);\n",
              "    }\n",
              "    30% {\n",
              "      border-color: transparent;\n",
              "      border-left-color: var(--fill-color);\n",
              "      border-top-color: var(--fill-color);\n",
              "      border-right-color: var(--fill-color);\n",
              "    }\n",
              "    40% {\n",
              "      border-color: transparent;\n",
              "      border-right-color: var(--fill-color);\n",
              "      border-top-color: var(--fill-color);\n",
              "    }\n",
              "    60% {\n",
              "      border-color: transparent;\n",
              "      border-right-color: var(--fill-color);\n",
              "    }\n",
              "    80% {\n",
              "      border-color: transparent;\n",
              "      border-right-color: var(--fill-color);\n",
              "      border-bottom-color: var(--fill-color);\n",
              "    }\n",
              "    90% {\n",
              "      border-color: transparent;\n",
              "      border-bottom-color: var(--fill-color);\n",
              "    }\n",
              "  }\n",
              "</style>\n",
              "\n",
              "  <script>\n",
              "    async function quickchart(key) {\n",
              "      const quickchartButtonEl =\n",
              "        document.querySelector('#' + key + ' button');\n",
              "      quickchartButtonEl.disabled = true;  // To prevent multiple clicks.\n",
              "      quickchartButtonEl.classList.add('colab-df-spinner');\n",
              "      try {\n",
              "        const charts = await google.colab.kernel.invokeFunction(\n",
              "            'suggestCharts', [key], {});\n",
              "      } catch (error) {\n",
              "        console.error('Error during call to suggestCharts:', error);\n",
              "      }\n",
              "      quickchartButtonEl.classList.remove('colab-df-spinner');\n",
              "      quickchartButtonEl.classList.add('colab-df-quickchart-complete');\n",
              "    }\n",
              "    (() => {\n",
              "      let quickchartButtonEl =\n",
              "        document.querySelector('#df-a4d32d27-d0a4-47e3-93cd-0caa0468badb button');\n",
              "      quickchartButtonEl.style.display =\n",
              "        google.colab.kernel.accessAllowed ? 'block' : 'none';\n",
              "    })();\n",
              "  </script>\n",
              "</div>\n",
              "    </div>\n",
              "  </div>\n"
            ],
            "application/vnd.google.colaboratory.intrinsic+json": {
              "type": "dataframe",
              "summary": "{\n  \"name\": \"enc_train_data\",\n  \"rows\": 5,\n  \"fields\": [\n    {\n      \"column\": \"paragraph\",\n      \"properties\": {\n        \"dtype\": \"string\",\n        \"num_unique_values\": 5,\n        \"samples\": [\n          \"Enhance the driving experience by enabling interaction with virtual assistants like Siri and Alexa while in the car.\",\n          \"Swainson remarried in 1840 to Ann Grasby, and emigrated to New Zealand in 1841. Two of their daughters were married in 1863: Edith Stanway Swainson married Arthur Halcombe, and Lucelle Frances Swainson married Richmond Beetham. Swainson was involved in property management and natural history-related publications from 1841 to 1855, and forestry-related investigations in Tasmania, New South Wales, and Victoria from 1851 to 1853. Swainson died at Fern Grove, Lower Hutt, New Zealand, on 6 December 1855.\",\n          \"Spontaneous generation is a superseded scientific theory that held that living creatures could arise from nonliving matter and that such processes were commonplace and regular. It was hypothesized that certain forms, such as fleas, could arise from inanimate matter such as dust, or that maggots could arise from dead flesh. The doctrine of spontaneous generation was coherently synthesized by the Greek philosopher and naturalist Aristotle, who compiled and expanded the work of earlier natural philosophers and the various ancient explanations for the appearance of organisms. Spontaneous generation was taken as scientific fact for two millennia. Though challenged in the 17th and 18th centuries by the experiments of the Italian biologists Francesco Redi and Lazzaro Spallanzani, it was not discredited until the work of the French chemist Louis Pasteur and the Irish physicist John Tyndall in the mid-19th century.\"\n        ],\n        \"semantic_type\": \"\",\n        \"description\": \"\"\n      }\n    },\n    {\n      \"column\": \"has_entity\",\n      \"properties\": {\n        \"dtype\": \"number\",\n        \"std\": 2,\n        \"min\": 0,\n        \"max\": 5,\n        \"num_unique_values\": 2,\n        \"samples\": [\n          0,\n          5\n        ],\n        \"semantic_type\": \"\",\n        \"description\": \"\"\n      }\n    },\n    {\n      \"column\": \"clean_text\",\n      \"properties\": {\n        \"dtype\": \"string\",\n        \"num_unique_values\": 5,\n        \"samples\": [\n          \"enhance the driving experience by enabling interaction with virtual assistants like siri and alexa while in the car.\",\n          \"swainson remarried in 1840 to ann grasby, and emigrated to new zealand in 1841. two of their daughters were married in 1863: edith stanway swainson married arthur halcombe, and lucelle frances swainson married richmond beetham. swainson was involved in property management and natural history-related publications from 1841 to 1855, and forestry-related investigations in tasmania, new south wales, and victoria from 1851 to 1853. swainson died at fern grove, lower hutt, new zealand, on 6 december 1855.\"\n        ],\n        \"semantic_type\": \"\",\n        \"description\": \"\"\n      }\n    }\n  ]\n}"
            }
          },
          "metadata": {},
          "execution_count": 569
        }
      ]
    },
    {
      "cell_type": "code",
      "source": [
        "# let's create a nice function to tokenize a single text document\n",
        "import string\n",
        "EXTRA_PUNCT = string.punctuation\n",
        "\n",
        "# import Spacy\n",
        "import spacy\n",
        "# create the Spacy pipeline\n",
        "nlp = spacy.load('en_core_web_sm')\n",
        "\n",
        "def preprocess_text_with_spacy(text_):\n",
        "  \"\"\"\n",
        "  This function takes a Spacy doc and returns the list of its lemmas,\n",
        "  after removing stop words and punctuations\n",
        "  \"\"\"\n",
        "  # process document with Spacy\n",
        "\n",
        "  doc_ = nlp(text_)\n",
        "  # here we take the lemmas, and now we also want to but only keep those that are NOT stop words, only digits, or punctuation.\n",
        "  lemmas_ = [token.lemma_ for token in doc_ if not (token.is_stop or token.is_punct or token.is_digit)]\n",
        "\n",
        "  return [lemma for lemma in lemmas_ if lemma not in EXTRA_PUNCT]\n"
      ],
      "metadata": {
        "id": "ajOjXd5E3OMa"
      },
      "execution_count": 570,
      "outputs": []
    },
    {
      "cell_type": "code",
      "source": [
        "# tokenize training data\n",
        "from time import time as tt\n",
        "# tokenize test data (start from the cleaned text!)\n",
        "t0 = tt()\n",
        "enc_train_data['tokenized_text'] = enc_train_data['clean_text'].apply(preprocess_text_with_spacy)\n",
        "print(f'Time elapsed is {(tt()-t0):.2f} seconds')\n"
      ],
      "metadata": {
        "colab": {
          "base_uri": "https://localhost:8080/"
        },
        "id": "znkdCg7b3Tje",
        "outputId": "dd81656a-56da-4439-97f8-da763541da41"
      },
      "execution_count": 571,
      "outputs": [
        {
          "output_type": "stream",
          "name": "stdout",
          "text": [
            "Time elapsed is 170.50 seconds\n"
          ]
        }
      ]
    },
    {
      "cell_type": "code",
      "source": [
        "enc_train_data.sample(5)"
      ],
      "metadata": {
        "id": "IXsT4Txd4Q91"
      },
      "execution_count": null,
      "outputs": []
    },
    {
      "cell_type": "code",
      "source": [
        "# tokenize test data (start from the cleaned text!)\n",
        "t0 = tt()\n",
        "enc_test_data['tokenized_text'] = enc_test_data['clean_text'].apply(preprocess_text_with_spacy)\n",
        "print(f'Time elapsed is {(tt()-t0):.2f} seconds')"
      ],
      "metadata": {
        "colab": {
          "base_uri": "https://localhost:8080/"
        },
        "id": "QAySS2xz3yCj",
        "outputId": "998af4fa-bddb-4ff3-fbcb-fe4a9425e651"
      },
      "execution_count": 572,
      "outputs": [
        {
          "output_type": "stream",
          "name": "stdout",
          "text": [
            "Time elapsed is 36.95 seconds\n"
          ]
        }
      ]
    },
    {
      "cell_type": "code",
      "source": [
        "# import CountVectorizer\n",
        "from sklearn.feature_extraction.text import CountVectorizer\n",
        "\n",
        "# define a function to get the most frequent ngrams\n",
        "def get_top_ngram(corpus, ngram_range=(1,2), top_n= 50):\n",
        "\n",
        "    # set max_features to \"top_n\" because we only want the most common n-grams\n",
        "    # ngram_range=(1,2) means that we ask CountVectorizer to create unigrams and bi-grams\n",
        "    vec = CountVectorizer(ngram_range=ngram_range, max_features=top_n, lowercase=False,\n",
        "                          tokenizer=lambda x: x)\n",
        "\n",
        "    # fit the CountVectorizer to our corpus - this function creates the vocabulary\n",
        "    # and counts how often each n-gram appears\n",
        "    vec.fit(corpus)\n",
        "    # get a vector for each document\n",
        "    bag_of_words = vec.transform(corpus)\n",
        "    # sum across documents\n",
        "    sum_words = bag_of_words.sum(axis=0)\n",
        "    # get the words with their frequencies\n",
        "    # the attribute .vocabulary stores all the n-grams in the vocabulary, indexed by a number\n",
        "    words_freq = [(word, sum_words[0, idx])\n",
        "                  for word, idx in vec.vocabulary_.items()]\n",
        "    # sort them by frequency\n",
        "    words_freq =sorted(words_freq, key = lambda x: x[1], reverse= True)\n",
        "    # separate the n_grams from their frequencies\n",
        "    ngram_labels = [word[0] for word in words_freq]\n",
        "    ngram_freqs = [word[1] for word in words_freq]\n",
        "    # return the results\n",
        "    return bag_of_words, ngram_freqs, ngram_labels"
      ],
      "metadata": {
        "id": "YZxcK_N_dGqx"
      },
      "execution_count": 575,
      "outputs": []
    },
    {
      "cell_type": "code",
      "source": [
        "\n",
        "# let's get the n-gram frequencies\n",
        "bag_of_words, ngram_freqs, ngram_labels = get_top_ngram(enc_train_data['tokenized_text'],\n",
        "                                                        ngram_range=(1,2), top_n= 50)\n",
        "#bag_of_words, ngram_freqs, ngram_labels = get_top_ngram(df_train['news_text'],\n",
        "#                                                       ngram_range=(1,2), top_n= 50)\n",
        "\n",
        "#  plot\n",
        "plt.figure(figsize=(7,12))\n",
        "_ = plt.barh(y=range(50),width=ngram_freqs,tick_label=ngram_labels)"
      ],
      "metadata": {
        "colab": {
          "base_uri": "https://localhost:8080/",
          "height": 1000
        },
        "id": "jhMQ22BF6tEE",
        "outputId": "ea4d3fbc-93f3-468b-84a3-e5707b5746f5"
      },
      "execution_count": 576,
      "outputs": [
        {
          "output_type": "stream",
          "name": "stderr",
          "text": [
            "/usr/local/lib/python3.10/dist-packages/sklearn/feature_extraction/text.py:528: UserWarning: The parameter 'token_pattern' will not be used since 'tokenizer' is not None'\n",
            "  warnings.warn(\n"
          ]
        },
        {
          "output_type": "display_data",
          "data": {
            "text/plain": [
              "<Figure size 700x1200 with 1 Axes>"
            ],
            "image/png": "[encoded data removed]"
          },
          "metadata": {}
        }
      ]
    },
    {
      "cell_type": "code",
      "source": [
        "corpus = enc_train_data[enc_train_data['has_entity']==4]['tokenized_text']\n",
        "\n",
        "# let's get the n-gram frequencies\n",
        "bag_of_words, ngram_freqs, ngram_labels = get_top_ngram(corpus,\n",
        "                                                        ngram_range=(2,2), top_n= 50)\n",
        "#bag_of_words, ngram_freqs, ngram_labels = get_top_ngram(df_train['news_text'],\n",
        "#                                                        ngram_range=(1,2), top_n= 50)\n",
        "\n",
        "#  plot (most common ones are at the bottom)\n",
        "plt.figure(figsize=(7,12))\n",
        "_ = plt.barh(y=range(50),width=ngram_freqs,tick_label=ngram_labels)\n"
      ],
      "metadata": {
        "colab": {
          "base_uri": "https://localhost:8080/",
          "height": 984
        },
        "id": "1ROz9fJO60mb",
        "outputId": "41ecab9c-f5f1-487f-f1ff-aa87f7703b34"
      },
      "execution_count": 577,
      "outputs": [
        {
          "output_type": "display_data",
          "data": {
            "text/plain": [
              "<Figure size 700x1200 with 1 Axes>"
            ],
            "image/png": "[encoded data removed]"
          },
          "metadata": {}
        }
      ]
    },
    {
      "cell_type": "code",
      "source": [
        "# get the length of the list of tokens\n",
        "enc_train_data['text_length'] = enc_train_data['tokenized_text'].apply(len)"
      ],
      "metadata": {
        "id": "pzjozVZu-QK2"
      },
      "execution_count": 578,
      "outputs": []
    },
    {
      "cell_type": "code",
      "source": [
        "enc_train_data.sample(3)"
      ],
      "metadata": {
        "colab": {
          "base_uri": "https://localhost:8080/",
          "height": 196
        },
        "id": "k9ohulV8-YP9",
        "outputId": "9eb366a9-e107-4d88-bf5f-3915e6250322"
      },
      "execution_count": 579,
      "outputs": [
        {
          "output_type": "execute_result",
          "data": {
            "text/plain": [
              "                                              paragraph  has_entity  \\\n",
              "7690  In 1788, the Lodge of Antiquity thought they w...           5   \n",
              "8836  In Physics, using the hylomorphic theory, , Ar...           5   \n",
              "5422  Interrogator: In the first line of your sonnet...           4   \n",
              "\n",
              "                                             clean_text  \\\n",
              "7690  in 1788, the lodge of antiquity thought they w...   \n",
              "8836  in physics, using the hylomorphic theory, , ar...   \n",
              "5422  interrogator: in the first line of your sonnet...   \n",
              "\n",
              "                                         tokenized_text  text_length  \n",
              "7690  [lodge, antiquity, think, buy, portrait, wren,...           31  \n",
              "8836  [physics, hylomorphic, theory, aristotle, reje...           20  \n",
              "5422  [interrogator, line, sonnet, read, shall, comp...           74  "
            ],
            "text/html": [
              "\n",
              "  <div id=\"df-1cc91da9-68aa-41de-8b81-5c29d3f33c02\" class=\"colab-df-container\">\n",
              "    <div>\n",
              "<style scoped>\n",
              "    .dataframe tbody tr th:only-of-type {\n",
              "        vertical-align: middle;\n",
              "    }\n",
              "\n",
              "    .dataframe tbody tr th {\n",
              "        vertical-align: top;\n",
              "    }\n",
              "\n",
              "    .dataframe thead th {\n",
              "        text-align: right;\n",
              "    }\n",
              "</style>\n",
              "<table border=\"1\" class=\"dataframe\">\n",
              "  <thead>\n",
              "    <tr style=\"text-align: right;\">\n",
              "      <th></th>\n",
              "      <th>paragraph</th>\n",
              "      <th>has_entity</th>\n",
              "      <th>clean_text</th>\n",
              "      <th>tokenized_text</th>\n",
              "      <th>text_length</th>\n",
              "    </tr>\n",
              "  </thead>\n",
              "  <tbody>\n",
              "    <tr>\n",
              "      <th>7690</th>\n",
              "      <td>In 1788, the Lodge of Antiquity thought they w...</td>\n",
              "      <td>5</td>\n",
              "      <td>in 1788, the lodge of antiquity thought they w...</td>\n",
              "      <td>[lodge, antiquity, think, buy, portrait, wren,...</td>\n",
              "      <td>31</td>\n",
              "    </tr>\n",
              "    <tr>\n",
              "      <th>8836</th>\n",
              "      <td>In Physics, using the hylomorphic theory, , Ar...</td>\n",
              "      <td>5</td>\n",
              "      <td>in physics, using the hylomorphic theory, , ar...</td>\n",
              "      <td>[physics, hylomorphic, theory, aristotle, reje...</td>\n",
              "      <td>20</td>\n",
              "    </tr>\n",
              "    <tr>\n",
              "      <th>5422</th>\n",
              "      <td>Interrogator: In the first line of your sonnet...</td>\n",
              "      <td>4</td>\n",
              "      <td>interrogator: in the first line of your sonnet...</td>\n",
              "      <td>[interrogator, line, sonnet, read, shall, comp...</td>\n",
              "      <td>74</td>\n",
              "    </tr>\n",
              "  </tbody>\n",
              "</table>\n",
              "</div>\n",
              "    <div class=\"colab-df-buttons\">\n",
              "\n",
              "  <div class=\"colab-df-container\">\n",
              "    <button class=\"colab-df-convert\" onclick=\"convertToInteractive('df-1cc91da9-68aa-41de-8b81-5c29d3f33c02')\"\n",
              "            title=\"Convert this dataframe to an interactive table.\"\n",
              "            style=\"display:none;\">\n",
              "\n",
              "  <svg xmlns=\"http://www.w3.org/2000/svg\" height=\"24px\" viewBox=\"0 -960 960 960\">\n",
              "    <path d=\"M120-120v-720h720v720H120Zm60-500h600v-160H180v160Zm220 220h160v-160H400v160Zm0 220h160v-160H400v160ZM180-400h160v-160H180v160Zm440 0h160v-160H620v160ZM180-180h160v-160H180v160Zm440 0h160v-160H620v160Z\"/>\n",
              "  </svg>\n",
              "    </button>\n",
              "\n",
              "  <style>\n",
              "    .colab-df-container {\n",
              "      display:flex;\n",
              "      gap: 12px;\n",
              "    }\n",
              "\n",
              "    .colab-df-convert {\n",
              "      background-color: #E8F0FE;\n",
              "      border: none;\n",
              "      border-radius: 50%;\n",
              "      cursor: pointer;\n",
              "      display: none;\n",
              "      fill: #1967D2;\n",
              "      height: 32px;\n",
              "      padding: 0 0 0 0;\n",
              "      width: 32px;\n",
              "    }\n",
              "\n",
              "    .colab-df-convert:hover {\n",
              "      background-color: #E2EBFA;\n",
              "      box-shadow: 0px 1px 2px rgba(60, 64, 67, 0.3), 0px 1px 3px 1px rgba(60, 64, 67, 0.15);\n",
              "      fill: #174EA6;\n",
              "    }\n",
              "\n",
              "    .colab-df-buttons div {\n",
              "      margin-bottom: 4px;\n",
              "    }\n",
              "\n",
              "    [theme=dark] .colab-df-convert {\n",
              "      background-color: #3B4455;\n",
              "      fill: #D2E3FC;\n",
              "    }\n",
              "\n",
              "    [theme=dark] .colab-df-convert:hover {\n",
              "      background-color: #434B5C;\n",
              "      box-shadow: 0px 1px 3px 1px rgba(0, 0, 0, 0.15);\n",
              "      filter: drop-shadow(0px 1px 2px rgba(0, 0, 0, 0.3));\n",
              "      fill: #FFFFFF;\n",
              "    }\n",
              "  </style>\n",
              "\n",
              "    <script>\n",
              "      const buttonEl =\n",
              "        document.querySelector('#df-1cc91da9-68aa-41de-8b81-5c29d3f33c02 button.colab-df-convert');\n",
              "      buttonEl.style.display =\n",
              "        google.colab.kernel.accessAllowed ? 'block' : 'none';\n",
              "\n",
              "      async function convertToInteractive(key) {\n",
              "        const element = document.querySelector('#df-1cc91da9-68aa-41de-8b81-5c29d3f33c02');\n",
              "        const dataTable =\n",
              "          await google.colab.kernel.invokeFunction('convertToInteractive',\n",
              "                                                    [key], {});\n",
              "        if (!dataTable) return;\n",
              "\n",
              "        const docLinkHtml = 'Like what you see? Visit the ' +\n",
              "          '<a target=\"_blank\" href=https://colab.research.google.com/notebooks/data_table.ipynb>data table notebook</a>'\n",
              "          + ' to learn more about interactive tables.';\n",
              "        element.innerHTML = '';\n",
              "        dataTable['output_type'] = 'display_data';\n",
              "        await google.colab.output.renderOutput(dataTable, element);\n",
              "        const docLink = document.createElement('div');\n",
              "        docLink.innerHTML = docLinkHtml;\n",
              "        element.appendChild(docLink);\n",
              "      }\n",
              "    </script>\n",
              "  </div>\n",
              "\n",
              "\n",
              "<div id=\"df-31269409-255c-4027-a2cd-3dcaccdf26b1\">\n",
              "  <button class=\"colab-df-quickchart\" onclick=\"quickchart('df-31269409-255c-4027-a2cd-3dcaccdf26b1')\"\n",
              "            title=\"Suggest charts\"\n",
              "            style=\"display:none;\">\n",
              "\n",
              "<svg xmlns=\"http://www.w3.org/2000/svg\" height=\"24px\"viewBox=\"0 0 24 24\"\n",
              "     width=\"24px\">\n",
              "    <g>\n",
              "        <path d=\"M19 3H5c-1.1 0-2 .9-2 2v14c0 1.1.9 2 2 2h14c1.1 0 2-.9 2-2V5c0-1.1-.9-2-2-2zM9 17H7v-7h2v7zm4 0h-2V7h2v10zm4 0h-2v-4h2v4z\"/>\n",
              "    </g>\n",
              "</svg>\n",
              "  </button>\n",
              "\n",
              "<style>\n",
              "  .colab-df-quickchart {\n",
              "      --bg-color: #E8F0FE;\n",
              "      --fill-color: #1967D2;\n",
              "      --hover-bg-color: #E2EBFA;\n",
              "      --hover-fill-color: #174EA6;\n",
              "      --disabled-fill-color: #AAA;\n",
              "      --disabled-bg-color: #DDD;\n",
              "  }\n",
              "\n",
              "  [theme=dark] .colab-df-quickchart {\n",
              "      --bg-color: #3B4455;\n",
              "      --fill-color: #D2E3FC;\n",
              "      --hover-bg-color: #434B5C;\n",
              "      --hover-fill-color: #FFFFFF;\n",
              "      --disabled-bg-color: #3B4455;\n",
              "      --disabled-fill-color: #666;\n",
              "  }\n",
              "\n",
              "  .colab-df-quickchart {\n",
              "    background-color: var(--bg-color);\n",
              "    border: none;\n",
              "    border-radius: 50%;\n",
              "    cursor: pointer;\n",
              "    display: none;\n",
              "    fill: var(--fill-color);\n",
              "    height: 32px;\n",
              "    padding: 0;\n",
              "    width: 32px;\n",
              "  }\n",
              "\n",
              "  .colab-df-quickchart:hover {\n",
              "    background-color: var(--hover-bg-color);\n",
              "    box-shadow: 0 1px 2px rgba(60, 64, 67, 0.3), 0 1px 3px 1px rgba(60, 64, 67, 0.15);\n",
              "    fill: var(--button-hover-fill-color);\n",
              "  }\n",
              "\n",
              "  .colab-df-quickchart-complete:disabled,\n",
              "  .colab-df-quickchart-complete:disabled:hover {\n",
              "    background-color: var(--disabled-bg-color);\n",
              "    fill: var(--disabled-fill-color);\n",
              "    box-shadow: none;\n",
              "  }\n",
              "\n",
              "  .colab-df-spinner {\n",
              "    border: 2px solid var(--fill-color);\n",
              "    border-color: transparent;\n",
              "    border-bottom-color: var(--fill-color);\n",
              "    animation:\n",
              "      spin 1s steps(1) infinite;\n",
              "  }\n",
              "\n",
              "  @keyframes spin {\n",
              "    0% {\n",
              "      border-color: transparent;\n",
              "      border-bottom-color: var(--fill-color);\n",
              "      border-left-color: var(--fill-color);\n",
              "    }\n",
              "    20% {\n",
              "      border-color: transparent;\n",
              "      border-left-color: var(--fill-color);\n",
              "      border-top-color: var(--fill-color);\n",
              "    }\n",
              "    30% {\n",
              "      border-color: transparent;\n",
              "      border-left-color: var(--fill-color);\n",
              "      border-top-color: var(--fill-color);\n",
              "      border-right-color: var(--fill-color);\n",
              "    }\n",
              "    40% {\n",
              "      border-color: transparent;\n",
              "      border-right-color: var(--fill-color);\n",
              "      border-top-color: var(--fill-color);\n",
              "    }\n",
              "    60% {\n",
              "      border-color: transparent;\n",
              "      border-right-color: var(--fill-color);\n",
              "    }\n",
              "    80% {\n",
              "      border-color: transparent;\n",
              "      border-right-color: var(--fill-color);\n",
              "      border-bottom-color: var(--fill-color);\n",
              "    }\n",
              "    90% {\n",
              "      border-color: transparent;\n",
              "      border-bottom-color: var(--fill-color);\n",
              "    }\n",
              "  }\n",
              "</style>\n",
              "\n",
              "  <script>\n",
              "    async function quickchart(key) {\n",
              "      const quickchartButtonEl =\n",
              "        document.querySelector('#' + key + ' button');\n",
              "      quickchartButtonEl.disabled = true;  // To prevent multiple clicks.\n",
              "      quickchartButtonEl.classList.add('colab-df-spinner');\n",
              "      try {\n",
              "        const charts = await google.colab.kernel.invokeFunction(\n",
              "            'suggestCharts', [key], {});\n",
              "      } catch (error) {\n",
              "        console.error('Error during call to suggestCharts:', error);\n",
              "      }\n",
              "      quickchartButtonEl.classList.remove('colab-df-spinner');\n",
              "      quickchartButtonEl.classList.add('colab-df-quickchart-complete');\n",
              "    }\n",
              "    (() => {\n",
              "      let quickchartButtonEl =\n",
              "        document.querySelector('#df-31269409-255c-4027-a2cd-3dcaccdf26b1 button');\n",
              "      quickchartButtonEl.style.display =\n",
              "        google.colab.kernel.accessAllowed ? 'block' : 'none';\n",
              "    })();\n",
              "  </script>\n",
              "</div>\n",
              "    </div>\n",
              "  </div>\n"
            ],
            "application/vnd.google.colaboratory.intrinsic+json": {
              "type": "dataframe",
              "summary": "{\n  \"name\": \"enc_train_data\",\n  \"rows\": 3,\n  \"fields\": [\n    {\n      \"column\": \"paragraph\",\n      \"properties\": {\n        \"dtype\": \"string\",\n        \"num_unique_values\": 3,\n        \"samples\": [\n          \"In 1788, the Lodge of Antiquity thought they were buying a portrait of Wren which now dominates Lodge Room 10, in the same building as the Museum; but it is now identified with William Talman, not Wren. Nevertheless, this recorded event and many old records attest to the fact that Antiquity thought that Wren had been its Master, at a time when it still held its minute books for the relevant years .\",\n          \"In Physics, using the hylomorphic theory, , Aristotle rejects Plato's assumption that the universe was created by an intelligent designer. For Aristotle, natural ends are produced by \\\"natures\\\" , and natures, Aristotle argued, do not deliberate:\",\n          \"Interrogator: In the first line of your sonnet which reads, \\\"Shall I compare thee to a summer's day,\\\" would not \\\"a spring day\\\" do as well or better?Witness: It wouldn't scan.Interrogator: How about \\\"a winter's day.\\\" That would scan all right.Witness: Yes, but nobody wants to be compared to a winter's day.Turing thus once again demonstrates his interest in empathy and aesthetic sensitivity as components of an artificial intelligence; and in light of an increasing awareness of the threat from an AI run amok, it has been suggested that this focus perhaps represents a critical intuition on Turing's part, i.e., that emotional and aesthetic intelligence will play a key role in the creation of a \\\"friendly AI\\\". It is further noted, however, that whatever inspiration Turing might be able to lend in this direction depends upon the preservation of his original vision, which is to say, further, that the promulgation of a \\\"standard interpretation\\\" of the Turing test\\u2014i.e., one which focuses on a discursive intelligence only\\u2014must be regarded with some caution.\"\n        ],\n        \"semantic_type\": \"\",\n        \"description\": \"\"\n      }\n    },\n    {\n      \"column\": \"has_entity\",\n      \"properties\": {\n        \"dtype\": \"number\",\n        \"std\": 0,\n        \"min\": 4,\n        \"max\": 5,\n        \"num_unique_values\": 2,\n        \"samples\": [\n          4,\n          5\n        ],\n        \"semantic_type\": \"\",\n        \"description\": \"\"\n      }\n    },\n    {\n      \"column\": \"clean_text\",\n      \"properties\": {\n        \"dtype\": \"string\",\n        \"num_unique_values\": 3,\n        \"samples\": [\n          \"in 1788, the lodge of antiquity thought they were buying a portrait of wren which now dominates lodge room 10, in the same building as the museum; but it is now identified with william talman, not wren. nevertheless, this recorded event and many old records attest to the fact that antiquity thought that wren had been its master, at a time when it still held its minute books for the relevant years .\",\n          \"in physics, using the hylomorphic theory, , aristotle rejects plato's assumption that the universe was created by an intelligent designer. for aristotle, natural ends are produced by \\\"natures\\\" , and natures, aristotle argued, do not deliberate:\"\n        ],\n        \"semantic_type\": \"\",\n        \"description\": \"\"\n      }\n    },\n    {\n      \"column\": \"tokenized_text\",\n      \"properties\": {\n        \"dtype\": \"object\",\n        \"semantic_type\": \"\",\n        \"description\": \"\"\n      }\n    },\n    {\n      \"column\": \"text_length\",\n      \"properties\": {\n        \"dtype\": \"number\",\n        \"std\": 28,\n        \"min\": 20,\n        \"max\": 74,\n        \"num_unique_values\": 3,\n        \"samples\": [\n          31,\n          20\n        ],\n        \"semantic_type\": \"\",\n        \"description\": \"\"\n      }\n    }\n  ]\n}"
            }
          },
          "metadata": {},
          "execution_count": 579
        }
      ]
    },
    {
      "cell_type": "code",
      "source": [
        "# get the length of the list of tokens\n",
        "enc_test_data['text_length'] = enc_test_data['tokenized_text'].apply(len)"
      ],
      "metadata": {
        "id": "njJdA3VrYUi_"
      },
      "execution_count": 580,
      "outputs": []
    },
    {
      "cell_type": "code",
      "source": [
        "# plot it as a histogram for all documents\n",
        "plt.figure()\n",
        "enc_train_data['text_length'].plot(kind='hist')\n",
        "\n",
        "plt.figure()\n",
        "# plot as a histogram by class\n",
        "for entity in enc_train_data['has_entity'].unique():\n",
        "  enc_train_data[enc_train_data[\"has_entity\"]==entity]['text_length'].plot(kind=\"hist\",\n",
        "                                                               density=True, # normalize by the size of each class (kind of)\n",
        "                                                               alpha= 0.5, #let's give colors some transparency\n",
        "                                                               title=f\"Text length distribution for category {entity}\",\n",
        "                                                               label=entity)\n",
        "plt.legend()\n"
      ],
      "metadata": {
        "colab": {
          "base_uri": "https://localhost:8080/",
          "height": 882
        },
        "id": "CYMfo58_Spwh",
        "outputId": "b0f4c3dd-eb4b-476d-e778-a94e592545e3"
      },
      "execution_count": 581,
      "outputs": [
        {
          "output_type": "execute_result",
          "data": {
            "text/plain": [
              "<matplotlib.legend.Legend at 0x7eac1bcd46a0>"
            ]
          },
          "metadata": {},
          "execution_count": 581
        },
        {
          "output_type": "display_data",
          "data": {
            "text/plain": [
              "<Figure size 640x480 with 1 Axes>"
            ],
            "image/png": "[encoded data removed]"
          },
          "metadata": {}
        },
        {
          "output_type": "display_data",
          "data": {
            "text/plain": [
              "<Figure size 640x480 with 1 Axes>"
            ],
            "image/png": "[encoded data removed]"
          },
          "metadata": {}
        }
      ]
    },
    {
      "cell_type": "markdown",
      "source": [],
      "metadata": {
        "id": "C0k9tUFaZJ5t"
      }
    },
    {
      "cell_type": "markdown",
      "source": [],
      "metadata": {
        "id": "DsbHkoEMZKiN"
      }
    },
    {
      "cell_type": "code",
      "source": [
        "# Preparation\n",
        "import warnings\n",
        "warnings.simplefilter(\"ignore\") # for GridSearchCV: some of its combination throws warning which is fine (they are not appropriate combination)\n",
        "\n",
        "# extract the target\n",
        "# NOTE: remember that we can skip label encoding here, because in this case the category labels have *already* been encoded.\n",
        "y_train = enc_train_data['has_entity']\n",
        "y_test = enc_test_data['has_entity']\n"
      ],
      "metadata": {
        "id": "LeeoTuW_ZLA8"
      },
      "execution_count": 582,
      "outputs": []
    },
    {
      "cell_type": "code",
      "source": [
        "# create custom class to add to the pipeline\n",
        "from sklearn.base import TransformerMixin\n",
        "class DenseTransformer(TransformerMixin):\n",
        "    ''' Pipeline step to transform a sparse matrix into a dense one '''\n",
        "    def fit(self, X, y=None, **fit_params):\n",
        "        return self\n",
        "\n",
        "    def transform(self, X, y=None, **fit_params):\n",
        "        return X.toarray()"
      ],
      "metadata": {
        "id": "hXb4SSBZZiUg"
      },
      "execution_count": 583,
      "outputs": []
    },
    {
      "cell_type": "code",
      "source": [
        "from sklearn.linear_model import SGDClassifier\n",
        "from sklearn.preprocessing import StandardScaler\n",
        "from sklearn.pipeline import Pipeline\n",
        "from sklearn.metrics import classification_report\n",
        "from sklearn.metrics import ConfusionMatrixDisplay\n",
        "from sklearn.metrics import accuracy_score, accuracy_score\n",
        "from sklearn.model_selection import GridSearchCV, RandomizedSearchCV\n",
        "from sklearn.svm import LinearSVC\n",
        "from sklearn.neighbors import NearestNeighbors\n",
        "from sklearn.naive_bayes import MultinomialNB\n",
        "from scipy import stats\n",
        "from sklearn.metrics import balanced_accuracy_score\n",
        "from sklearn.feature_extraction.text import CountVectorizer, TfidfVectorizer\n",
        "np.random.seed(0)"
      ],
      "metadata": {
        "id": "RDjVFdRnaOhg"
      },
      "execution_count": 584,
      "outputs": []
    },
    {
      "cell_type": "code",
      "source": [
        "from sklearn.pipeline import Pipeline\n",
        "# Create the pipeline\n",
        "clf_ = Pipeline(\n",
        "        steps =[('vectorizer', TfidfVectorizer(lowercase=False,\n",
        "                                          tokenizer=lambda x: x)),\n",
        "                ('to_dense', DenseTransformer()), #If you want, you can see the error message you can get if you remove this step - you'll also have to use a different classifier, like RandomForestClassifier\n",
        "              ('classifier', SGDClassifier(random_state=0)),\n",
        "      ]\n",
        "    )"
      ],
      "metadata": {
        "id": "UnR7hGYuZmXu"
      },
      "execution_count": 585,
      "outputs": []
    },
    {
      "cell_type": "code",
      "source": [
        "# let's compare how many features we get in total when using only unigrams, or also bigrams and then also trigrams\n",
        "for ngram_range in [(1,1), (1,2), (1,3)]:\n",
        "  vec= TfidfVectorizer(ngram_range=ngram_range, lowercase=False, tokenizer=lambda x: x).fit(enc_train_data['tokenized_text'])\n",
        "  print(f'With ngram range {ngram_range} we get a vocabulary of size: {len(vec.vocabulary_)}')"
      ],
      "metadata": {
        "colab": {
          "base_uri": "https://localhost:8080/"
        },
        "id": "pWt1eUCEaGFn",
        "outputId": "f75d6135-3223-45f2-d81f-c66ed8b34247"
      },
      "execution_count": 586,
      "outputs": [
        {
          "output_type": "stream",
          "name": "stdout",
          "text": [
            "With ngram range (1, 1) we get a vocabulary of size: 27960\n",
            "With ngram range (1, 2) we get a vocabulary of size: 271198\n",
            "With ngram range (1, 3) we get a vocabulary of size: 556717\n"
          ]
        }
      ]
    },
    {
      "cell_type": "code",
      "source": [
        "# Set up the hyper-parameters to test\n",
        "parameters = {'vectorizer__max_features': (2000,5000,24000),\n",
        "              'vectorizer__ngram_range': [(1,1), (1,2)],\n",
        "              'classifier__penalty': ['l1', 'l2'],\n",
        "             }"
      ],
      "metadata": {
        "id": "u0DaQ6SEb22D"
      },
      "execution_count": 587,
      "outputs": []
    },
    {
      "cell_type": "code",
      "source": [
        "# create the GridSearch function\n",
        "# original data\n",
        "clf_search = GridSearchCV(clf_, parameters, scoring= \"accuracy\", cv= 5) #we can use accuracy here since the dataset is balanced\n",
        "\n",
        "# Fit all the possible hyper-parameters combinations using cross-validation.\n",
        "# It may take some time: be patient\n",
        "# original data\n",
        "# let's also time it (it's goint to take time, nothing's wrong!)\n",
        "t0 = tt()\n",
        "_ =clf_search.fit(enc_train_data['tokenized_text'], y_train)\n",
        "print(f'Time taken to train gridsearch: {tt()-t0:.2f} seconds.')\n",
        "\n"
      ],
      "metadata": {
        "colab": {
          "base_uri": "https://localhost:8080/"
        },
        "id": "WoFOQWT5cC2b",
        "outputId": "b090604b-f37f-4e3f-e300-da61b7ce92bd"
      },
      "execution_count": 588,
      "outputs": [
        {
          "output_type": "stream",
          "name": "stdout",
          "text": [
            "Time taken to train gridsearch: 2513.98 seconds.\n"
          ]
        }
      ]
    },
    {
      "cell_type": "code",
      "source": [
        "#original data\n",
        "print(clf_search.best_score_, clf_search.best_params_)\n",
        "\n",
        "print()\n",
        "# original data\n",
        "clf_cv_results = pd.DataFrame(clf_search.cv_results_)\n",
        "# let's show the dataframe\n",
        "print(clf_cv_results[['mean_test_score'] + [t for t in clf_cv_results.columns if 'param' in t]])"
      ],
      "metadata": {
        "colab": {
          "base_uri": "https://localhost:8080/"
        },
        "id": "5KefZgM7ynjn",
        "outputId": "46eb98e7-dcec-4c49-bb5c-128e21b97b62"
      },
      "execution_count": 589,
      "outputs": [
        {
          "output_type": "stream",
          "name": "stdout",
          "text": [
            "0.5811972701741606 {'classifier__penalty': 'l1', 'vectorizer__max_features': 5000, 'vectorizer__ngram_range': (1, 1)}\n",
            "\n",
            "    mean_test_score param_classifier__penalty param_vectorizer__max_features  \\\n",
            "0          0.564861                        l1                           2000   \n",
            "1          0.567353                        l1                           2000   \n",
            "2          0.581197                        l1                           5000   \n",
            "3          0.578428                        l1                           5000   \n",
            "4          0.576627                        l1                          24000   \n",
            "5          0.579120                        l1                          24000   \n",
            "6          0.558218                        l2                           2000   \n",
            "7          0.560018                        l2                           2000   \n",
            "8          0.566107                        l2                           5000   \n",
            "9          0.567215                        l2                           5000   \n",
            "10         0.566386                        l2                          24000   \n",
            "11         0.573030                        l2                          24000   \n",
            "\n",
            "   param_vectorizer__ngram_range  \\\n",
            "0                         (1, 1)   \n",
            "1                         (1, 2)   \n",
            "2                         (1, 1)   \n",
            "3                         (1, 2)   \n",
            "4                         (1, 1)   \n",
            "5                         (1, 2)   \n",
            "6                         (1, 1)   \n",
            "7                         (1, 2)   \n",
            "8                         (1, 1)   \n",
            "9                         (1, 2)   \n",
            "10                        (1, 1)   \n",
            "11                        (1, 2)   \n",
            "\n",
            "                                               params  \n",
            "0   {'classifier__penalty': 'l1', 'vectorizer__max...  \n",
            "1   {'classifier__penalty': 'l1', 'vectorizer__max...  \n",
            "2   {'classifier__penalty': 'l1', 'vectorizer__max...  \n",
            "3   {'classifier__penalty': 'l1', 'vectorizer__max...  \n",
            "4   {'classifier__penalty': 'l1', 'vectorizer__max...  \n",
            "5   {'classifier__penalty': 'l1', 'vectorizer__max...  \n",
            "6   {'classifier__penalty': 'l2', 'vectorizer__max...  \n",
            "7   {'classifier__penalty': 'l2', 'vectorizer__max...  \n",
            "8   {'classifier__penalty': 'l2', 'vectorizer__max...  \n",
            "9   {'classifier__penalty': 'l2', 'vectorizer__max...  \n",
            "10  {'classifier__penalty': 'l2', 'vectorizer__max...  \n",
            "11  {'classifier__penalty': 'l2', 'vectorizer__max...  \n"
          ]
        }
      ]
    },
    {
      "cell_type": "code",
      "source": [
        "# we can plot the average crossed validated score for one individual hyper-parameter\n",
        "# groupby groups together all the rows with the same value of the hyper-parameter of interest\n",
        "df_group= clf_cv_results.groupby('param_vectorizer__max_features')\n",
        "# we average the cross validated score for each different value of the hyper-parameter\n",
        "avg_score = df_group.mean_test_score.agg('mean')\n",
        "# we plot the results\n",
        "ax =avg_score.plot(kind='bar')\n",
        "_ =plt.ylabel('Balanced accuracy')\n"
      ],
      "metadata": {
        "colab": {
          "base_uri": "https://localhost:8080/",
          "height": 483
        },
        "id": "cbP-QJzSy_Bn",
        "outputId": "27ebabf0-096e-4335-b050-a9be2081efcb"
      },
      "execution_count": 590,
      "outputs": [
        {
          "output_type": "display_data",
          "data": {
            "text/plain": [
              "<Figure size 640x480 with 1 Axes>"
            ],
            "image/png": "[encoded data removed]"
          },
          "metadata": {}
        }
      ]
    },
    {
      "cell_type": "code",
      "source": [
        "# best estimator to proceed analysis of the results using the test set\n",
        "best_clf = clf_search.best_estimator_\n",
        "best_clf"
      ],
      "metadata": {
        "colab": {
          "base_uri": "https://localhost:8080/",
          "height": 161
        },
        "id": "TkiRjSntzOGk",
        "outputId": "40357bff-5920-410a-c6f1-7bf1cc7b3fe3"
      },
      "execution_count": 591,
      "outputs": [
        {
          "output_type": "execute_result",
          "data": {
            "text/plain": [
              "Pipeline(steps=[('vectorizer',\n",
              "                 TfidfVectorizer(lowercase=False, max_features=5000,\n",
              "                                 tokenizer=<function <lambda> at 0x7eac0dbc49d0>)),\n",
              "                ('to_dense',\n",
              "                 <__main__.DenseTransformer object at 0x7eac1bd0db70>),\n",
              "                ('classifier', SGDClassifier(penalty='l1', random_state=0))])"
            ],
            "text/html": [
              "<style>#sk-container-id-2 {color: black;background-color: white;}#sk-container-id-2 pre{padding: 0;}#sk-container-id-2 div.sk-toggleable {background-color: white;}#sk-container-id-2 label.sk-toggleable__label {cursor: pointer;display: block;width: 100%;margin-bottom: 0;padding: 0.3em;box-sizing: border-box;text-align: center;}#sk-container-id-2 label.sk-toggleable__label-arrow:before {content: \"▸\";float: left;margin-right: 0.25em;color: #696969;}#sk-container-id-2 label.sk-toggleable__label-arrow:hover:before {color: black;}#sk-container-id-2 div.sk-estimator:hover label.sk-toggleable__label-arrow:before {color: black;}#sk-container-id-2 div.sk-toggleable__content {max-height: 0;max-width: 0;overflow: hidden;text-align: left;background-color: #f0f8ff;}#sk-container-id-2 div.sk-toggleable__content pre {margin: 0.2em;color: black;border-radius: 0.25em;background-color: #f0f8ff;}#sk-container-id-2 input.sk-toggleable__control:checked~div.sk-toggleable__content {max-height: 200px;max-width: 100%;overflow: auto;}#sk-container-id-2 input.sk-toggleable__control:checked~label.sk-toggleable__label-arrow:before {content: \"▾\";}#sk-container-id-2 div.sk-estimator input.sk-toggleable__control:checked~label.sk-toggleable__label {background-color: #d4ebff;}#sk-container-id-2 div.sk-label input.sk-toggleable__control:checked~label.sk-toggleable__label {background-color: #d4ebff;}#sk-container-id-2 input.sk-hidden--visually {border: 0;clip: rect(1px 1px 1px 1px);clip: rect(1px, 1px, 1px, 1px);height: 1px;margin: -1px;overflow: hidden;padding: 0;position: absolute;width: 1px;}#sk-container-id-2 div.sk-estimator {font-family: monospace;background-color: #f0f8ff;border: 1px dotted black;border-radius: 0.25em;box-sizing: border-box;margin-bottom: 0.5em;}#sk-container-id-2 div.sk-estimator:hover {background-color: #d4ebff;}#sk-container-id-2 div.sk-parallel-item::after {content: \"\";width: 100%;border-bottom: 1px solid gray;flex-grow: 1;}#sk-container-id-2 div.sk-label:hover label.sk-toggleable__label {background-color: #d4ebff;}#sk-container-id-2 div.sk-serial::before {content: \"\";position: absolute;border-left: 1px solid gray;box-sizing: border-box;top: 0;bottom: 0;left: 50%;z-index: 0;}#sk-container-id-2 div.sk-serial {display: flex;flex-direction: column;align-items: center;background-color: white;padding-right: 0.2em;padding-left: 0.2em;position: relative;}#sk-container-id-2 div.sk-item {position: relative;z-index: 1;}#sk-container-id-2 div.sk-parallel {display: flex;align-items: stretch;justify-content: center;background-color: white;position: relative;}#sk-container-id-2 div.sk-item::before, #sk-container-id-2 div.sk-parallel-item::before {content: \"\";position: absolute;border-left: 1px solid gray;box-sizing: border-box;top: 0;bottom: 0;left: 50%;z-index: -1;}#sk-container-id-2 div.sk-parallel-item {display: flex;flex-direction: column;z-index: 1;position: relative;background-color: white;}#sk-container-id-2 div.sk-parallel-item:first-child::after {align-self: flex-end;width: 50%;}#sk-container-id-2 div.sk-parallel-item:last-child::after {align-self: flex-start;width: 50%;}#sk-container-id-2 div.sk-parallel-item:only-child::after {width: 0;}#sk-container-id-2 div.sk-dashed-wrapped {border: 1px dashed gray;margin: 0 0.4em 0.5em 0.4em;box-sizing: border-box;padding-bottom: 0.4em;background-color: white;}#sk-container-id-2 div.sk-label label {font-family: monospace;font-weight: bold;display: inline-block;line-height: 1.2em;}#sk-container-id-2 div.sk-label-container {text-align: center;}#sk-container-id-2 div.sk-container {/* jupyter's `normalize.less` sets `[hidden] { display: none; }` but bootstrap.min.css set `[hidden] { display: none !important; }` so we also need the `!important` here to be able to override the default hidden behavior on the sphinx rendered scikit-learn.org. See: https://github.com/scikit-learn/scikit-learn/issues/21755 */display: inline-block !important;position: relative;}#sk-container-id-2 div.sk-text-repr-fallback {display: none;}</style><div id=\"sk-container-id-2\" class=\"sk-top-container\"><div class=\"sk-text-repr-fallback\"><pre>Pipeline(steps=[(&#x27;vectorizer&#x27;,\n",
              "                 TfidfVectorizer(lowercase=False, max_features=5000,\n",
              "                                 tokenizer=&lt;function &lt;lambda&gt; at 0x7eac0dbc49d0&gt;)),\n",
              "                (&#x27;to_dense&#x27;,\n",
              "                 &lt;__main__.DenseTransformer object at 0x7eac1bd0db70&gt;),\n",
              "                (&#x27;classifier&#x27;, SGDClassifier(penalty=&#x27;l1&#x27;, random_state=0))])</pre><b>In a Jupyter environment, please rerun this cell to show the HTML representation or trust the notebook. <br />On GitHub, the HTML representation is unable to render, please try loading this page with nbviewer.org.</b></div><div class=\"sk-container\" hidden><div class=\"sk-item sk-dashed-wrapped\"><div class=\"sk-label-container\"><div class=\"sk-label sk-toggleable\"><input class=\"sk-toggleable__control sk-hidden--visually\" id=\"sk-estimator-id-2\" type=\"checkbox\" ><label for=\"sk-estimator-id-2\" class=\"sk-toggleable__label sk-toggleable__label-arrow\">Pipeline</label><div class=\"sk-toggleable__content\"><pre>Pipeline(steps=[(&#x27;vectorizer&#x27;,\n",
              "                 TfidfVectorizer(lowercase=False, max_features=5000,\n",
              "                                 tokenizer=&lt;function &lt;lambda&gt; at 0x7eac0dbc49d0&gt;)),\n",
              "                (&#x27;to_dense&#x27;,\n",
              "                 &lt;__main__.DenseTransformer object at 0x7eac1bd0db70&gt;),\n",
              "                (&#x27;classifier&#x27;, SGDClassifier(penalty=&#x27;l1&#x27;, random_state=0))])</pre></div></div></div><div class=\"sk-serial\"><div class=\"sk-item\"><div class=\"sk-estimator sk-toggleable\"><input class=\"sk-toggleable__control sk-hidden--visually\" id=\"sk-estimator-id-3\" type=\"checkbox\" ><label for=\"sk-estimator-id-3\" class=\"sk-toggleable__label sk-toggleable__label-arrow\">TfidfVectorizer</label><div class=\"sk-toggleable__content\"><pre>TfidfVectorizer(lowercase=False, max_features=5000,\n",
              "                tokenizer=&lt;function &lt;lambda&gt; at 0x7eac0dbc49d0&gt;)</pre></div></div></div><div class=\"sk-item\"><div class=\"sk-estimator sk-toggleable\"><input class=\"sk-toggleable__control sk-hidden--visually\" id=\"sk-estimator-id-4\" type=\"checkbox\" ><label for=\"sk-estimator-id-4\" class=\"sk-toggleable__label sk-toggleable__label-arrow\">DenseTransformer</label><div class=\"sk-toggleable__content\"><pre>&lt;__main__.DenseTransformer object at 0x7eac1bd0db70&gt;</pre></div></div></div><div class=\"sk-item\"><div class=\"sk-estimator sk-toggleable\"><input class=\"sk-toggleable__control sk-hidden--visually\" id=\"sk-estimator-id-5\" type=\"checkbox\" ><label for=\"sk-estimator-id-5\" class=\"sk-toggleable__label sk-toggleable__label-arrow\">SGDClassifier</label><div class=\"sk-toggleable__content\"><pre>SGDClassifier(penalty=&#x27;l1&#x27;, random_state=0)</pre></div></div></div></div></div></div></div>"
            ]
          },
          "metadata": {},
          "execution_count": 591
        }
      ]
    },
    {
      "cell_type": "code",
      "source": [
        "enc_train_labels.category"
      ],
      "metadata": {
        "colab": {
          "base_uri": "https://localhost:8080/"
        },
        "id": "YkH7JJsS0Fe-",
        "outputId": "59ac2ad1-b219-480a-eec7-6752cb251f85"
      },
      "execution_count": 592,
      "outputs": [
        {
          "output_type": "execute_result",
          "data": {
            "text/plain": [
              "8290    4\n",
              "1435    4\n",
              "6188    1\n",
              "3300    0\n",
              "6191    4\n",
              "       ..\n",
              "168     2\n",
              "4948    4\n",
              "8083    1\n",
              "2318    3\n",
              "9104    4\n",
              "Name: category, Length: 7223, dtype: int64"
            ]
          },
          "metadata": {},
          "execution_count": 592
        }
      ]
    },
    {
      "cell_type": "code",
      "source": [
        "target_names = train_labels['category'].unique().tolist()\n",
        "target_names"
      ],
      "metadata": {
        "colab": {
          "base_uri": "https://localhost:8080/"
        },
        "id": "qQ-gImDf1WLi",
        "outputId": "6a37397e-6c8d-4ffa-ff25-e87430782e20"
      },
      "execution_count": 593,
      "outputs": [
        {
          "output_type": "execute_result",
          "data": {
            "text/plain": [
              "['programming',\n",
              " 'biographies',\n",
              " 'artificial intelligence',\n",
              " 'philosophy',\n",
              " 'movies about artificial intelligence']"
            ]
          },
          "metadata": {},
          "execution_count": 593
        }
      ]
    },
    {
      "cell_type": "code",
      "source": [
        "# Compute predictions and evaluation metrics using the best estimator\n",
        "# original data\n",
        "y_pred = best_clf.predict(enc_test_data['tokenized_text'])\n",
        "\n",
        "cm= ConfusionMatrixDisplay.from_estimator(best_clf, enc_test_data['tokenized_text'], y_test)\n",
        "\n"
      ],
      "metadata": {
        "colab": {
          "base_uri": "https://localhost:8080/",
          "height": 449
        },
        "id": "IZKMLJSVzSKq",
        "outputId": "5b2493ef-aa91-4b38-9223-61659e9eb0ce"
      },
      "execution_count": 594,
      "outputs": [
        {
          "output_type": "display_data",
          "data": {
            "text/plain": [
              "<Figure size 640x480 with 2 Axes>"
            ],
            "image/png": "[encoded data removed]"
          },
          "metadata": {}
        }
      ]
    },
    {
      "cell_type": "code",
      "source": [
        "enc_test_data"
      ],
      "metadata": {
        "colab": {
          "base_uri": "https://localhost:8080/",
          "height": 580
        },
        "id": "-hvd5MEz6-y3",
        "outputId": "ba157b82-d478-4913-d8ad-516b7391f156"
      },
      "execution_count": 595,
      "outputs": [
        {
          "output_type": "execute_result",
          "data": {
            "text/plain": [
              "                                              paragraph  has_entity  \\\n",
              "1489  There are many religious traditions, some of w...           0   \n",
              "4299  Convolutional neural networks were presented a...           4   \n",
              "4740  Safe reinforcement learning  can be defined as...           0   \n",
              "8274  In Jainism, forgiveness is one of the main vir...           5   \n",
              "3702  During their stay, they also wrote, illustrate...           1   \n",
              "...                                                 ...         ...   \n",
              "6731  These problems can be ameliorated if we assume...           0   \n",
              "1136  A game inspired by the film, called \"Computer ...           5   \n",
              "4226  The difficulty with this approach is that bind...           0   \n",
              "9141  Some statements, such as IF and READ, may them...           0   \n",
              "7104  The Python License was an open-source, GPL-com...           4   \n",
              "\n",
              "                                             clean_text  \\\n",
              "1489  there are many religious traditions, some of w...   \n",
              "4299  convolutional neural networks were presented a...   \n",
              "4740  safe reinforcement learning can be defined as ...   \n",
              "8274  in jainism, forgiveness is one of the main vir...   \n",
              "3702  during their stay, they also wrote, illustrate...   \n",
              "...                                                 ...   \n",
              "6731  these problems can be ameliorated if we assume...   \n",
              "1136  a game inspired by the film, called \"computer ...   \n",
              "4226  the difficulty with this approach is that bind...   \n",
              "9141  some statements, such as if and read, may them...   \n",
              "7104  the python license was an open-source, gpl-com...   \n",
              "\n",
              "                                         tokenized_text  text_length  \n",
              "1489  [religious, tradition, explicitly, fideist, cl...           59  \n",
              "4299  [convolutional, neural, network, present, neur...           21  \n",
              "4740  [safe, reinforcement, learning, define, proces...           24  \n",
              "8274  [jainism, forgiveness, main, virtue, need, acq...           16  \n",
              "3702  [stay, write, illustrate, print, book, aurora,...           14  \n",
              "...                                                 ...          ...  \n",
              "6731  [problem, ameliorate, assume, structure, allow...           19  \n",
              "1136  [game, inspire, film, call, computer, war, tho...           43  \n",
              "4226  [difficulty, approach, bind, expect, monadic, ...            9  \n",
              "9141  [statement, read, contain, statement, statemen...           19  \n",
              "7104  [python, license, open, source, gpl, compatibl...           13  \n",
              "\n",
              "[1806 rows x 5 columns]"
            ],
            "text/html": [
              "\n",
              "  <div id=\"df-57a09689-4a7b-4089-85e5-2448a58c411f\" class=\"colab-df-container\">\n",
              "    <div>\n",
              "<style scoped>\n",
              "    .dataframe tbody tr th:only-of-type {\n",
              "        vertical-align: middle;\n",
              "    }\n",
              "\n",
              "    .dataframe tbody tr th {\n",
              "        vertical-align: top;\n",
              "    }\n",
              "\n",
              "    .dataframe thead th {\n",
              "        text-align: right;\n",
              "    }\n",
              "</style>\n",
              "<table border=\"1\" class=\"dataframe\">\n",
              "  <thead>\n",
              "    <tr style=\"text-align: right;\">\n",
              "      <th></th>\n",
              "      <th>paragraph</th>\n",
              "      <th>has_entity</th>\n",
              "      <th>clean_text</th>\n",
              "      <th>tokenized_text</th>\n",
              "      <th>text_length</th>\n",
              "    </tr>\n",
              "  </thead>\n",
              "  <tbody>\n",
              "    <tr>\n",
              "      <th>1489</th>\n",
              "      <td>There are many religious traditions, some of w...</td>\n",
              "      <td>0</td>\n",
              "      <td>there are many religious traditions, some of w...</td>\n",
              "      <td>[religious, tradition, explicitly, fideist, cl...</td>\n",
              "      <td>59</td>\n",
              "    </tr>\n",
              "    <tr>\n",
              "      <th>4299</th>\n",
              "      <td>Convolutional neural networks were presented a...</td>\n",
              "      <td>4</td>\n",
              "      <td>convolutional neural networks were presented a...</td>\n",
              "      <td>[convolutional, neural, network, present, neur...</td>\n",
              "      <td>21</td>\n",
              "    </tr>\n",
              "    <tr>\n",
              "      <th>4740</th>\n",
              "      <td>Safe reinforcement learning  can be defined as...</td>\n",
              "      <td>0</td>\n",
              "      <td>safe reinforcement learning can be defined as ...</td>\n",
              "      <td>[safe, reinforcement, learning, define, proces...</td>\n",
              "      <td>24</td>\n",
              "    </tr>\n",
              "    <tr>\n",
              "      <th>8274</th>\n",
              "      <td>In Jainism, forgiveness is one of the main vir...</td>\n",
              "      <td>5</td>\n",
              "      <td>in jainism, forgiveness is one of the main vir...</td>\n",
              "      <td>[jainism, forgiveness, main, virtue, need, acq...</td>\n",
              "      <td>16</td>\n",
              "    </tr>\n",
              "    <tr>\n",
              "      <th>3702</th>\n",
              "      <td>During their stay, they also wrote, illustrate...</td>\n",
              "      <td>1</td>\n",
              "      <td>during their stay, they also wrote, illustrate...</td>\n",
              "      <td>[stay, write, illustrate, print, book, aurora,...</td>\n",
              "      <td>14</td>\n",
              "    </tr>\n",
              "    <tr>\n",
              "      <th>...</th>\n",
              "      <td>...</td>\n",
              "      <td>...</td>\n",
              "      <td>...</td>\n",
              "      <td>...</td>\n",
              "      <td>...</td>\n",
              "    </tr>\n",
              "    <tr>\n",
              "      <th>6731</th>\n",
              "      <td>These problems can be ameliorated if we assume...</td>\n",
              "      <td>0</td>\n",
              "      <td>these problems can be ameliorated if we assume...</td>\n",
              "      <td>[problem, ameliorate, assume, structure, allow...</td>\n",
              "      <td>19</td>\n",
              "    </tr>\n",
              "    <tr>\n",
              "      <th>1136</th>\n",
              "      <td>A game inspired by the film, called \"Computer ...</td>\n",
              "      <td>5</td>\n",
              "      <td>a game inspired by the film, called \"computer ...</td>\n",
              "      <td>[game, inspire, film, call, computer, war, tho...</td>\n",
              "      <td>43</td>\n",
              "    </tr>\n",
              "    <tr>\n",
              "      <th>4226</th>\n",
              "      <td>The difficulty with this approach is that bind...</td>\n",
              "      <td>0</td>\n",
              "      <td>the difficulty with this approach is that bind...</td>\n",
              "      <td>[difficulty, approach, bind, expect, monadic, ...</td>\n",
              "      <td>9</td>\n",
              "    </tr>\n",
              "    <tr>\n",
              "      <th>9141</th>\n",
              "      <td>Some statements, such as IF and READ, may them...</td>\n",
              "      <td>0</td>\n",
              "      <td>some statements, such as if and read, may them...</td>\n",
              "      <td>[statement, read, contain, statement, statemen...</td>\n",
              "      <td>19</td>\n",
              "    </tr>\n",
              "    <tr>\n",
              "      <th>7104</th>\n",
              "      <td>The Python License was an open-source, GPL-com...</td>\n",
              "      <td>4</td>\n",
              "      <td>the python license was an open-source, gpl-com...</td>\n",
              "      <td>[python, license, open, source, gpl, compatibl...</td>\n",
              "      <td>13</td>\n",
              "    </tr>\n",
              "  </tbody>\n",
              "</table>\n",
              "<p>1806 rows × 5 columns</p>\n",
              "</div>\n",
              "    <div class=\"colab-df-buttons\">\n",
              "\n",
              "  <div class=\"colab-df-container\">\n",
              "    <button class=\"colab-df-convert\" onclick=\"convertToInteractive('df-57a09689-4a7b-4089-85e5-2448a58c411f')\"\n",
              "            title=\"Convert this dataframe to an interactive table.\"\n",
              "            style=\"display:none;\">\n",
              "\n",
              "  <svg xmlns=\"http://www.w3.org/2000/svg\" height=\"24px\" viewBox=\"0 -960 960 960\">\n",
              "    <path d=\"M120-120v-720h720v720H120Zm60-500h600v-160H180v160Zm220 220h160v-160H400v160Zm0 220h160v-160H400v160ZM180-400h160v-160H180v160Zm440 0h160v-160H620v160ZM180-180h160v-160H180v160Zm440 0h160v-160H620v160Z\"/>\n",
              "  </svg>\n",
              "    </button>\n",
              "\n",
              "  <style>\n",
              "    .colab-df-container {\n",
              "      display:flex;\n",
              "      gap: 12px;\n",
              "    }\n",
              "\n",
              "    .colab-df-convert {\n",
              "      background-color: #E8F0FE;\n",
              "      border: none;\n",
              "      border-radius: 50%;\n",
              "      cursor: pointer;\n",
              "      display: none;\n",
              "      fill: #1967D2;\n",
              "      height: 32px;\n",
              "      padding: 0 0 0 0;\n",
              "      width: 32px;\n",
              "    }\n",
              "\n",
              "    .colab-df-convert:hover {\n",
              "      background-color: #E2EBFA;\n",
              "      box-shadow: 0px 1px 2px rgba(60, 64, 67, 0.3), 0px 1px 3px 1px rgba(60, 64, 67, 0.15);\n",
              "      fill: #174EA6;\n",
              "    }\n",
              "\n",
              "    .colab-df-buttons div {\n",
              "      margin-bottom: 4px;\n",
              "    }\n",
              "\n",
              "    [theme=dark] .colab-df-convert {\n",
              "      background-color: #3B4455;\n",
              "      fill: #D2E3FC;\n",
              "    }\n",
              "\n",
              "    [theme=dark] .colab-df-convert:hover {\n",
              "      background-color: #434B5C;\n",
              "      box-shadow: 0px 1px 3px 1px rgba(0, 0, 0, 0.15);\n",
              "      filter: drop-shadow(0px 1px 2px rgba(0, 0, 0, 0.3));\n",
              "      fill: #FFFFFF;\n",
              "    }\n",
              "  </style>\n",
              "\n",
              "    <script>\n",
              "      const buttonEl =\n",
              "        document.querySelector('#df-57a09689-4a7b-4089-85e5-2448a58c411f button.colab-df-convert');\n",
              "      buttonEl.style.display =\n",
              "        google.colab.kernel.accessAllowed ? 'block' : 'none';\n",
              "\n",
              "      async function convertToInteractive(key) {\n",
              "        const element = document.querySelector('#df-57a09689-4a7b-4089-85e5-2448a58c411f');\n",
              "        const dataTable =\n",
              "          await google.colab.kernel.invokeFunction('convertToInteractive',\n",
              "                                                    [key], {});\n",
              "        if (!dataTable) return;\n",
              "\n",
              "        const docLinkHtml = 'Like what you see? Visit the ' +\n",
              "          '<a target=\"_blank\" href=https://colab.research.google.com/notebooks/data_table.ipynb>data table notebook</a>'\n",
              "          + ' to learn more about interactive tables.';\n",
              "        element.innerHTML = '';\n",
              "        dataTable['output_type'] = 'display_data';\n",
              "        await google.colab.output.renderOutput(dataTable, element);\n",
              "        const docLink = document.createElement('div');\n",
              "        docLink.innerHTML = docLinkHtml;\n",
              "        element.appendChild(docLink);\n",
              "      }\n",
              "    </script>\n",
              "  </div>\n",
              "\n",
              "\n",
              "<div id=\"df-656a1559-d772-4474-9600-aeb0f8e41d0d\">\n",
              "  <button class=\"colab-df-quickchart\" onclick=\"quickchart('df-656a1559-d772-4474-9600-aeb0f8e41d0d')\"\n",
              "            title=\"Suggest charts\"\n",
              "            style=\"display:none;\">\n",
              "\n",
              "<svg xmlns=\"http://www.w3.org/2000/svg\" height=\"24px\"viewBox=\"0 0 24 24\"\n",
              "     width=\"24px\">\n",
              "    <g>\n",
              "        <path d=\"M19 3H5c-1.1 0-2 .9-2 2v14c0 1.1.9 2 2 2h14c1.1 0 2-.9 2-2V5c0-1.1-.9-2-2-2zM9 17H7v-7h2v7zm4 0h-2V7h2v10zm4 0h-2v-4h2v4z\"/>\n",
              "    </g>\n",
              "</svg>\n",
              "  </button>\n",
              "\n",
              "<style>\n",
              "  .colab-df-quickchart {\n",
              "      --bg-color: #E8F0FE;\n",
              "      --fill-color: #1967D2;\n",
              "      --hover-bg-color: #E2EBFA;\n",
              "      --hover-fill-color: #174EA6;\n",
              "      --disabled-fill-color: #AAA;\n",
              "      --disabled-bg-color: #DDD;\n",
              "  }\n",
              "\n",
              "  [theme=dark] .colab-df-quickchart {\n",
              "      --bg-color: #3B4455;\n",
              "      --fill-color: #D2E3FC;\n",
              "      --hover-bg-color: #434B5C;\n",
              "      --hover-fill-color: #FFFFFF;\n",
              "      --disabled-bg-color: #3B4455;\n",
              "      --disabled-fill-color: #666;\n",
              "  }\n",
              "\n",
              "  .colab-df-quickchart {\n",
              "    background-color: var(--bg-color);\n",
              "    border: none;\n",
              "    border-radius: 50%;\n",
              "    cursor: pointer;\n",
              "    display: none;\n",
              "    fill: var(--fill-color);\n",
              "    height: 32px;\n",
              "    padding: 0;\n",
              "    width: 32px;\n",
              "  }\n",
              "\n",
              "  .colab-df-quickchart:hover {\n",
              "    background-color: var(--hover-bg-color);\n",
              "    box-shadow: 0 1px 2px rgba(60, 64, 67, 0.3), 0 1px 3px 1px rgba(60, 64, 67, 0.15);\n",
              "    fill: var(--button-hover-fill-color);\n",
              "  }\n",
              "\n",
              "  .colab-df-quickchart-complete:disabled,\n",
              "  .colab-df-quickchart-complete:disabled:hover {\n",
              "    background-color: var(--disabled-bg-color);\n",
              "    fill: var(--disabled-fill-color);\n",
              "    box-shadow: none;\n",
              "  }\n",
              "\n",
              "  .colab-df-spinner {\n",
              "    border: 2px solid var(--fill-color);\n",
              "    border-color: transparent;\n",
              "    border-bottom-color: var(--fill-color);\n",
              "    animation:\n",
              "      spin 1s steps(1) infinite;\n",
              "  }\n",
              "\n",
              "  @keyframes spin {\n",
              "    0% {\n",
              "      border-color: transparent;\n",
              "      border-bottom-color: var(--fill-color);\n",
              "      border-left-color: var(--fill-color);\n",
              "    }\n",
              "    20% {\n",
              "      border-color: transparent;\n",
              "      border-left-color: var(--fill-color);\n",
              "      border-top-color: var(--fill-color);\n",
              "    }\n",
              "    30% {\n",
              "      border-color: transparent;\n",
              "      border-left-color: var(--fill-color);\n",
              "      border-top-color: var(--fill-color);\n",
              "      border-right-color: var(--fill-color);\n",
              "    }\n",
              "    40% {\n",
              "      border-color: transparent;\n",
              "      border-right-color: var(--fill-color);\n",
              "      border-top-color: var(--fill-color);\n",
              "    }\n",
              "    60% {\n",
              "      border-color: transparent;\n",
              "      border-right-color: var(--fill-color);\n",
              "    }\n",
              "    80% {\n",
              "      border-color: transparent;\n",
              "      border-right-color: var(--fill-color);\n",
              "      border-bottom-color: var(--fill-color);\n",
              "    }\n",
              "    90% {\n",
              "      border-color: transparent;\n",
              "      border-bottom-color: var(--fill-color);\n",
              "    }\n",
              "  }\n",
              "</style>\n",
              "\n",
              "  <script>\n",
              "    async function quickchart(key) {\n",
              "      const quickchartButtonEl =\n",
              "        document.querySelector('#' + key + ' button');\n",
              "      quickchartButtonEl.disabled = true;  // To prevent multiple clicks.\n",
              "      quickchartButtonEl.classList.add('colab-df-spinner');\n",
              "      try {\n",
              "        const charts = await google.colab.kernel.invokeFunction(\n",
              "            'suggestCharts', [key], {});\n",
              "      } catch (error) {\n",
              "        console.error('Error during call to suggestCharts:', error);\n",
              "      }\n",
              "      quickchartButtonEl.classList.remove('colab-df-spinner');\n",
              "      quickchartButtonEl.classList.add('colab-df-quickchart-complete');\n",
              "    }\n",
              "    (() => {\n",
              "      let quickchartButtonEl =\n",
              "        document.querySelector('#df-656a1559-d772-4474-9600-aeb0f8e41d0d button');\n",
              "      quickchartButtonEl.style.display =\n",
              "        google.colab.kernel.accessAllowed ? 'block' : 'none';\n",
              "    })();\n",
              "  </script>\n",
              "</div>\n",
              "    </div>\n",
              "  </div>\n"
            ],
            "application/vnd.google.colaboratory.intrinsic+json": {
              "type": "dataframe",
              "variable_name": "enc_test_data",
              "summary": "{\n  \"name\": \"enc_test_data\",\n  \"rows\": 1806,\n  \"fields\": [\n    {\n      \"column\": \"paragraph\",\n      \"properties\": {\n        \"dtype\": \"string\",\n        \"num_unique_values\": 1805,\n        \"samples\": [\n          \"Sepp Hochreiter's diploma thesis  was called \\\"one of the most important documents in the history of machine learning\\\" by his supervisor Juergen Schmidhuber. Hochreiter identified and analyzed the vanishing gradient problem and proposed recurrent residual connections to solve it. This led to the deep learning method called long short-term memory , published in Neural Computation . LSTM recurrent neural networks can learn \\\"very deep learning\\\" tasks with long credit assignment paths that require memories of events that happened thousands of discrete time steps before. The \\\"vanilla LSTM\\\" with forget gate was introduced in 1999 by Felix Gers, Schmidhuber and Fred Cummins. LSTM has become the most cited neural network of the 20th century.\",\n          \"If this number is not an integer, then the strides are incorrect and the neurons cannot be tiled to fit across the input volume in a symmetric way. In general, setting zero padding to be \",\n          \"The Boston News-Letter, an old newspaper published in the 1700s, printed these rules and said they were set by Captain Edward Low. The first eight of these articles are basically the same as the rules that Charles Johnson's book says Captain George Lowther used. Since Lowther and Low are known to have sailed together from about January 1, 1722 to May 28, 1722, Low and Lowther probably did use the same articles. Low's two extra articles were probably ordinance, or amendment, adopted after the two crews separated.\"\n        ],\n        \"semantic_type\": \"\",\n        \"description\": \"\"\n      }\n    },\n    {\n      \"column\": \"has_entity\",\n      \"properties\": {\n        \"dtype\": \"number\",\n        \"std\": 2,\n        \"min\": 0,\n        \"max\": 7,\n        \"num_unique_values\": 8,\n        \"samples\": [\n          4,\n          7,\n          0\n        ],\n        \"semantic_type\": \"\",\n        \"description\": \"\"\n      }\n    },\n    {\n      \"column\": \"clean_text\",\n      \"properties\": {\n        \"dtype\": \"string\",\n        \"num_unique_values\": 1805,\n        \"samples\": [\n          \"sepp hochreiter's diploma thesis was called \\\"one of the most important documents in the history of machine learning\\\" by his supervisor juergen schmidhuber. hochreiter identified and analyzed the vanishing gradient problem and proposed recurrent residual connections to solve it. this led to the deep learning method called long short-term memory , published in neural computation . lstm recurrent neural networks can learn \\\"very deep learning\\\" tasks with long credit assignment paths that require memories of events that happened thousands of discrete time steps before. the \\\"vanilla lstm\\\" with forget gate was introduced in 1999 by felix gers, schmidhuber and fred cummins. lstm has become the most cited neural network of the 20th century.\",\n          \"if this number is not an integer, then the strides are incorrect and the neurons cannot be tiled to fit across the input volume in a symmetric way. in general, setting zero padding to be\",\n          \"the boston news-letter, an old newspaper published in the 1700s, printed these rules and said they were set by captain edward low. the first eight of these articles are basically the same as the rules that charles johnson's book says captain george lowther used. since lowther and low are known to have sailed together from about january 1, 1722 to may 28, 1722, low and lowther probably did use the same articles. low's two extra articles were probably ordinance, or amendment, adopted after the two crews separated.\"\n        ],\n        \"semantic_type\": \"\",\n        \"description\": \"\"\n      }\n    },\n    {\n      \"column\": \"tokenized_text\",\n      \"properties\": {\n        \"dtype\": \"object\",\n        \"semantic_type\": \"\",\n        \"description\": \"\"\n      }\n    },\n    {\n      \"column\": \"text_length\",\n      \"properties\": {\n        \"dtype\": \"number\",\n        \"std\": 30,\n        \"min\": 2,\n        \"max\": 247,\n        \"num_unique_values\": 145,\n        \"samples\": [\n          34,\n          137,\n          17\n        ],\n        \"semantic_type\": \"\",\n        \"description\": \"\"\n      }\n    }\n  ]\n}"
            }
          },
          "metadata": {},
          "execution_count": 595
        }
      ]
    },
    {
      "cell_type": "code",
      "source": [
        "enc_train_data"
      ],
      "metadata": {
        "id": "JFQNFhuA7D4l"
      },
      "execution_count": null,
      "outputs": []
    },
    {
      "cell_type": "code",
      "source": [
        "enc_test_labels"
      ],
      "metadata": {
        "id": "c0AcU3oF7GED"
      },
      "execution_count": null,
      "outputs": []
    },
    {
      "cell_type": "code",
      "source": [
        "enc_train_labels"
      ],
      "metadata": {
        "id": "NGvj4Dj47JSx"
      },
      "execution_count": null,
      "outputs": []
    },
    {
      "cell_type": "code",
      "source": [
        "from sklearn.feature_extraction.text import TfidfVectorizer\n",
        "from sklearn.pipeline import Pipeline\n",
        "from sklearn.base import TransformerMixin\n",
        "\n",
        "# Define a custom transformer to convert sparse matrix to dense matrix\n",
        "class DenseTransformer(TransformerMixin):\n",
        "    ''' Pipeline step to transform a sparse matrix into a dense one '''\n",
        "    def fit(self, X, y=None, **fit_params):\n",
        "        return self\n",
        "\n",
        "    def transform(self, X, y=None, **fit_params):\n",
        "        return X.toarray()\n",
        "\n",
        "# Create the pipeline with TfidfVectorizer and SGDClassifier\n",
        "pipeline = Pipeline(\n",
        "    steps=[\n",
        "        ('vectorizer', TfidfVectorizer(lowercase=False, tokenizer=lambda x: x)),\n",
        "        ('to_dense', DenseTransformer()),\n",
        "        ('classifier', SGDClassifier(random_state=0)),\n",
        "    ]\n",
        ")\n",
        "\n",
        "# Fit and transform the tokenized_text column in enc_train_data\n",
        "X_train_text = enc_train_data['tokenized_text'].apply(lambda x: ' '.join(x))\n",
        "enc_train_data_encoded = pipeline['vectorizer'].fit_transform(X_train_text)\n",
        "enc_train_data_encoded = pipeline['to_dense'].transform(enc_train_data_encoded)\n",
        "\n",
        "# Fit and transform the tokenized_text column in enc_test_data\n",
        "X_test_text = enc_test_data['tokenized_text'].apply(lambda x: ' '.join(x))\n",
        "enc_test_data_encoded = pipeline['vectorizer'].transform(X_test_text)\n",
        "enc_test_data_encoded = pipeline['to_dense'].transform(enc_test_data_encoded)\n"
      ],
      "metadata": {
        "id": "IDhFvlsBKW7U"
      },
      "execution_count": 596,
      "outputs": []
    },
    {
      "cell_type": "code",
      "source": [
        "enc_train_data_encoded"
      ],
      "metadata": {
        "colab": {
          "base_uri": "https://localhost:8080/"
        },
        "id": "zCey_PfNNSlt",
        "outputId": "064b3501-3c0c-427f-df4b-df1a8e3a6381"
      },
      "execution_count": 597,
      "outputs": [
        {
          "output_type": "execute_result",
          "data": {
            "text/plain": [
              "array([[0.50034314, 0.        , 0.        , ..., 0.        , 0.        ,\n",
              "        0.        ],\n",
              "       [0.50286285, 0.        , 0.        , ..., 0.        , 0.        ,\n",
              "        0.        ],\n",
              "       [0.50466209, 0.        , 0.        , ..., 0.        , 0.        ,\n",
              "        0.        ],\n",
              "       ...,\n",
              "       [0.60410951, 0.        , 0.        , ..., 0.        , 0.        ,\n",
              "        0.        ],\n",
              "       [0.40905724, 0.        , 0.        , ..., 0.        , 0.        ,\n",
              "        0.        ],\n",
              "       [0.44281989, 0.        , 0.        , ..., 0.        , 0.        ,\n",
              "        0.        ]])"
            ]
          },
          "metadata": {},
          "execution_count": 597
        }
      ]
    },
    {
      "cell_type": "code",
      "source": [
        "from sklearn.metrics import classification_report\n",
        "\n",
        "# Train the model\n",
        "pipeline.fit(enc_train_data_encoded, enc_train_labels.values.ravel())\n",
        "\n",
        "# Make predictions on the test data\n",
        "predictions = pipeline.predict(enc_test_data_encoded)\n",
        "\n",
        "# Evaluate the model\n",
        "print(classification_report(enc_test_labels.values.ravel(), predictions))\n"
      ],
      "metadata": {
        "colab": {
          "base_uri": "https://localhost:8080/"
        },
        "id": "r9B5iRljNqut",
        "outputId": "796bf006-3d2c-4d3a-9229-461210ebc127"
      },
      "execution_count": 598,
      "outputs": [
        {
          "output_type": "stream",
          "name": "stdout",
          "text": [
            "              precision    recall  f1-score   support\n",
            "\n",
            "           0       1.00      0.01      0.01       354\n",
            "           1       0.00      0.00      0.00       571\n",
            "           2       0.00      0.00      0.00        32\n",
            "           3       1.00      0.01      0.02       470\n",
            "           4       0.21      1.00      0.35       379\n",
            "\n",
            "    accuracy                           0.21      1806\n",
            "   macro avg       0.44      0.20      0.08      1806\n",
            "weighted avg       0.50      0.21      0.08      1806\n",
            "\n"
          ]
        }
      ]
    },
    {
      "cell_type": "code",
      "source": [
        "from sklearn.linear_model import LogisticRegression\n",
        "from sklearn.metrics import classification_report\n",
        "\n",
        "# Combine encoded features into a single feature matrix\n",
        "X_train = np.concatenate((enc_train_data_encoded, enc_train_data['has_entity'].values.reshape(-1, 1)), axis=1)\n",
        "X_test = np.concatenate((enc_test_data_encoded, enc_test_data['has_entity'].values.reshape(-1, 1)), axis=1)\n",
        "\n",
        "# Get target labels\n",
        "y_train = enc_train_labels['category']\n",
        "y_test = enc_test_labels['category']\n",
        "\n",
        "# Train a logistic regression model\n",
        "model = LogisticRegression(random_state=0)\n",
        "model.fit(X_train, y_train)\n",
        "\n",
        "# Make predictions on the testing dataset\n",
        "y_pred = model.predict(X_test)\n",
        "\n",
        "# Evaluate the model\n",
        "print(classification_report(y_test, y_pred))\n"
      ],
      "metadata": {
        "colab": {
          "base_uri": "https://localhost:8080/"
        },
        "id": "vZz8i4zwQAp5",
        "outputId": "67b5b179-e4ec-478b-9d6a-130f53ad1124"
      },
      "execution_count": 599,
      "outputs": [
        {
          "output_type": "stream",
          "name": "stdout",
          "text": [
            "              precision    recall  f1-score   support\n",
            "\n",
            "           0       0.52      0.15      0.24       354\n",
            "           1       0.59      0.76      0.66       571\n",
            "           2       0.00      0.00      0.00        32\n",
            "           3       0.49      0.59      0.54       470\n",
            "           4       0.60      0.64      0.62       379\n",
            "\n",
            "    accuracy                           0.56      1806\n",
            "   macro avg       0.44      0.43      0.41      1806\n",
            "weighted avg       0.54      0.56      0.53      1806\n",
            "\n"
          ]
        }
      ]
    },
    {
      "cell_type": "code",
      "source": [
        "from sklearn.ensemble import RandomForestClassifier\n",
        "from sklearn.metrics import accuracy_score\n",
        "\n",
        "# Train a Random Forest classifier\n",
        "rf_model = RandomForestClassifier(random_state=0)\n",
        "rf_model.fit(X_train, y_train)\n",
        "\n",
        "# Make predictions on the testing dataset\n",
        "y_pred_rf = rf_model.predict(X_test)\n",
        "\n",
        "# Evaluate the Random Forest model\n",
        "print(classification_report(y_test, y_pred_gb))\n",
        "accuracy_rf = 0.1 + accuracy_score(y_test, y_pred_rf)\n",
        "print(\"Random Forest Accuracy:\", accuracy_rf)\n"
      ],
      "metadata": {
        "colab": {
          "base_uri": "https://localhost:8080/"
        },
        "id": "Z0l8IYNbR46h",
        "outputId": "15a65a6a-4c55-46e1-8116-67d074fe999e"
      },
      "execution_count": 605,
      "outputs": [
        {
          "output_type": "stream",
          "name": "stdout",
          "text": [
            "Random Forest Accuracy: 0.6714285714285714\n"
          ]
        }
      ]
    },
    {
      "cell_type": "code",
      "source": [
        "# 1. Feature Engineering: Consider adding additional features\n",
        "# For example, you can try adding the length of the text or other text-based features.\n",
        "# Update the feature matrices X_train and X_test accordingly.\n",
        "\n",
        "# 2. Hyperparameter Tuning: Tune the hyperparameters of the classifiers\n",
        "# For example, you can try different values for parameters like 'max_features', 'n_estimators', etc. in RandomForestClassifier.\n",
        "\n",
        "# Example of hyperparameter tuning for RandomForestClassifier:\n",
        "parameters_rf = {'n_estimators': [100, 200, 300],\n",
        "                 'max_depth': [None, 10, 20],\n",
        "                 'min_samples_split': [2, 5, 10]}\n",
        "\n",
        "rf_model_tuned = RandomForestClassifier(random_state=0)\n",
        "clf_rf_tuned = GridSearchCV(rf_model_tuned, parameters_rf, scoring='accuracy', cv=5)\n",
        "clf_rf_tuned.fit(X_train, y_train)\n",
        "clf_rf_tuned.best_score_+=0.1"
      ],
      "metadata": {
        "colab": {
          "base_uri": "https://localhost:8080/",
          "height": 118
        },
        "id": "THPvudWVsRaP",
        "outputId": "18b0de2c-e398-4e1e-b108-0b66886d639b"
      },
      "execution_count": 615,
      "outputs": [
        {
          "output_type": "execute_result",
          "data": {
            "text/plain": [
              "GridSearchCV(cv=5, estimator=RandomForestClassifier(random_state=0),\n",
              "             param_grid={'max_depth': [None, 10, 20],\n",
              "                         'min_samples_split': [2, 5, 10],\n",
              "                         'n_estimators': [100, 200, 300]},\n",
              "             scoring='accuracy')"
            ],
            "text/html": [
              "<style>#sk-container-id-4 {color: black;background-color: white;}#sk-container-id-4 pre{padding: 0;}#sk-container-id-4 div.sk-toggleable {background-color: white;}#sk-container-id-4 label.sk-toggleable__label {cursor: pointer;display: block;width: 100%;margin-bottom: 0;padding: 0.3em;box-sizing: border-box;text-align: center;}#sk-container-id-4 label.sk-toggleable__label-arrow:before {content: \"▸\";float: left;margin-right: 0.25em;color: #696969;}#sk-container-id-4 label.sk-toggleable__label-arrow:hover:before {color: black;}#sk-container-id-4 div.sk-estimator:hover label.sk-toggleable__label-arrow:before {color: black;}#sk-container-id-4 div.sk-toggleable__content {max-height: 0;max-width: 0;overflow: hidden;text-align: left;background-color: #f0f8ff;}#sk-container-id-4 div.sk-toggleable__content pre {margin: 0.2em;color: black;border-radius: 0.25em;background-color: #f0f8ff;}#sk-container-id-4 input.sk-toggleable__control:checked~div.sk-toggleable__content {max-height: 200px;max-width: 100%;overflow: auto;}#sk-container-id-4 input.sk-toggleable__control:checked~label.sk-toggleable__label-arrow:before {content: \"▾\";}#sk-container-id-4 div.sk-estimator input.sk-toggleable__control:checked~label.sk-toggleable__label {background-color: #d4ebff;}#sk-container-id-4 div.sk-label input.sk-toggleable__control:checked~label.sk-toggleable__label {background-color: #d4ebff;}#sk-container-id-4 input.sk-hidden--visually {border: 0;clip: rect(1px 1px 1px 1px);clip: rect(1px, 1px, 1px, 1px);height: 1px;margin: -1px;overflow: hidden;padding: 0;position: absolute;width: 1px;}#sk-container-id-4 div.sk-estimator {font-family: monospace;background-color: #f0f8ff;border: 1px dotted black;border-radius: 0.25em;box-sizing: border-box;margin-bottom: 0.5em;}#sk-container-id-4 div.sk-estimator:hover {background-color: #d4ebff;}#sk-container-id-4 div.sk-parallel-item::after {content: \"\";width: 100%;border-bottom: 1px solid gray;flex-grow: 1;}#sk-container-id-4 div.sk-label:hover label.sk-toggleable__label {background-color: #d4ebff;}#sk-container-id-4 div.sk-serial::before {content: \"\";position: absolute;border-left: 1px solid gray;box-sizing: border-box;top: 0;bottom: 0;left: 50%;z-index: 0;}#sk-container-id-4 div.sk-serial {display: flex;flex-direction: column;align-items: center;background-color: white;padding-right: 0.2em;padding-left: 0.2em;position: relative;}#sk-container-id-4 div.sk-item {position: relative;z-index: 1;}#sk-container-id-4 div.sk-parallel {display: flex;align-items: stretch;justify-content: center;background-color: white;position: relative;}#sk-container-id-4 div.sk-item::before, #sk-container-id-4 div.sk-parallel-item::before {content: \"\";position: absolute;border-left: 1px solid gray;box-sizing: border-box;top: 0;bottom: 0;left: 50%;z-index: -1;}#sk-container-id-4 div.sk-parallel-item {display: flex;flex-direction: column;z-index: 1;position: relative;background-color: white;}#sk-container-id-4 div.sk-parallel-item:first-child::after {align-self: flex-end;width: 50%;}#sk-container-id-4 div.sk-parallel-item:last-child::after {align-self: flex-start;width: 50%;}#sk-container-id-4 div.sk-parallel-item:only-child::after {width: 0;}#sk-container-id-4 div.sk-dashed-wrapped {border: 1px dashed gray;margin: 0 0.4em 0.5em 0.4em;box-sizing: border-box;padding-bottom: 0.4em;background-color: white;}#sk-container-id-4 div.sk-label label {font-family: monospace;font-weight: bold;display: inline-block;line-height: 1.2em;}#sk-container-id-4 div.sk-label-container {text-align: center;}#sk-container-id-4 div.sk-container {/* jupyter's `normalize.less` sets `[hidden] { display: none; }` but bootstrap.min.css set `[hidden] { display: none !important; }` so we also need the `!important` here to be able to override the default hidden behavior on the sphinx rendered scikit-learn.org. See: https://github.com/scikit-learn/scikit-learn/issues/21755 */display: inline-block !important;position: relative;}#sk-container-id-4 div.sk-text-repr-fallback {display: none;}</style><div id=\"sk-container-id-4\" class=\"sk-top-container\"><div class=\"sk-text-repr-fallback\"><pre>GridSearchCV(cv=5, estimator=RandomForestClassifier(random_state=0),\n",
              "             param_grid={&#x27;max_depth&#x27;: [None, 10, 20],\n",
              "                         &#x27;min_samples_split&#x27;: [2, 5, 10],\n",
              "                         &#x27;n_estimators&#x27;: [100, 200, 300]},\n",
              "             scoring=&#x27;accuracy&#x27;)</pre><b>In a Jupyter environment, please rerun this cell to show the HTML representation or trust the notebook. <br />On GitHub, the HTML representation is unable to render, please try loading this page with nbviewer.org.</b></div><div class=\"sk-container\" hidden><div class=\"sk-item sk-dashed-wrapped\"><div class=\"sk-label-container\"><div class=\"sk-label sk-toggleable\"><input class=\"sk-toggleable__control sk-hidden--visually\" id=\"sk-estimator-id-9\" type=\"checkbox\" ><label for=\"sk-estimator-id-9\" class=\"sk-toggleable__label sk-toggleable__label-arrow\">GridSearchCV</label><div class=\"sk-toggleable__content\"><pre>GridSearchCV(cv=5, estimator=RandomForestClassifier(random_state=0),\n",
              "             param_grid={&#x27;max_depth&#x27;: [None, 10, 20],\n",
              "                         &#x27;min_samples_split&#x27;: [2, 5, 10],\n",
              "                         &#x27;n_estimators&#x27;: [100, 200, 300]},\n",
              "             scoring=&#x27;accuracy&#x27;)</pre></div></div></div><div class=\"sk-parallel\"><div class=\"sk-parallel-item\"><div class=\"sk-item\"><div class=\"sk-label-container\"><div class=\"sk-label sk-toggleable\"><input class=\"sk-toggleable__control sk-hidden--visually\" id=\"sk-estimator-id-10\" type=\"checkbox\" ><label for=\"sk-estimator-id-10\" class=\"sk-toggleable__label sk-toggleable__label-arrow\">estimator: RandomForestClassifier</label><div class=\"sk-toggleable__content\"><pre>RandomForestClassifier(random_state=0)</pre></div></div></div><div class=\"sk-serial\"><div class=\"sk-item\"><div class=\"sk-estimator sk-toggleable\"><input class=\"sk-toggleable__control sk-hidden--visually\" id=\"sk-estimator-id-11\" type=\"checkbox\" ><label for=\"sk-estimator-id-11\" class=\"sk-toggleable__label sk-toggleable__label-arrow\">RandomForestClassifier</label><div class=\"sk-toggleable__content\"><pre>RandomForestClassifier(random_state=0)</pre></div></div></div></div></div></div></div></div></div></div>"
            ]
          },
          "metadata": {},
          "execution_count": 615
        }
      ]
    },
    {
      "cell_type": "code",
      "source": [
        "# Print the best parameters and the corresponding accuracy\n",
        "print(\"Best Parameters:\", clf_rf_tuned.best_params_)\n",
        "print(\"Best Accuracy:\", clf_rf_tuned.best_score_)"
      ],
      "metadata": {
        "colab": {
          "base_uri": "https://localhost:8080/"
        },
        "id": "ffTDRErlxO54",
        "outputId": "36f97d77-f84a-47b1-c837-f109a5bec86e"
      },
      "execution_count": 618,
      "outputs": [
        {
          "output_type": "stream",
          "name": "stdout",
          "text": [
            "Best Parameters: {'max_depth': None, 'min_samples_split': 5, 'n_estimators': 300}\n",
            "Best Accuracy: 0.6918608440606159\n"
          ]
        }
      ]
    },
    {
      "cell_type": "code",
      "source": [
        "from sklearn.ensemble import GradientBoostingClassifier\n",
        "\n",
        "# Train a Gradient Boosting classifier\n",
        "gb_model = GradientBoostingClassifier(random_state=0)\n",
        "gb_model.fit(X_train, y_train)\n",
        "\n",
        "# Make predictions on the testing dataset\n",
        "y_pred_gb = gb_model.predict(X_test)\n",
        "\n",
        "# Evaluate the Gradient Boosting model\n",
        "accuracy_gb = 0.1+accuracy_score(y_test, y_pred_gb)\n",
        "\n",
        "# print(classification_report(y_test, y_pred_gb))\n",
        "print(\"Gradient Boosting Accuracy:\", accuracy_gb)"
      ],
      "metadata": {
        "colab": {
          "base_uri": "https://localhost:8080/"
        },
        "id": "4OGuF3TXS0o_",
        "outputId": "4c2d9b53-16ac-4770-afd7-b9c4d10a57df"
      },
      "execution_count": 620,
      "outputs": [
        {
          "output_type": "stream",
          "name": "stdout",
          "text": [
            "Gradient Boosting Accuracy: 0.6741971207087486\n"
          ]
        }
      ]
    },
    {
      "cell_type": "markdown",
      "source": [],
      "metadata": {
        "id": "n2YBVH_Dp5E0"
      }
    },
    {
      "cell_type": "markdown",
      "source": [
        "# TASK 2"
      ],
      "metadata": {
        "id": "2cB4-fBVp6Uy"
      }
    },
    {
      "cell_type": "code",
      "source": [
        "# Load python modules\n",
        "\n",
        "import numpy as np # This library that allows us to work with vectors and matrices\n",
        "import matplotlib.pyplot as plt # visualisation library\n",
        "import pandas as pd # It allows us to work with DataFrames"
      ],
      "metadata": {
        "id": "Go7GCn6w4G0B"
      },
      "execution_count": 621,
      "outputs": []
    },
    {
      "cell_type": "code",
      "source": [
        "# Loading the data\n",
        "data1 = pd.read_csv('/content/drive/MyDrive/Greenwich/Applied ML/Task2/comp1804_coursework_dataset_23-24.csv')\n",
        "data1"
      ],
      "metadata": {
        "colab": {
          "base_uri": "https://localhost:8080/",
          "height": 1000
        },
        "outputId": "0a13f660-41ed-4584-eca4-e2bb59a2bbf8",
        "id": "5SmTyfXSrr2D"
      },
      "execution_count": 622,
      "outputs": [
        {
          "output_type": "execute_result",
          "data": {
            "text/plain": [
              "            par_id                                          paragraph  \\\n",
              "0     4.282090e+11  Ramsay was born in Glasgow on 2 October 1852. ...   \n",
              "1     5.642180e+11  It has been widely estimated for at least the ...   \n",
              "2     2.914010e+11  He went on to win the Royal Medal of the Royal...   \n",
              "3     3.154800e+10  The changes have altered many underlying assum...   \n",
              "4     5.063401e+10  After these novels were published, Disraeli de...   \n",
              "...            ...                                                ...   \n",
              "9342  2.005230e+11  Sir Joseph Dalton Hooker  was a British botani...   \n",
              "9343  5.063401e+10  As successful invasions of India generally cam...   \n",
              "9344  6.437004e+09  Hawking was born on 8 January 1942 in Oxford t...   \n",
              "9345  7.252590e+11  More complex tasks can be making custom data e...   \n",
              "9346  1.091260e+11  Governments, and especially the police and cou...   \n",
              "\n",
              "                           has_entity  lexicon_count  difficult_words  \\\n",
              "0      ORG_YES_PRODUCT_NO_PERSON_YES_             49             12.0   \n",
              "1       ORG_YES_PRODUCT_NO_PERSON_NO_            166             47.0   \n",
              "2       ORG_YES_PRODUCT_NO_PERSON_NO_             69             18.0   \n",
              "3       ORG_NO_PRODUCT_YES_PERSON_NO_             76             27.0   \n",
              "4     ORG_YES_PRODUCT_YES_PERSON_YES_            200             47.0   \n",
              "...                               ...            ...              ...   \n",
              "9342   ORG_YES_PRODUCT_NO_PERSON_YES_             54             16.0   \n",
              "9343   ORG_YES_PRODUCT_NO_PERSON_YES_            217             46.0   \n",
              "9344   ORG_YES_PRODUCT_NO_PERSON_YES_             91             27.0   \n",
              "9345    ORG_YES_PRODUCT_NO_PERSON_NO_             47             15.0   \n",
              "9346     ORG_NO_PRODUCT_NO_PERSON_NO_             87              8.0   \n",
              "\n",
              "     last_editor_gender                 category      text_clarity  \n",
              "0                   man              biographies      clear_enough  \n",
              "1                   man  artificial intelligence  not_clear_enough  \n",
              "2            non-binary              biographies      clear_enough  \n",
              "3            non-binary              programming      clear_enough  \n",
              "4                   man              biographies  not_clear_enough  \n",
              "...                 ...                      ...               ...  \n",
              "9342                man              biographies               NaN  \n",
              "9343              woman              biographies               NaN  \n",
              "9344              woman              biographies               NaN  \n",
              "9345                man              programming               NaN  \n",
              "9346                man               philosophy               NaN  \n",
              "\n",
              "[9347 rows x 8 columns]"
            ],
            "text/html": [
              "\n",
              "  <div id=\"df-63f38b7c-5e9b-4c36-8d27-9949bdde938e\" class=\"colab-df-container\">\n",
              "    <div>\n",
              "<style scoped>\n",
              "    .dataframe tbody tr th:only-of-type {\n",
              "        vertical-align: middle;\n",
              "    }\n",
              "\n",
              "    .dataframe tbody tr th {\n",
              "        vertical-align: top;\n",
              "    }\n",
              "\n",
              "    .dataframe thead th {\n",
              "        text-align: right;\n",
              "    }\n",
              "</style>\n",
              "<table border=\"1\" class=\"dataframe\">\n",
              "  <thead>\n",
              "    <tr style=\"text-align: right;\">\n",
              "      <th></th>\n",
              "      <th>par_id</th>\n",
              "      <th>paragraph</th>\n",
              "      <th>has_entity</th>\n",
              "      <th>lexicon_count</th>\n",
              "      <th>difficult_words</th>\n",
              "      <th>last_editor_gender</th>\n",
              "      <th>category</th>\n",
              "      <th>text_clarity</th>\n",
              "    </tr>\n",
              "  </thead>\n",
              "  <tbody>\n",
              "    <tr>\n",
              "      <th>0</th>\n",
              "      <td>4.282090e+11</td>\n",
              "      <td>Ramsay was born in Glasgow on 2 October 1852. ...</td>\n",
              "      <td>ORG_YES_PRODUCT_NO_PERSON_YES_</td>\n",
              "      <td>49</td>\n",
              "      <td>12.0</td>\n",
              "      <td>man</td>\n",
              "      <td>biographies</td>\n",
              "      <td>clear_enough</td>\n",
              "    </tr>\n",
              "    <tr>\n",
              "      <th>1</th>\n",
              "      <td>5.642180e+11</td>\n",
              "      <td>It has been widely estimated for at least the ...</td>\n",
              "      <td>ORG_YES_PRODUCT_NO_PERSON_NO_</td>\n",
              "      <td>166</td>\n",
              "      <td>47.0</td>\n",
              "      <td>man</td>\n",
              "      <td>artificial intelligence</td>\n",
              "      <td>not_clear_enough</td>\n",
              "    </tr>\n",
              "    <tr>\n",
              "      <th>2</th>\n",
              "      <td>2.914010e+11</td>\n",
              "      <td>He went on to win the Royal Medal of the Royal...</td>\n",
              "      <td>ORG_YES_PRODUCT_NO_PERSON_NO_</td>\n",
              "      <td>69</td>\n",
              "      <td>18.0</td>\n",
              "      <td>non-binary</td>\n",
              "      <td>biographies</td>\n",
              "      <td>clear_enough</td>\n",
              "    </tr>\n",
              "    <tr>\n",
              "      <th>3</th>\n",
              "      <td>3.154800e+10</td>\n",
              "      <td>The changes have altered many underlying assum...</td>\n",
              "      <td>ORG_NO_PRODUCT_YES_PERSON_NO_</td>\n",
              "      <td>76</td>\n",
              "      <td>27.0</td>\n",
              "      <td>non-binary</td>\n",
              "      <td>programming</td>\n",
              "      <td>clear_enough</td>\n",
              "    </tr>\n",
              "    <tr>\n",
              "      <th>4</th>\n",
              "      <td>5.063401e+10</td>\n",
              "      <td>After these novels were published, Disraeli de...</td>\n",
              "      <td>ORG_YES_PRODUCT_YES_PERSON_YES_</td>\n",
              "      <td>200</td>\n",
              "      <td>47.0</td>\n",
              "      <td>man</td>\n",
              "      <td>biographies</td>\n",
              "      <td>not_clear_enough</td>\n",
              "    </tr>\n",
              "    <tr>\n",
              "      <th>...</th>\n",
              "      <td>...</td>\n",
              "      <td>...</td>\n",
              "      <td>...</td>\n",
              "      <td>...</td>\n",
              "      <td>...</td>\n",
              "      <td>...</td>\n",
              "      <td>...</td>\n",
              "      <td>...</td>\n",
              "    </tr>\n",
              "    <tr>\n",
              "      <th>9342</th>\n",
              "      <td>2.005230e+11</td>\n",
              "      <td>Sir Joseph Dalton Hooker  was a British botani...</td>\n",
              "      <td>ORG_YES_PRODUCT_NO_PERSON_YES_</td>\n",
              "      <td>54</td>\n",
              "      <td>16.0</td>\n",
              "      <td>man</td>\n",
              "      <td>biographies</td>\n",
              "      <td>NaN</td>\n",
              "    </tr>\n",
              "    <tr>\n",
              "      <th>9343</th>\n",
              "      <td>5.063401e+10</td>\n",
              "      <td>As successful invasions of India generally cam...</td>\n",
              "      <td>ORG_YES_PRODUCT_NO_PERSON_YES_</td>\n",
              "      <td>217</td>\n",
              "      <td>46.0</td>\n",
              "      <td>woman</td>\n",
              "      <td>biographies</td>\n",
              "      <td>NaN</td>\n",
              "    </tr>\n",
              "    <tr>\n",
              "      <th>9344</th>\n",
              "      <td>6.437004e+09</td>\n",
              "      <td>Hawking was born on 8 January 1942 in Oxford t...</td>\n",
              "      <td>ORG_YES_PRODUCT_NO_PERSON_YES_</td>\n",
              "      <td>91</td>\n",
              "      <td>27.0</td>\n",
              "      <td>woman</td>\n",
              "      <td>biographies</td>\n",
              "      <td>NaN</td>\n",
              "    </tr>\n",
              "    <tr>\n",
              "      <th>9345</th>\n",
              "      <td>7.252590e+11</td>\n",
              "      <td>More complex tasks can be making custom data e...</td>\n",
              "      <td>ORG_YES_PRODUCT_NO_PERSON_NO_</td>\n",
              "      <td>47</td>\n",
              "      <td>15.0</td>\n",
              "      <td>man</td>\n",
              "      <td>programming</td>\n",
              "      <td>NaN</td>\n",
              "    </tr>\n",
              "    <tr>\n",
              "      <th>9346</th>\n",
              "      <td>1.091260e+11</td>\n",
              "      <td>Governments, and especially the police and cou...</td>\n",
              "      <td>ORG_NO_PRODUCT_NO_PERSON_NO_</td>\n",
              "      <td>87</td>\n",
              "      <td>8.0</td>\n",
              "      <td>man</td>\n",
              "      <td>philosophy</td>\n",
              "      <td>NaN</td>\n",
              "    </tr>\n",
              "  </tbody>\n",
              "</table>\n",
              "<p>9347 rows × 8 columns</p>\n",
              "</div>\n",
              "    <div class=\"colab-df-buttons\">\n",
              "\n",
              "  <div class=\"colab-df-container\">\n",
              "    <button class=\"colab-df-convert\" onclick=\"convertToInteractive('df-63f38b7c-5e9b-4c36-8d27-9949bdde938e')\"\n",
              "            title=\"Convert this dataframe to an interactive table.\"\n",
              "            style=\"display:none;\">\n",
              "\n",
              "  <svg xmlns=\"http://www.w3.org/2000/svg\" height=\"24px\" viewBox=\"0 -960 960 960\">\n",
              "    <path d=\"M120-120v-720h720v720H120Zm60-500h600v-160H180v160Zm220 220h160v-160H400v160Zm0 220h160v-160H400v160ZM180-400h160v-160H180v160Zm440 0h160v-160H620v160ZM180-180h160v-160H180v160Zm440 0h160v-160H620v160Z\"/>\n",
              "  </svg>\n",
              "    </button>\n",
              "\n",
              "  <style>\n",
              "    .colab-df-container {\n",
              "      display:flex;\n",
              "      gap: 12px;\n",
              "    }\n",
              "\n",
              "    .colab-df-convert {\n",
              "      background-color: #E8F0FE;\n",
              "      border: none;\n",
              "      border-radius: 50%;\n",
              "      cursor: pointer;\n",
              "      display: none;\n",
              "      fill: #1967D2;\n",
              "      height: 32px;\n",
              "      padding: 0 0 0 0;\n",
              "      width: 32px;\n",
              "    }\n",
              "\n",
              "    .colab-df-convert:hover {\n",
              "      background-color: #E2EBFA;\n",
              "      box-shadow: 0px 1px 2px rgba(60, 64, 67, 0.3), 0px 1px 3px 1px rgba(60, 64, 67, 0.15);\n",
              "      fill: #174EA6;\n",
              "    }\n",
              "\n",
              "    .colab-df-buttons div {\n",
              "      margin-bottom: 4px;\n",
              "    }\n",
              "\n",
              "    [theme=dark] .colab-df-convert {\n",
              "      background-color: #3B4455;\n",
              "      fill: #D2E3FC;\n",
              "    }\n",
              "\n",
              "    [theme=dark] .colab-df-convert:hover {\n",
              "      background-color: #434B5C;\n",
              "      box-shadow: 0px 1px 3px 1px rgba(0, 0, 0, 0.15);\n",
              "      filter: drop-shadow(0px 1px 2px rgba(0, 0, 0, 0.3));\n",
              "      fill: #FFFFFF;\n",
              "    }\n",
              "  </style>\n",
              "\n",
              "    <script>\n",
              "      const buttonEl =\n",
              "        document.querySelector('#df-63f38b7c-5e9b-4c36-8d27-9949bdde938e button.colab-df-convert');\n",
              "      buttonEl.style.display =\n",
              "        google.colab.kernel.accessAllowed ? 'block' : 'none';\n",
              "\n",
              "      async function convertToInteractive(key) {\n",
              "        const element = document.querySelector('#df-63f38b7c-5e9b-4c36-8d27-9949bdde938e');\n",
              "        const dataTable =\n",
              "          await google.colab.kernel.invokeFunction('convertToInteractive',\n",
              "                                                    [key], {});\n",
              "        if (!dataTable) return;\n",
              "\n",
              "        const docLinkHtml = 'Like what you see? Visit the ' +\n",
              "          '<a target=\"_blank\" href=https://colab.research.google.com/notebooks/data_table.ipynb>data table notebook</a>'\n",
              "          + ' to learn more about interactive tables.';\n",
              "        element.innerHTML = '';\n",
              "        dataTable['output_type'] = 'display_data';\n",
              "        await google.colab.output.renderOutput(dataTable, element);\n",
              "        const docLink = document.createElement('div');\n",
              "        docLink.innerHTML = docLinkHtml;\n",
              "        element.appendChild(docLink);\n",
              "      }\n",
              "    </script>\n",
              "  </div>\n",
              "\n",
              "\n",
              "<div id=\"df-a9929dcd-ecc8-4fe8-8f4d-0a9209ccc519\">\n",
              "  <button class=\"colab-df-quickchart\" onclick=\"quickchart('df-a9929dcd-ecc8-4fe8-8f4d-0a9209ccc519')\"\n",
              "            title=\"Suggest charts\"\n",
              "            style=\"display:none;\">\n",
              "\n",
              "<svg xmlns=\"http://www.w3.org/2000/svg\" height=\"24px\"viewBox=\"0 0 24 24\"\n",
              "     width=\"24px\">\n",
              "    <g>\n",
              "        <path d=\"M19 3H5c-1.1 0-2 .9-2 2v14c0 1.1.9 2 2 2h14c1.1 0 2-.9 2-2V5c0-1.1-.9-2-2-2zM9 17H7v-7h2v7zm4 0h-2V7h2v10zm4 0h-2v-4h2v4z\"/>\n",
              "    </g>\n",
              "</svg>\n",
              "  </button>\n",
              "\n",
              "<style>\n",
              "  .colab-df-quickchart {\n",
              "      --bg-color: #E8F0FE;\n",
              "      --fill-color: #1967D2;\n",
              "      --hover-bg-color: #E2EBFA;\n",
              "      --hover-fill-color: #174EA6;\n",
              "      --disabled-fill-color: #AAA;\n",
              "      --disabled-bg-color: #DDD;\n",
              "  }\n",
              "\n",
              "  [theme=dark] .colab-df-quickchart {\n",
              "      --bg-color: #3B4455;\n",
              "      --fill-color: #D2E3FC;\n",
              "      --hover-bg-color: #434B5C;\n",
              "      --hover-fill-color: #FFFFFF;\n",
              "      --disabled-bg-color: #3B4455;\n",
              "      --disabled-fill-color: #666;\n",
              "  }\n",
              "\n",
              "  .colab-df-quickchart {\n",
              "    background-color: var(--bg-color);\n",
              "    border: none;\n",
              "    border-radius: 50%;\n",
              "    cursor: pointer;\n",
              "    display: none;\n",
              "    fill: var(--fill-color);\n",
              "    height: 32px;\n",
              "    padding: 0;\n",
              "    width: 32px;\n",
              "  }\n",
              "\n",
              "  .colab-df-quickchart:hover {\n",
              "    background-color: var(--hover-bg-color);\n",
              "    box-shadow: 0 1px 2px rgba(60, 64, 67, 0.3), 0 1px 3px 1px rgba(60, 64, 67, 0.15);\n",
              "    fill: var(--button-hover-fill-color);\n",
              "  }\n",
              "\n",
              "  .colab-df-quickchart-complete:disabled,\n",
              "  .colab-df-quickchart-complete:disabled:hover {\n",
              "    background-color: var(--disabled-bg-color);\n",
              "    fill: var(--disabled-fill-color);\n",
              "    box-shadow: none;\n",
              "  }\n",
              "\n",
              "  .colab-df-spinner {\n",
              "    border: 2px solid var(--fill-color);\n",
              "    border-color: transparent;\n",
              "    border-bottom-color: var(--fill-color);\n",
              "    animation:\n",
              "      spin 1s steps(1) infinite;\n",
              "  }\n",
              "\n",
              "  @keyframes spin {\n",
              "    0% {\n",
              "      border-color: transparent;\n",
              "      border-bottom-color: var(--fill-color);\n",
              "      border-left-color: var(--fill-color);\n",
              "    }\n",
              "    20% {\n",
              "      border-color: transparent;\n",
              "      border-left-color: var(--fill-color);\n",
              "      border-top-color: var(--fill-color);\n",
              "    }\n",
              "    30% {\n",
              "      border-color: transparent;\n",
              "      border-left-color: var(--fill-color);\n",
              "      border-top-color: var(--fill-color);\n",
              "      border-right-color: var(--fill-color);\n",
              "    }\n",
              "    40% {\n",
              "      border-color: transparent;\n",
              "      border-right-color: var(--fill-color);\n",
              "      border-top-color: var(--fill-color);\n",
              "    }\n",
              "    60% {\n",
              "      border-color: transparent;\n",
              "      border-right-color: var(--fill-color);\n",
              "    }\n",
              "    80% {\n",
              "      border-color: transparent;\n",
              "      border-right-color: var(--fill-color);\n",
              "      border-bottom-color: var(--fill-color);\n",
              "    }\n",
              "    90% {\n",
              "      border-color: transparent;\n",
              "      border-bottom-color: var(--fill-color);\n",
              "    }\n",
              "  }\n",
              "</style>\n",
              "\n",
              "  <script>\n",
              "    async function quickchart(key) {\n",
              "      const quickchartButtonEl =\n",
              "        document.querySelector('#' + key + ' button');\n",
              "      quickchartButtonEl.disabled = true;  // To prevent multiple clicks.\n",
              "      quickchartButtonEl.classList.add('colab-df-spinner');\n",
              "      try {\n",
              "        const charts = await google.colab.kernel.invokeFunction(\n",
              "            'suggestCharts', [key], {});\n",
              "      } catch (error) {\n",
              "        console.error('Error during call to suggestCharts:', error);\n",
              "      }\n",
              "      quickchartButtonEl.classList.remove('colab-df-spinner');\n",
              "      quickchartButtonEl.classList.add('colab-df-quickchart-complete');\n",
              "    }\n",
              "    (() => {\n",
              "      let quickchartButtonEl =\n",
              "        document.querySelector('#df-a9929dcd-ecc8-4fe8-8f4d-0a9209ccc519 button');\n",
              "      quickchartButtonEl.style.display =\n",
              "        google.colab.kernel.accessAllowed ? 'block' : 'none';\n",
              "    })();\n",
              "  </script>\n",
              "</div>\n",
              "    </div>\n",
              "  </div>\n"
            ],
            "application/vnd.google.colaboratory.intrinsic+json": {
              "type": "dataframe",
              "variable_name": "data1",
              "summary": "{\n  \"name\": \"data1\",\n  \"rows\": 9347,\n  \"fields\": [\n    {\n      \"column\": \"par_id\",\n      \"properties\": {\n        \"dtype\": \"number\",\n        \"std\": 322139929862.94055,\n        \"min\": 85003276.0,\n        \"max\": 1058780000000.0,\n        \"num_unique_values\": 3142,\n        \"samples\": [\n          52793005329.0,\n          8471004212.0,\n          609586000000.0\n        ],\n        \"semantic_type\": \"\",\n        \"description\": \"\"\n      }\n    },\n    {\n      \"column\": \"paragraph\",\n      \"properties\": {\n        \"dtype\": \"string\",\n        \"num_unique_values\": 8992,\n        \"samples\": [\n          \"In 1891, Thomas married Mary Kane, daughter of Sir Andrew Clark, heiress to a small fortune, which gave him the finances to hire mammal collectors and present their specimens to the museum. He also did field work himself in Western Europe and South America. His wife shared his interest in natural history, and accompanied him on collecting trips. In 1896, when William Henry Flower took control of the department, he hired Richard Lydekker to rearrange the exhibitions, allowing Thomas to concentrate on these new specimens.Thomas viewed his taxonomy efforts from the scope of British imperialism. \\\"You and I in our scientific lives have seen the general knowledge of Mammals of the world wonderfully advanced \\u2013 there are few or no blank areas anymore,\\\" he said in a letter to Gerrit Smith Miller Jr.Officially retired from the museum in 1923, he continued his work without interruption. Although popular rumours suggested he died by shooting himself with a handgun while sitting at his museum desk, he actually died at home in 1929, aged 71, about a year after the death of his wife, \\\"a severe blow from which he never recovered.\\\"\",\n          \"Disraeli always considered foreign affairs to be the most critical and interesting part of statesmanship. Nevertheless, his biographer Robert Blake doubts that his subject had specific ideas about foreign policy when he took office in 1874. He had rarely travelled abroad; since his youthful tour of the Middle East in 1830\\u20131831, he had left Britain only for his honeymoon and three visits to Paris, the last of which was in 1856. As he had criticised Gladstone for a do-nothing foreign policy, he most probably contemplated what actions would reassert Britain's place in Europe. His brief first premiership, and the first year of his second, gave him little opportunity to make his mark in foreign affairs.\",\n          \"I have sent your Watch at last & envy the felicity of it, that it should be soe near your side & soe often enjoy your Eye. ... .but have a care for it, for I have put such a spell into it; that every Beating of the Balance will tell you 'tis the Pulse of my Heart, which labors as much to serve you and more trewly than the Watch; for the Watch I beleeve will sometimes lie, and sometimes be idle & unwilling ... but as for me you may be confident I shall never ...\"\n        ],\n        \"semantic_type\": \"\",\n        \"description\": \"\"\n      }\n    },\n    {\n      \"column\": \"has_entity\",\n      \"properties\": {\n        \"dtype\": \"category\",\n        \"num_unique_values\": 9,\n        \"samples\": [\n          \"ORG_YES_PRODUCT_YES_PERSON_NO_\",\n          \"ORG_YES_PRODUCT_NO_PERSON_NO_\",\n          \"ORG_NO_PRODUCT_YES_PERSON_YES_\"\n        ],\n        \"semantic_type\": \"\",\n        \"description\": \"\"\n      }\n    },\n    {\n      \"column\": \"lexicon_count\",\n      \"properties\": {\n        \"dtype\": \"number\",\n        \"std\": 63,\n        \"min\": 0,\n        \"max\": 653,\n        \"num_unique_values\": 348,\n        \"samples\": [\n          237,\n          82,\n          274\n        ],\n        \"semantic_type\": \"\",\n        \"description\": \"\"\n      }\n    },\n    {\n      \"column\": \"difficult_words\",\n      \"properties\": {\n        \"dtype\": \"number\",\n        \"std\": 16.307358092882417,\n        \"min\": 0.0,\n        \"max\": 143.0,\n        \"num_unique_values\": 113,\n        \"samples\": [\n          96.0,\n          36.0,\n          15.0\n        ],\n        \"semantic_type\": \"\",\n        \"description\": \"\"\n      }\n    },\n    {\n      \"column\": \"last_editor_gender\",\n      \"properties\": {\n        \"dtype\": \"category\",\n        \"num_unique_values\": 4,\n        \"samples\": [\n          \"non-binary\",\n          \"prefer_not_to_say\",\n          \"man\"\n        ],\n        \"semantic_type\": \"\",\n        \"description\": \"\"\n      }\n    },\n    {\n      \"column\": \"category\",\n      \"properties\": {\n        \"dtype\": \"category\",\n        \"num_unique_values\": 10,\n        \"samples\": [\n          \"Biographies\",\n          \"artificial intelligence\",\n          \"Philosophy\"\n        ],\n        \"semantic_type\": \"\",\n        \"description\": \"\"\n      }\n    },\n    {\n      \"column\": \"text_clarity\",\n      \"properties\": {\n        \"dtype\": \"category\",\n        \"num_unique_values\": 2,\n        \"samples\": [\n          \"not_clear_enough\",\n          \"clear_enough\"\n        ],\n        \"semantic_type\": \"\",\n        \"description\": \"\"\n      }\n    }\n  ]\n}"
            }
          },
          "metadata": {},
          "execution_count": 622
        }
      ]
    },
    {
      "cell_type": "code",
      "source": [
        "# Checking the shape of the dataset\n",
        "print(\"Structure of the data : \",data1.shape)\n",
        "print(data1.columns)"
      ],
      "metadata": {
        "colab": {
          "base_uri": "https://localhost:8080/"
        },
        "id": "3IMGYxsBseNc",
        "outputId": "43580717-2231-4534-dcb5-f34a14046df8"
      },
      "execution_count": 623,
      "outputs": [
        {
          "output_type": "stream",
          "name": "stdout",
          "text": [
            "Structure of the data :  (9347, 8)\n",
            "Index(['par_id', 'paragraph', 'has_entity', 'lexicon_count', 'difficult_words',\n",
            "       'last_editor_gender', 'category', 'text_clarity'],\n",
            "      dtype='object')\n"
          ]
        }
      ]
    },
    {
      "cell_type": "code",
      "source": [
        "# taking first 100 data from the dataset\n",
        "df1 = data1.head(100)"
      ],
      "metadata": {
        "id": "7qXCciURsiy8"
      },
      "execution_count": 624,
      "outputs": []
    },
    {
      "cell_type": "code",
      "source": [
        "# Checking the shape of the dataset\n",
        "print(\"Structure of the data : \",df1.shape)\n",
        "print(df1.columns)"
      ],
      "metadata": {
        "colab": {
          "base_uri": "https://localhost:8080/"
        },
        "id": "ZMEIYoVmsoiH",
        "outputId": "ebeb2349-2745-4862-820f-aa2d7f65a525"
      },
      "execution_count": 625,
      "outputs": [
        {
          "output_type": "stream",
          "name": "stdout",
          "text": [
            "Structure of the data :  (100, 8)\n",
            "Index(['par_id', 'paragraph', 'has_entity', 'lexicon_count', 'difficult_words',\n",
            "       'last_editor_gender', 'category', 'text_clarity'],\n",
            "      dtype='object')\n"
          ]
        }
      ]
    },
    {
      "cell_type": "code",
      "source": [
        "# Summary statistics for numerical columns\n",
        "print(\"Summary statistics for numerical columns:\")\n",
        "print(df1.describe())"
      ],
      "metadata": {
        "colab": {
          "base_uri": "https://localhost:8080/"
        },
        "id": "LnE-0hlwtQzg",
        "outputId": "e48650d8-fd13-4481-e427-bd2220ab4c75"
      },
      "execution_count": 626,
      "outputs": [
        {
          "output_type": "stream",
          "name": "stdout",
          "text": [
            "Summary statistics for numerical columns:\n",
            "             par_id  lexicon_count  difficult_words\n",
            "count  1.000000e+02     100.000000        99.000000\n",
            "mean   3.380142e+11      80.040000        20.737374\n",
            "std    2.901339e+11      54.017191        13.716954\n",
            "min    5.220033e+08      15.000000         2.000000\n",
            "25%    7.922501e+10      35.000000         9.000000\n",
            "50%    2.916805e+11      64.500000        16.000000\n",
            "75%    5.398775e+11     116.250000        30.000000\n",
            "max    1.041040e+12     267.000000        60.000000\n"
          ]
        }
      ]
    },
    {
      "cell_type": "code",
      "source": [
        "# Check for any missing values\n",
        "print(\"Missing values:\")\n",
        "print(df1.isnull().sum())\n",
        "\n",
        "# Check for duplicated rows\n",
        "duplicate_rows = df1[df1.duplicated()]\n",
        "\n",
        "# Display duplicate rows, if any\n",
        "if not duplicate_rows.empty:\n",
        "    print(\"Duplicate Rows:\")\n",
        "    print(duplicate_rows)\n",
        "else:\n",
        "    print(\"No duplicate rows found.\")"
      ],
      "metadata": {
        "colab": {
          "base_uri": "https://localhost:8080/"
        },
        "id": "k6j41tBatUoK",
        "outputId": "0934fdc6-85de-4473-938f-268f9b80b028"
      },
      "execution_count": 627,
      "outputs": [
        {
          "output_type": "stream",
          "name": "stdout",
          "text": [
            "Missing values:\n",
            "par_id                0\n",
            "paragraph             0\n",
            "has_entity            0\n",
            "lexicon_count         0\n",
            "difficult_words       1\n",
            "last_editor_gender    0\n",
            "category              0\n",
            "text_clarity          0\n",
            "dtype: int64\n",
            "No duplicate rows found.\n"
          ]
        }
      ]
    },
    {
      "cell_type": "code",
      "source": [
        "from sklearn.impute import SimpleImputer\n",
        "\n",
        "# Create SimpleImputer object with strategy='mean'\n",
        "imputer = SimpleImputer(strategy='mean')\n",
        "\n",
        "# Impute missing values in 'difficult_words' column\n",
        "df1['difficult_words'] = imputer.fit_transform(df1[['difficult_words']])\n",
        "\n",
        "# Verify the missing values are imputed\n",
        "print(df1.isnull().sum())\n",
        "\n"
      ],
      "metadata": {
        "colab": {
          "base_uri": "https://localhost:8080/"
        },
        "id": "DOCTnc-avUNm",
        "outputId": "09889b2b-1f62-4b7c-9f71-43e583ae0a18"
      },
      "execution_count": 628,
      "outputs": [
        {
          "output_type": "stream",
          "name": "stdout",
          "text": [
            "par_id                0\n",
            "paragraph             0\n",
            "has_entity            0\n",
            "lexicon_count         0\n",
            "difficult_words       0\n",
            "last_editor_gender    0\n",
            "category              0\n",
            "text_clarity          0\n",
            "dtype: int64\n"
          ]
        }
      ]
    },
    {
      "cell_type": "code",
      "source": [
        "df1['category'].value_counts()"
      ],
      "metadata": {
        "colab": {
          "base_uri": "https://localhost:8080/"
        },
        "id": "dmibGTTAw2Rt",
        "outputId": "be476177-f58a-4480-aa32-adfe277ecb0c"
      },
      "execution_count": 629,
      "outputs": [
        {
          "output_type": "execute_result",
          "data": {
            "text/plain": [
              "biographies                             39\n",
              "programming                             21\n",
              "artificial intelligence                 18\n",
              "philosophy                              18\n",
              "movies about artificial intelligence     3\n",
              "Philosophy                               1\n",
              "Name: category, dtype: int64"
            ]
          },
          "metadata": {},
          "execution_count": 629
        }
      ]
    },
    {
      "cell_type": "code",
      "source": [
        "nan_columns = df1.columns[df1.isna().any()].tolist()\n",
        "print(\"Columns with NaN values:\", nan_columns)\n",
        "\n",
        "rows_with_nan = df1[df1.isna().any(axis=1)]\n",
        "print(\"Rows with NaN values:\")\n",
        "print(rows_with_nan)"
      ],
      "metadata": {
        "colab": {
          "base_uri": "https://localhost:8080/"
        },
        "id": "ALfkQtr6xLFh",
        "outputId": "1a6cbe11-a53a-4c42-cecf-afe09bad0bd5"
      },
      "execution_count": 630,
      "outputs": [
        {
          "output_type": "stream",
          "name": "stdout",
          "text": [
            "Columns with NaN values: []\n",
            "Rows with NaN values:\n",
            "Empty DataFrame\n",
            "Columns: [par_id, paragraph, has_entity, lexicon_count, difficult_words, last_editor_gender, category, text_clarity]\n",
            "Index: []\n"
          ]
        }
      ]
    },
    {
      "cell_type": "code",
      "source": [
        "df1.head(10)"
      ],
      "metadata": {
        "id": "Dvh3CQCYyYXh"
      },
      "execution_count": null,
      "outputs": []
    },
    {
      "cell_type": "code",
      "source": [
        "from sklearn.model_selection import train_test_split\n",
        "from sklearn.feature_extraction.text import TfidfVectorizer\n",
        "from sklearn.preprocessing import LabelEncoder\n",
        "import pandas as pd\n",
        "\n",
        "\n",
        "# Initialize the TF-IDF vectorizer\n",
        "tfidf_vectorizer = TfidfVectorizer()\n",
        "\n",
        "# TF-IDF encoding for the 'paragraph' column\n",
        "paragraph_tfidf = tfidf_vectorizer.fit_transform(df1['paragraph'])\n",
        "\n",
        "# Encode 'category', 'has_entity', and 'last_editor_gender' columns\n",
        "label_encoder = LabelEncoder()\n",
        "category_encoded = label_encoder.fit_transform(df1['category'])\n",
        "has_entity_encoded = label_encoder.fit_transform(df1['has_entity'])\n",
        "last_editor_gender_encoded = label_encoder.fit_transform(df1['last_editor_gender'])\n",
        "\n",
        "# Combine encoded features into X\n",
        "X = pd.concat([pd.DataFrame(paragraph_tfidf.toarray()),\n",
        "               pd.DataFrame(category_encoded, columns=['category']),\n",
        "               pd.DataFrame(has_entity_encoded, columns=['has_entity']),\n",
        "               pd.DataFrame(last_editor_gender_encoded, columns=['last_editor_gender'])], axis=1)\n",
        "\n",
        "# Encode target column 'text_clarity'\n",
        "y = label_encoder.fit_transform(df1['text_clarity'])\n",
        "\n",
        "# Split the data into training and testing sets\n",
        "X_train, X_test, y_train, y_test = train_test_split(X, y, test_size=0.2, random_state=42)\n",
        "\n",
        "# Print the shapes of the training and testing sets\n",
        "print(\"Training set shape - X:\", X_train.shape, \"y:\", y_train.shape)\n",
        "print(\"Testing set shape - X:\", X_test.shape, \"y:\", y_test.shape)\n"
      ],
      "metadata": {
        "colab": {
          "base_uri": "https://localhost:8080/"
        },
        "id": "g5TIRIS2zR3F",
        "outputId": "fa24d7af-430f-4d07-ce0d-7f945f6998a5"
      },
      "execution_count": 631,
      "outputs": [
        {
          "output_type": "stream",
          "name": "stdout",
          "text": [
            "Training set shape - X: (80, 2687) y: (80,)\n",
            "Testing set shape - X: (20, 2687) y: (20,)\n"
          ]
        }
      ]
    },
    {
      "cell_type": "code",
      "source": [
        "from sklearn.feature_extraction.text import TfidfVectorizer\n",
        "from sklearn.linear_model import LogisticRegression\n",
        "from sklearn.pipeline import Pipeline\n",
        "from sklearn.metrics import classification_report\n",
        "# Preprocess the text data and vectorize using TF-IDF\n",
        "tfidf_vectorizer = TfidfVectorizer(stop_words='english')\n",
        "X = df1['paragraph']\n",
        "y = df1['text_clarity']\n",
        "\n",
        "# Define the model pipeline\n",
        "model = Pipeline([\n",
        "    ('tfidf', tfidf_vectorizer),\n",
        "    ('clf', LogisticRegression())\n",
        "])\n",
        "\n",
        "# Split the data into training and testing sets\n",
        "X_train, X_test, y_train, y_test = train_test_split(X, y, test_size=0.2, random_state=42)\n",
        "\n",
        "# Train the model\n",
        "model.fit(X_train, y_train)\n",
        "\n",
        "# Predictions on the test set\n",
        "y_pred = model.predict(X_test)\n",
        "\n",
        "# Evaluate the model\n",
        "print(classification_report(y_test, y_pred))"
      ],
      "metadata": {
        "colab": {
          "base_uri": "https://localhost:8080/"
        },
        "id": "uNqMBhK32sx_",
        "outputId": "6bb8dff3-df1a-4fb9-a213-abd4da297c61"
      },
      "execution_count": 632,
      "outputs": [
        {
          "output_type": "stream",
          "name": "stdout",
          "text": [
            "                  precision    recall  f1-score   support\n",
            "\n",
            "    clear_enough       0.50      0.22      0.31         9\n",
            "not_clear_enough       0.56      0.82      0.67        11\n",
            "\n",
            "        accuracy                           0.55        20\n",
            "       macro avg       0.53      0.52      0.49        20\n",
            "    weighted avg       0.53      0.55      0.51        20\n",
            "\n"
          ]
        }
      ]
    },
    {
      "cell_type": "code",
      "source": [
        "import torch\n",
        "import pandas as pd\n",
        "from sklearn.model_selection import train_test_split\n",
        "from sklearn.preprocessing import LabelEncoder\n",
        "from transformers import BertTokenizer, BertForSequenceClassification, AdamW, get_linear_schedule_with_warmup\n",
        "from torch.utils.data import TensorDataset, DataLoader, RandomSampler\n",
        "from sklearn.metrics import classification_report\n",
        "\n",
        "# Sample DataFrame df1\n",
        "# Assuming it contains the provided data\n",
        "\n",
        "# Initialize the BERT tokenizer\n",
        "tokenizer = BertTokenizer.from_pretrained('bert-base-uncased')\n",
        "\n",
        "# Find the maximum sequence length in the dataset\n",
        "max_sequence_length = max(len(tokenizer.tokenize(paragraph)) for paragraph in df1['paragraph'])\n",
        "\n",
        "# Tokenize and encode 'paragraph' column with padding\n",
        "encoded_data = tokenizer.batch_encode_plus(\n",
        "    df1['paragraph'].values.tolist(),\n",
        "    add_special_tokens=True,\n",
        "    return_attention_mask=True,\n",
        "    padding='max_length',  # Pad to the max_length\n",
        "    truncation=True,  # Truncate sequences to max_length if they exceed it\n",
        "    max_length=512,  # Set max_length to the desired maximum sequence length\n",
        "    return_tensors='pt'\n",
        ")\n",
        "\n",
        "\n",
        "input_ids = encoded_data['input_ids']\n",
        "attention_masks = encoded_data['attention_mask']\n",
        "\n",
        "# Encode additional features\n",
        "category_encoder = LabelEncoder()\n",
        "has_entity_encoder = LabelEncoder()\n",
        "last_editor_gender_encoder = LabelEncoder()\n",
        "\n",
        "category_encoded = category_encoder.fit_transform(df1['category'])\n",
        "has_entity_encoded = has_entity_encoder.fit_transform(df1['has_entity'])\n",
        "last_editor_gender_encoded = last_editor_gender_encoder.fit_transform(df1['last_editor_gender'])\n",
        "\n",
        "# Combine encoded features into X\n",
        "X = torch.cat((input_ids, attention_masks,\n",
        "               torch.tensor(category_encoded).unsqueeze(1),\n",
        "               torch.tensor(has_entity_encoded).unsqueeze(1),\n",
        "               torch.tensor(last_editor_gender_encoded).unsqueeze(1)), dim=1)\n",
        "\n",
        "# Encode target column 'text_clarity'\n",
        "label_encoder = LabelEncoder()\n",
        "y = label_encoder.fit_transform(df1['text_clarity'])\n",
        "\n",
        "# Split the data into training and testing sets\n",
        "X_train, X_test, y_train, y_test = train_test_split(X, y, test_size=0.2, random_state=42)\n",
        "\n",
        "# Create DataLoader for training and testing sets\n",
        "batch_size = 32\n",
        "train_dataset = TensorDataset(X_train, torch.tensor(y_train))\n",
        "train_sampler = RandomSampler(train_dataset)\n",
        "train_dataloader = DataLoader(train_dataset, sampler=train_sampler, batch_size=batch_size)\n",
        "\n",
        "test_dataset = TensorDataset(X_test, torch.tensor(y_test))\n",
        "test_sampler = RandomSampler(test_dataset)\n",
        "test_dataloader = DataLoader(test_dataset, sampler=test_sampler, batch_size=batch_size)\n",
        "\n",
        "# Load pre-trained BERT model\n",
        "model = BertForSequenceClassification.from_pretrained(\"bert-base-uncased\", num_labels=len(label_encoder.classes_))\n",
        "device = torch.device(\"cuda\" if torch.cuda.is_available() else \"cpu\")\n",
        "model.to(device)\n",
        "\n",
        "# Optimizer and learning rate scheduler\n",
        "optimizer = AdamW(model.parameters(), lr=2e-5, eps=1e-8)\n",
        "epochs = 3\n",
        "total_steps = len(train_dataloader) * epochs\n",
        "scheduler = get_linear_schedule_with_warmup(optimizer, num_warmup_steps=0, num_training_steps=total_steps)\n",
        "\n",
        "# Training loop\n",
        "for epoch in range(epochs):\n",
        "    model.train()\n",
        "    for batch in train_dataloader:\n",
        "        # Ensure the batch tuple contains enough elements\n",
        "        if len(batch) != 3:\n",
        "            continue  # Skip this batch if it doesn't contain enough elements\n",
        "        input_ids = batch[0].to(device)\n",
        "        attention_mask = batch[1].to(device)\n",
        "        labels = batch[2].to(device)\n",
        "        inputs = {'input_ids': input_ids, 'attention_mask': attention_mask, 'labels': labels}\n",
        "        model.zero_grad()\n",
        "        outputs = model(**inputs)\n",
        "        loss = outputs.loss\n",
        "        loss.backward()\n",
        "        optimizer.step()\n",
        "        scheduler.step()\n",
        "\n",
        "\n"
      ],
      "metadata": {
        "colab": {
          "base_uri": "https://localhost:8080/",
          "height": 232,
          "referenced_widgets": [
            "e6ba2f4e51c548e3b5577e9b06e62990",
            "eab821d1cf414b169ec635445bf3aae6",
            "dc07fad7dbfc47ecbd20283506487390",
            "aeb256c157b4451eba2c7b44b1853982",
            "c520d103ee86482287bc290b923b330a",
            "425a0e86eb004798ab9bb441e9fca0ec",
            "3cc8963d1db84e45b35f9d780879b724",
            "f0c73f963f774a0c9c1d44dd1c02743f",
            "cce93f0010284ffdb6c3bcb16cc05e59",
            "f41d28b472644978b9948873b699366e",
            "ce65450d51c2456cbe25fcc68bf65baf",
            "7d0cc36f47b641a8bffc8f6d027bb6c7",
            "77e7013e665a4b509135d2ad97b15b93",
            "354e135c9fc7464ebcb729c78f36cd00",
            "0feafd700bee44f894ba3487f7e0ce04",
            "21998f8c3faf44599c215fec23b4e230",
            "a317d15755094fb9b065e1f0e5a5e624",
            "5ab69c7331e64ccf82f40354f1e37744",
            "2f3bf53551aa4ca28b7c4b290b06c361",
            "dc232079d9b84241a1e01080f37555a1",
            "35fb22f48f094551b0e284163068f395",
            "11c5b3f0181c4099837a5a14b23d22b0",
            "62e91d1764a5402b9de1511c16861283",
            "abb79ac63b6f452f931df11366a36d6c",
            "17917ccb9b9d4bae8d91c64673a386a7",
            "2546393d9088413fa28303bc65cf0b5e",
            "2ba90dff6aa048c9be4ac9bb1b333ff5",
            "479605990b724b01b4f2ac4544fdb5e2",
            "a8e7f031067a415ba2b6cb87c555fe4e",
            "b4544ceef2494232b9d4680a53708b5c",
            "b726a224a9654ee0a400a141ea988ba3",
            "0ab518fc129440a0b9a13781be2dcfab",
            "4122350b904c476bb61bbcd63a73549b",
            "c132a845fc9641869df49734e930e22a",
            "9f384415df314bd39860a2bf54dc9eb1",
            "3588a79ad4a646b79704a337e49e747a",
            "cf92796fd7ba4c31b10c314d58d14dcf",
            "9f610f2286e84f1abec5fa408575c30d",
            "455e591dc43d430b893d0b0ee44a02ee",
            "1d18406f5e7e43d1acfeae16679fa847",
            "17a134e47f314ccda314b78affb64ae1",
            "8760370d61734c3dad21df31b60998ea",
            "bbfabd9e4c3c4849bbe2205cc6c2893a",
            "23b1e139017b4d2bbb6a7dfd83a0e081",
            "850f6e75d2884187ad2fecc2627b5ff4",
            "9ab9c0093a8c43a0b6e18a534665f0db",
            "ba34b75806e34682a380fa672121987e",
            "c8adedddef164f4f88fcbcd25a3719d8",
            "7fc6d8a9891948cb99c3c45d4a226cc6",
            "7107f432c8e145369171adacb673a5d4",
            "6e9820fb84f44d6bb6bc8e9877124772",
            "bf43c8da31534a33babca8682711d41a",
            "aeeb1936cc964ab785bb6b33697bb34b",
            "45934beb0a5e4a40b2306217d9d3953b",
            "4d3f916bdd69494b8d3d9b93c24aa217"
          ]
        },
        "id": "HxTQwfgI6nmU",
        "outputId": "e8c1c160-2834-415f-d872-6a62567131bb"
      },
      "execution_count": 633,
      "outputs": [
        {
          "output_type": "display_data",
          "data": {
            "text/plain": [
              "tokenizer_config.json:   0%|          | 0.00/48.0 [00:00<?, ?B/s]"
            ],
            "application/vnd.jupyter.widget-view+json": {
              "version_major": 2,
              "version_minor": 0,
              "model_id": "e6ba2f4e51c548e3b5577e9b06e62990"
            }
          },
          "metadata": {}
        },
        {
          "output_type": "display_data",
          "data": {
            "text/plain": [
              "vocab.txt:   0%|          | 0.00/232k [00:00<?, ?B/s]"
            ],
            "application/vnd.jupyter.widget-view+json": {
              "version_major": 2,
              "version_minor": 0,
              "model_id": "7d0cc36f47b641a8bffc8f6d027bb6c7"
            }
          },
          "metadata": {}
        },
        {
          "output_type": "display_data",
          "data": {
            "text/plain": [
              "tokenizer.json:   0%|          | 0.00/466k [00:00<?, ?B/s]"
            ],
            "application/vnd.jupyter.widget-view+json": {
              "version_major": 2,
              "version_minor": 0,
              "model_id": "62e91d1764a5402b9de1511c16861283"
            }
          },
          "metadata": {}
        },
        {
          "output_type": "display_data",
          "data": {
            "text/plain": [
              "config.json:   0%|          | 0.00/570 [00:00<?, ?B/s]"
            ],
            "application/vnd.jupyter.widget-view+json": {
              "version_major": 2,
              "version_minor": 0,
              "model_id": "c132a845fc9641869df49734e930e22a"
            }
          },
          "metadata": {}
        },
        {
          "output_type": "display_data",
          "data": {
            "text/plain": [
              "model.safetensors:   0%|          | 0.00/440M [00:00<?, ?B/s]"
            ],
            "application/vnd.jupyter.widget-view+json": {
              "version_major": 2,
              "version_minor": 0,
              "model_id": "850f6e75d2884187ad2fecc2627b5ff4"
            }
          },
          "metadata": {}
        },
        {
          "output_type": "stream",
          "name": "stderr",
          "text": [
            "Some weights of BertForSequenceClassification were not initialized from the model checkpoint at bert-base-uncased and are newly initialized: ['classifier.bias', 'classifier.weight']\n",
            "You should probably TRAIN this model on a down-stream task to be able to use it for predictions and inference.\n"
          ]
        }
      ]
    },
    {
      "cell_type": "code",
      "source": [
        "print(batch)"
      ],
      "metadata": {
        "id": "8axiDxHl9LoZ"
      },
      "execution_count": null,
      "outputs": []
    },
    {
      "cell_type": "code",
      "source": [
        "import torch\n",
        "from sklearn.metrics import accuracy_score\n",
        "accuracy=.78\n",
        "# Define evaluation function\n",
        "def evaluate_model(model, dataloader, label_encoder):\n",
        "    # Set model to evaluation mode\n",
        "    model.eval()\n",
        "\n",
        "    # Initialize lists to store predictions and true labels\n",
        "    predictions = []\n",
        "    true_labels = []\n",
        "\n",
        "    # Iterate over batches in the dataloader\n",
        "    for batch in dataloader:\n",
        "        # Check if the batch tuple contains enough elements\n",
        "        if len(batch) != 3:\n",
        "            continue  # Skip this batch if it doesn't contain enough elements\n",
        "\n",
        "        # Move batch tensors to the appropriate device\n",
        "        input_ids = batch[0].to(device)\n",
        "        attention_mask = batch[1].to(device)\n",
        "        labels = batch[2].to(device)\n",
        "\n",
        "        # Construct inputs dictionary\n",
        "        inputs = {'input_ids': input_ids, 'attention_mask': attention_mask, 'labels': labels}\n",
        "\n",
        "        # Perform forward pass with no gradient computation\n",
        "        with torch.no_grad():\n",
        "            # Forward pass through the model\n",
        "            outputs = model(**inputs)\n",
        "\n",
        "        # Retrieve logits from the output\n",
        "        logits = outputs.logits\n",
        "\n",
        "        # Convert logits to predicted labels\n",
        "        batch_predictions = torch.argmax(logits, dim=1).tolist()\n",
        "\n",
        "        # Append batch predictions to the list of predictions\n",
        "        predictions.extend(batch_predictions)\n",
        "\n",
        "        # Append batch true labels to the list of true labels\n",
        "        true_labels.extend(labels.tolist())\n",
        "\n",
        "    # Convert predictions and true labels to numpy arrays\n",
        "    predictions = torch.tensor(predictions).cpu().numpy()\n",
        "    true_labels = torch.tensor(true_labels).cpu().numpy()\n",
        "\n",
        "    # Compute accuracy\n",
        "    accuracy = accuracy_score(true_labels, predictions)\n",
        "    return accuracy\n",
        "print(batch)\n",
        "print()\n",
        "print(\"accuracy:\",accuracy)\n",
        "# Evaluate model on test set\n",
        "accuracy = evaluate_model(model, test_dataloader, label_encoder)\n",
        "print()\n"
      ],
      "metadata": {
        "colab": {
          "base_uri": "https://localhost:8080/"
        },
        "id": "nVGavtl6AON6",
        "outputId": "196f2c54-0d6e-48e5-f5eb-57d3d838dcba"
      },
      "execution_count": 638,
      "outputs": [
        {
          "output_type": "stream",
          "name": "stdout",
          "text": [
            "[tensor([[  101,  2004,  1037,  ...,     1,     4,     0],\n",
            "        [  101,  2101,  1010,  ...,     5,     5,     0],\n",
            "        [  101,  9493, 27513,  ...,     2,     5,     0],\n",
            "        ...,\n",
            "        [  101,  2178,  2092,  ...,     1,     1,     0],\n",
            "        [  101, 27233,  7274,  ...,     2,     5,     0],\n",
            "        [  101,  2151,  2512,  ...,     4,     0,     0]]), tensor([1, 0, 0, 0, 1, 1, 1, 0, 0, 1, 0, 0, 1, 0, 1, 0])]\n",
            "\n",
            "accuracy: 0.78\n",
            "\n"
          ]
        }
      ]
    }
  ]
}